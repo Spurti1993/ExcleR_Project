{
 "cells": [
  {
   "cell_type": "code",
   "execution_count": null,
   "metadata": {
    "colab": {
     "base_uri": "https://localhost:8080/"
    },
    "id": "Ca9K7TalgyK0",
    "outputId": "ef8de04a-5842-4adf-a21d-30cc8da71cd2"
   },
   "outputs": [],
   "source": [
    "!pip freeze |grep pandas-profiling"
   ]
  },
  {
   "cell_type": "code",
   "execution_count": null,
   "metadata": {
    "colab": {
     "base_uri": "https://localhost:8080/"
    },
    "id": "KqYEHo42-1XW",
    "outputId": "f245465c-fbaf-404c-a3dd-25081062eac2"
   },
   "outputs": [],
   "source": [
    "!pip install pip-autoremove\n",
    "!pip-autoremove pandas-profiling[notebook] -y\n",
    "!pip install pandas-profiling\n",
    "!pip install ppscore\n"
   ]
  },
  {
   "cell_type": "code",
   "execution_count": 48,
   "metadata": {
    "id": "p_rOf8v1yORE"
   },
   "outputs": [],
   "source": [
    "import pandas as pd\n",
    "import numpy as np\n",
    "import pandas_profiling as pp1\n",
    "import seaborn as sns\n",
    "import matplotlib.pyplot as plt \n",
    "from sklearn.preprocessing import LabelEncoder\n",
    "from sklearn.ensemble import IsolationForest,RandomForestClassifier\n",
    "import ppscore as pps\n",
    "from sklearn.neighbors import KNeighborsClassifier\n",
    "from sklearn.feature_selection import RFE,SelectFromModel,mutual_info_classif,SelectKBest,chi2,f_classif\n",
    "from sklearn.tree import  DecisionTreeClassifier\n",
    "from sklearn.model_selection import train_test_split,cross_val_score\n",
    "from sklearn.linear_model import Lasso,LogisticRegression\n",
    "from sklearn.metrics import confusion_matrix,accuracy_score,classification_report,roc_curve,roc_auc_score,f1_score,recall_score,precision_score\n",
    "from sklearn.decomposition import PCA\n",
    "from sklearn.dummy import DummyClassifier\n",
    "from imblearn.over_sampling import SMOTE\n",
    "from collections import Counter\n",
    "from sklearn.preprocessing import MinMaxScaler\n",
    "import warnings\n",
    "warnings.filterwarnings('ignore')\n",
    "\n",
    "%matplotlib inline"
   ]
  },
  {
   "cell_type": "code",
   "execution_count": 49,
   "metadata": {
    "colab": {
     "base_uri": "https://localhost:8080/",
     "height": 357
    },
    "id": "T-UZJJNn2nGt",
    "outputId": "013cdb4a-6b7c-44d4-d9cb-ebc7bf5f4ea2"
   },
   "outputs": [
    {
     "data": {
      "text/html": [
       "<div>\n",
       "<style scoped>\n",
       "    .dataframe tbody tr th:only-of-type {\n",
       "        vertical-align: middle;\n",
       "    }\n",
       "\n",
       "    .dataframe tbody tr th {\n",
       "        vertical-align: top;\n",
       "    }\n",
       "\n",
       "    .dataframe thead th {\n",
       "        text-align: right;\n",
       "    }\n",
       "</style>\n",
       "<table border=\"1\" class=\"dataframe\">\n",
       "  <thead>\n",
       "    <tr style=\"text-align: right;\">\n",
       "      <th></th>\n",
       "      <th>number</th>\n",
       "      <th>incident_state</th>\n",
       "      <th>active</th>\n",
       "      <th>reassignment_count</th>\n",
       "      <th>reopen_count</th>\n",
       "      <th>sys_mod_count</th>\n",
       "      <th>made_sla</th>\n",
       "      <th>caller_id</th>\n",
       "      <th>opened_by</th>\n",
       "      <th>opened_at</th>\n",
       "      <th>...</th>\n",
       "      <th>u_priority_confirmation</th>\n",
       "      <th>notify</th>\n",
       "      <th>problem_id</th>\n",
       "      <th>rfc</th>\n",
       "      <th>vendor</th>\n",
       "      <th>caused_by</th>\n",
       "      <th>closed_code</th>\n",
       "      <th>resolved_by</th>\n",
       "      <th>resolved_at</th>\n",
       "      <th>closed_at</th>\n",
       "    </tr>\n",
       "  </thead>\n",
       "  <tbody>\n",
       "    <tr>\n",
       "      <th>0</th>\n",
       "      <td>INC0017836</td>\n",
       "      <td>Closed</td>\n",
       "      <td>False</td>\n",
       "      <td>0</td>\n",
       "      <td>0</td>\n",
       "      <td>6</td>\n",
       "      <td>True</td>\n",
       "      <td>Caller 3946</td>\n",
       "      <td>Opened by  17</td>\n",
       "      <td>11/4/2016 18:00</td>\n",
       "      <td>...</td>\n",
       "      <td>True</td>\n",
       "      <td>Do Not Notify</td>\n",
       "      <td>?</td>\n",
       "      <td>?</td>\n",
       "      <td>?</td>\n",
       "      <td>?</td>\n",
       "      <td>code 6</td>\n",
       "      <td>Resolved by 41</td>\n",
       "      <td>12/4/2016 14:28</td>\n",
       "      <td>17/4/2016 15:07</td>\n",
       "    </tr>\n",
       "    <tr>\n",
       "      <th>1</th>\n",
       "      <td>INC0006818</td>\n",
       "      <td>Awaiting User Info</td>\n",
       "      <td>True</td>\n",
       "      <td>1</td>\n",
       "      <td>0</td>\n",
       "      <td>7</td>\n",
       "      <td>True</td>\n",
       "      <td>Caller 4747</td>\n",
       "      <td>Opened by  500</td>\n",
       "      <td>14/3/2016 14:58</td>\n",
       "      <td>...</td>\n",
       "      <td>False</td>\n",
       "      <td>Do Not Notify</td>\n",
       "      <td>?</td>\n",
       "      <td>?</td>\n",
       "      <td>?</td>\n",
       "      <td>?</td>\n",
       "      <td>code 7</td>\n",
       "      <td>Resolved by 134</td>\n",
       "      <td>15/3/2016 18:34</td>\n",
       "      <td>24/3/2016 19:00</td>\n",
       "    </tr>\n",
       "    <tr>\n",
       "      <th>2</th>\n",
       "      <td>INC0024671</td>\n",
       "      <td>Closed</td>\n",
       "      <td>False</td>\n",
       "      <td>0</td>\n",
       "      <td>0</td>\n",
       "      <td>2</td>\n",
       "      <td>True</td>\n",
       "      <td>Caller 2500</td>\n",
       "      <td>Opened by  17</td>\n",
       "      <td>2/5/2016 08:43</td>\n",
       "      <td>...</td>\n",
       "      <td>True</td>\n",
       "      <td>Do Not Notify</td>\n",
       "      <td>?</td>\n",
       "      <td>?</td>\n",
       "      <td>?</td>\n",
       "      <td>?</td>\n",
       "      <td>code 6</td>\n",
       "      <td>Resolved by 11</td>\n",
       "      <td>2/5/2016 08:50</td>\n",
       "      <td>7/5/2016 09:07</td>\n",
       "    </tr>\n",
       "    <tr>\n",
       "      <th>3</th>\n",
       "      <td>INC0024517</td>\n",
       "      <td>Active</td>\n",
       "      <td>True</td>\n",
       "      <td>0</td>\n",
       "      <td>0</td>\n",
       "      <td>0</td>\n",
       "      <td>True</td>\n",
       "      <td>Caller 1904</td>\n",
       "      <td>Opened by  180</td>\n",
       "      <td>1/5/2016 10:40</td>\n",
       "      <td>...</td>\n",
       "      <td>False</td>\n",
       "      <td>Do Not Notify</td>\n",
       "      <td>?</td>\n",
       "      <td>?</td>\n",
       "      <td>?</td>\n",
       "      <td>?</td>\n",
       "      <td>code 6</td>\n",
       "      <td>Resolved by 85</td>\n",
       "      <td>1/5/2016 10:41</td>\n",
       "      <td>6/5/2016 11:07</td>\n",
       "    </tr>\n",
       "    <tr>\n",
       "      <th>4</th>\n",
       "      <td>INC0007788</td>\n",
       "      <td>New</td>\n",
       "      <td>True</td>\n",
       "      <td>3</td>\n",
       "      <td>0</td>\n",
       "      <td>5</td>\n",
       "      <td>True</td>\n",
       "      <td>Caller 3747</td>\n",
       "      <td>Opened by  55</td>\n",
       "      <td>16/3/2016 13:18</td>\n",
       "      <td>...</td>\n",
       "      <td>False</td>\n",
       "      <td>Do Not Notify</td>\n",
       "      <td>?</td>\n",
       "      <td>?</td>\n",
       "      <td>?</td>\n",
       "      <td>?</td>\n",
       "      <td>code 6</td>\n",
       "      <td>Resolved by 126</td>\n",
       "      <td>18/3/2016 10:41</td>\n",
       "      <td>24/3/2016 19:01</td>\n",
       "    </tr>\n",
       "  </tbody>\n",
       "</table>\n",
       "<p>5 rows × 36 columns</p>\n",
       "</div>"
      ],
      "text/plain": [
       "       number      incident_state  active  reassignment_count  reopen_count  \\\n",
       "0  INC0017836              Closed   False                   0             0   \n",
       "1  INC0006818  Awaiting User Info    True                   1             0   \n",
       "2  INC0024671              Closed   False                   0             0   \n",
       "3  INC0024517              Active    True                   0             0   \n",
       "4  INC0007788                 New    True                   3             0   \n",
       "\n",
       "   sys_mod_count  made_sla    caller_id       opened_by        opened_at  ...  \\\n",
       "0              6      True  Caller 3946   Opened by  17  11/4/2016 18:00  ...   \n",
       "1              7      True  Caller 4747  Opened by  500  14/3/2016 14:58  ...   \n",
       "2              2      True  Caller 2500   Opened by  17   2/5/2016 08:43  ...   \n",
       "3              0      True  Caller 1904  Opened by  180   1/5/2016 10:40  ...   \n",
       "4              5      True  Caller 3747   Opened by  55  16/3/2016 13:18  ...   \n",
       "\n",
       "  u_priority_confirmation         notify problem_id rfc vendor caused_by  \\\n",
       "0                    True  Do Not Notify          ?   ?      ?         ?   \n",
       "1                   False  Do Not Notify          ?   ?      ?         ?   \n",
       "2                    True  Do Not Notify          ?   ?      ?         ?   \n",
       "3                   False  Do Not Notify          ?   ?      ?         ?   \n",
       "4                   False  Do Not Notify          ?   ?      ?         ?   \n",
       "\n",
       "  closed_code      resolved_by      resolved_at        closed_at  \n",
       "0      code 6   Resolved by 41  12/4/2016 14:28  17/4/2016 15:07  \n",
       "1      code 7  Resolved by 134  15/3/2016 18:34  24/3/2016 19:00  \n",
       "2      code 6   Resolved by 11   2/5/2016 08:50   7/5/2016 09:07  \n",
       "3      code 6   Resolved by 85   1/5/2016 10:41   6/5/2016 11:07  \n",
       "4      code 6  Resolved by 126  18/3/2016 10:41  24/3/2016 19:01  \n",
       "\n",
       "[5 rows x 36 columns]"
      ]
     },
     "execution_count": 49,
     "metadata": {},
     "output_type": "execute_result"
    }
   ],
   "source": [
    "df = pd.read_csv('incident_event_log1.csv')\n",
    "df.head()"
   ]
  },
  {
   "cell_type": "code",
   "execution_count": 50,
   "metadata": {
    "colab": {
     "base_uri": "https://localhost:8080/"
    },
    "id": "TC4VMJb65Wbs",
    "outputId": "88ebb01c-ef56-4eae-a22e-7464f6ce959d"
   },
   "outputs": [
    {
     "data": {
      "text/plain": [
       "array(['Closed', 'Awaiting User Info', 'Active', 'New', 'Resolved',\n",
       "       'Awaiting Problem', 'Awaiting Vendor', 'Awaiting Evidence', '-100'],\n",
       "      dtype=object)"
      ]
     },
     "execution_count": 50,
     "metadata": {},
     "output_type": "execute_result"
    }
   ],
   "source": [
    "df.incident_state.unique()\n",
    "#'-100' in df.incident_state.unique()"
   ]
  },
  {
   "cell_type": "code",
   "execution_count": 51,
   "metadata": {
    "colab": {
     "base_uri": "https://localhost:8080/",
     "height": 357
    },
    "id": "Nk2KYFqmsHlX",
    "outputId": "1e6dbdac-63b1-471e-912b-911530206ced"
   },
   "outputs": [
    {
     "data": {
      "text/html": [
       "<div>\n",
       "<style scoped>\n",
       "    .dataframe tbody tr th:only-of-type {\n",
       "        vertical-align: middle;\n",
       "    }\n",
       "\n",
       "    .dataframe tbody tr th {\n",
       "        vertical-align: top;\n",
       "    }\n",
       "\n",
       "    .dataframe thead th {\n",
       "        text-align: right;\n",
       "    }\n",
       "</style>\n",
       "<table border=\"1\" class=\"dataframe\">\n",
       "  <thead>\n",
       "    <tr style=\"text-align: right;\">\n",
       "      <th></th>\n",
       "      <th>number</th>\n",
       "      <th>incident_state</th>\n",
       "      <th>active</th>\n",
       "      <th>reassignment_count</th>\n",
       "      <th>reopen_count</th>\n",
       "      <th>sys_mod_count</th>\n",
       "      <th>made_sla</th>\n",
       "      <th>caller_id</th>\n",
       "      <th>opened_by</th>\n",
       "      <th>opened_at</th>\n",
       "      <th>...</th>\n",
       "      <th>u_priority_confirmation</th>\n",
       "      <th>notify</th>\n",
       "      <th>problem_id</th>\n",
       "      <th>rfc</th>\n",
       "      <th>vendor</th>\n",
       "      <th>caused_by</th>\n",
       "      <th>closed_code</th>\n",
       "      <th>resolved_by</th>\n",
       "      <th>resolved_at</th>\n",
       "      <th>closed_at</th>\n",
       "    </tr>\n",
       "  </thead>\n",
       "  <tbody>\n",
       "    <tr>\n",
       "      <th>0</th>\n",
       "      <td>INC0000045</td>\n",
       "      <td>New</td>\n",
       "      <td>True</td>\n",
       "      <td>0</td>\n",
       "      <td>0</td>\n",
       "      <td>0</td>\n",
       "      <td>True</td>\n",
       "      <td>Caller 2403</td>\n",
       "      <td>Opened by  8</td>\n",
       "      <td>29/2/2016 01:16</td>\n",
       "      <td>...</td>\n",
       "      <td>False</td>\n",
       "      <td>Do Not Notify</td>\n",
       "      <td>NaN</td>\n",
       "      <td>NaN</td>\n",
       "      <td>NaN</td>\n",
       "      <td>NaN</td>\n",
       "      <td>code 5</td>\n",
       "      <td>Resolved by 149</td>\n",
       "      <td>29/2/2016 11:29</td>\n",
       "      <td>5/3/2016 12:00</td>\n",
       "    </tr>\n",
       "    <tr>\n",
       "      <th>1</th>\n",
       "      <td>INC0000045</td>\n",
       "      <td>Resolved</td>\n",
       "      <td>True</td>\n",
       "      <td>0</td>\n",
       "      <td>0</td>\n",
       "      <td>2</td>\n",
       "      <td>True</td>\n",
       "      <td>Caller 2403</td>\n",
       "      <td>Opened by  8</td>\n",
       "      <td>29/2/2016 01:16</td>\n",
       "      <td>...</td>\n",
       "      <td>False</td>\n",
       "      <td>Do Not Notify</td>\n",
       "      <td>NaN</td>\n",
       "      <td>NaN</td>\n",
       "      <td>NaN</td>\n",
       "      <td>NaN</td>\n",
       "      <td>code 5</td>\n",
       "      <td>Resolved by 149</td>\n",
       "      <td>29/2/2016 11:29</td>\n",
       "      <td>5/3/2016 12:00</td>\n",
       "    </tr>\n",
       "    <tr>\n",
       "      <th>2</th>\n",
       "      <td>INC0000045</td>\n",
       "      <td>Resolved</td>\n",
       "      <td>True</td>\n",
       "      <td>0</td>\n",
       "      <td>0</td>\n",
       "      <td>3</td>\n",
       "      <td>True</td>\n",
       "      <td>Caller 2403</td>\n",
       "      <td>Opened by  8</td>\n",
       "      <td>29/2/2016 01:16</td>\n",
       "      <td>...</td>\n",
       "      <td>False</td>\n",
       "      <td>Do Not Notify</td>\n",
       "      <td>NaN</td>\n",
       "      <td>NaN</td>\n",
       "      <td>NaN</td>\n",
       "      <td>NaN</td>\n",
       "      <td>code 5</td>\n",
       "      <td>Resolved by 149</td>\n",
       "      <td>29/2/2016 11:29</td>\n",
       "      <td>5/3/2016 12:00</td>\n",
       "    </tr>\n",
       "    <tr>\n",
       "      <th>3</th>\n",
       "      <td>INC0000045</td>\n",
       "      <td>Closed</td>\n",
       "      <td>False</td>\n",
       "      <td>0</td>\n",
       "      <td>0</td>\n",
       "      <td>4</td>\n",
       "      <td>True</td>\n",
       "      <td>Caller 2403</td>\n",
       "      <td>Opened by  8</td>\n",
       "      <td>29/2/2016 01:16</td>\n",
       "      <td>...</td>\n",
       "      <td>False</td>\n",
       "      <td>Do Not Notify</td>\n",
       "      <td>NaN</td>\n",
       "      <td>NaN</td>\n",
       "      <td>NaN</td>\n",
       "      <td>NaN</td>\n",
       "      <td>code 5</td>\n",
       "      <td>Resolved by 149</td>\n",
       "      <td>29/2/2016 11:29</td>\n",
       "      <td>5/3/2016 12:00</td>\n",
       "    </tr>\n",
       "    <tr>\n",
       "      <th>4</th>\n",
       "      <td>INC0000047</td>\n",
       "      <td>New</td>\n",
       "      <td>True</td>\n",
       "      <td>0</td>\n",
       "      <td>0</td>\n",
       "      <td>0</td>\n",
       "      <td>True</td>\n",
       "      <td>Caller 2403</td>\n",
       "      <td>Opened by  397</td>\n",
       "      <td>29/2/2016 04:40</td>\n",
       "      <td>...</td>\n",
       "      <td>False</td>\n",
       "      <td>Do Not Notify</td>\n",
       "      <td>NaN</td>\n",
       "      <td>NaN</td>\n",
       "      <td>NaN</td>\n",
       "      <td>NaN</td>\n",
       "      <td>code 5</td>\n",
       "      <td>Resolved by 81</td>\n",
       "      <td>1/3/2016 09:52</td>\n",
       "      <td>6/3/2016 10:00</td>\n",
       "    </tr>\n",
       "  </tbody>\n",
       "</table>\n",
       "<p>5 rows × 36 columns</p>\n",
       "</div>"
      ],
      "text/plain": [
       "       number incident_state  active  reassignment_count  reopen_count  \\\n",
       "0  INC0000045            New    True                   0             0   \n",
       "1  INC0000045       Resolved    True                   0             0   \n",
       "2  INC0000045       Resolved    True                   0             0   \n",
       "3  INC0000045         Closed   False                   0             0   \n",
       "4  INC0000047            New    True                   0             0   \n",
       "\n",
       "   sys_mod_count  made_sla    caller_id       opened_by        opened_at  ...  \\\n",
       "0              0      True  Caller 2403    Opened by  8  29/2/2016 01:16  ...   \n",
       "1              2      True  Caller 2403    Opened by  8  29/2/2016 01:16  ...   \n",
       "2              3      True  Caller 2403    Opened by  8  29/2/2016 01:16  ...   \n",
       "3              4      True  Caller 2403    Opened by  8  29/2/2016 01:16  ...   \n",
       "4              0      True  Caller 2403  Opened by  397  29/2/2016 04:40  ...   \n",
       "\n",
       "  u_priority_confirmation         notify problem_id  rfc vendor caused_by  \\\n",
       "0                   False  Do Not Notify        NaN  NaN    NaN       NaN   \n",
       "1                   False  Do Not Notify        NaN  NaN    NaN       NaN   \n",
       "2                   False  Do Not Notify        NaN  NaN    NaN       NaN   \n",
       "3                   False  Do Not Notify        NaN  NaN    NaN       NaN   \n",
       "4                   False  Do Not Notify        NaN  NaN    NaN       NaN   \n",
       "\n",
       "  closed_code      resolved_by      resolved_at       closed_at  \n",
       "0      code 5  Resolved by 149  29/2/2016 11:29  5/3/2016 12:00  \n",
       "1      code 5  Resolved by 149  29/2/2016 11:29  5/3/2016 12:00  \n",
       "2      code 5  Resolved by 149  29/2/2016 11:29  5/3/2016 12:00  \n",
       "3      code 5  Resolved by 149  29/2/2016 11:29  5/3/2016 12:00  \n",
       "4      code 5   Resolved by 81   1/3/2016 09:52  6/3/2016 10:00  \n",
       "\n",
       "[5 rows x 36 columns]"
      ]
     },
     "execution_count": 51,
     "metadata": {},
     "output_type": "execute_result"
    }
   ],
   "source": [
    "#As we can see ? and -100 appeared in the df which are nothing but missing values and it may hinder our further analysis.\n",
    "missing_Values = ['?','-100']\n",
    "df = pd.read_csv('incident_event_log.csv',na_values = missing_Values)\n",
    "df.head()"
   ]
  },
  {
   "cell_type": "code",
   "execution_count": 52,
   "metadata": {
    "id": "kJvIfjnBtQ_l"
   },
   "outputs": [],
   "source": [
    "#pp.ProfileReport(df).to_file('output.html')"
   ]
  },
  {
   "cell_type": "code",
   "execution_count": 53,
   "metadata": {
    "colab": {
     "base_uri": "https://localhost:8080/",
     "height": 438
    },
    "id": "9bEfZFkuKV-c",
    "outputId": "dc37d38b-4e6d-4341-b9cb-51a4d106bc31"
   },
   "outputs": [
    {
     "data": {
      "image/png": "[encoded data removed]",
      "text/plain": [
       "<Figure size 1080x360 with 1 Axes>"
      ]
     },
     "metadata": {
      "needs_background": "light"
     },
     "output_type": "display_data"
    }
   ],
   "source": [
    "#Plot of unique value of each features\n",
    "df_unq = df.nunique().reset_index()\n",
    "df_unq.columns = ['features', 'uniques']\n",
    "fig, axes = plt.subplots(figsize=(15,5))\n",
    "plot = sns.barplot(x='features', y='uniques', data=df_unq)\n",
    "plot.tick_params(axis='x', rotation=90)"
   ]
  },
  {
   "cell_type": "code",
   "execution_count": 54,
   "metadata": {
    "colab": {
     "base_uri": "https://localhost:8080/"
    },
    "id": "ZjTl7D2khcmj",
    "outputId": "cd92f4f9-4881-41f8-fb8d-30e50c3d067c"
   },
   "outputs": [
    {
     "name": "stdout",
     "output_type": "stream",
     "text": [
      "Shape of DataFrame  (141712, 36)  \n",
      " Size of DataFrame 5101632\n",
      "\n",
      " \n",
      "--------*******************************************--------\n",
      "\n",
      " Duplicat Rows in DataFrame 0\n",
      "\n",
      " \n",
      "--------*******************************************--------\n",
      "\n",
      " Total No. of Missing Values 894602\n",
      "\n",
      " \n",
      "--------*******************************************--------\n",
      "\n",
      " No. of Missing Values for each feature \n",
      "\n",
      " number                          0\n",
      "incident_state                  5\n",
      "active                          0\n",
      "reassignment_count              0\n",
      "reopen_count                    0\n",
      "sys_mod_count                   0\n",
      "made_sla                        0\n",
      "caller_id                      29\n",
      "opened_by                    4835\n",
      "opened_at                       0\n",
      "sys_created_by              53076\n",
      "sys_created_at              53076\n",
      "sys_updated_by                  0\n",
      "sys_updated_at                  0\n",
      "contact_type                    0\n",
      "location                       76\n",
      "category                       78\n",
      "subcategory                   111\n",
      "u_symptom                   32964\n",
      "cmdb_ci                    141267\n",
      "impact                          0\n",
      "urgency                         0\n",
      "priority                        0\n",
      "assignment_group            14213\n",
      "assigned_to                 27496\n",
      "knowledge                       0\n",
      "u_priority_confirmation         0\n",
      "notify                          0\n",
      "problem_id                 139417\n",
      "rfc                        140721\n",
      "vendor                     141468\n",
      "caused_by                  141689\n",
      "closed_code                   714\n",
      "resolved_by                   226\n",
      "resolved_at                  3141\n",
      "closed_at                       0\n",
      "dtype: int64\n",
      "\n",
      " \n",
      "--------*******************************************--------\n",
      "\n",
      " ===Data Types of the DataSet=== \n",
      "\n",
      " number                     object\n",
      "incident_state             object\n",
      "active                       bool\n",
      "reassignment_count          int64\n",
      "reopen_count                int64\n",
      "sys_mod_count               int64\n",
      "made_sla                     bool\n",
      "caller_id                  object\n",
      "opened_by                  object\n",
      "opened_at                  object\n",
      "sys_created_by             object\n",
      "sys_created_at             object\n",
      "sys_updated_by             object\n",
      "sys_updated_at             object\n",
      "contact_type               object\n",
      "location                   object\n",
      "category                   object\n",
      "subcategory                object\n",
      "u_symptom                  object\n",
      "cmdb_ci                    object\n",
      "impact                     object\n",
      "urgency                    object\n",
      "priority                   object\n",
      "assignment_group           object\n",
      "assigned_to                object\n",
      "knowledge                    bool\n",
      "u_priority_confirmation      bool\n",
      "notify                     object\n",
      "problem_id                 object\n",
      "rfc                        object\n",
      "vendor                     object\n",
      "caused_by                  object\n",
      "closed_code                object\n",
      "resolved_by                object\n",
      "resolved_at                object\n",
      "closed_at                  object\n",
      "dtype: object\n",
      "\n",
      " \n",
      "--------*******************************************--------\n"
     ]
    }
   ],
   "source": [
    "print('Shape of DataFrame ',df.shape,' \\n Size of DataFrame', df.size)\n",
    "print('\\n \\n--------*******************************************--------')\n",
    "print('\\n Duplicat Rows in DataFrame', df.duplicated().sum())#or use isnull\n",
    "print('\\n \\n--------*******************************************--------')\n",
    "print('\\n Total No. of Missing Values', df.isna().sum().sum())\n",
    "print('\\n \\n--------*******************************************--------')\n",
    "print('\\n No. of Missing Values for each feature \\n\\n', df.isna().sum())\n",
    "print('\\n \\n--------*******************************************--------')\n",
    "print('\\n ===Data Types of the DataSet=== \\n\\n', df.dtypes)#Identification of data types\n",
    "print('\\n \\n--------*******************************************--------')\n"
   ]
  },
  {
   "cell_type": "code",
   "execution_count": 55,
   "metadata": {
    "colab": {
     "base_uri": "https://localhost:8080/",
     "height": 476
    },
    "id": "uLKxIbRgmw0e",
    "outputId": "1835790c-d0ca-4389-9b90-624cd2876667"
   },
   "outputs": [
    {
     "data": {
      "text/html": [
       "<div>\n",
       "<style scoped>\n",
       "    .dataframe tbody tr th:only-of-type {\n",
       "        vertical-align: middle;\n",
       "    }\n",
       "\n",
       "    .dataframe tbody tr th {\n",
       "        vertical-align: top;\n",
       "    }\n",
       "\n",
       "    .dataframe thead th {\n",
       "        text-align: right;\n",
       "    }\n",
       "</style>\n",
       "<table border=\"1\" class=\"dataframe\">\n",
       "  <thead>\n",
       "    <tr style=\"text-align: right;\">\n",
       "      <th></th>\n",
       "      <th>number</th>\n",
       "      <th>incident_state</th>\n",
       "      <th>active</th>\n",
       "      <th>reassignment_count</th>\n",
       "      <th>reopen_count</th>\n",
       "      <th>sys_mod_count</th>\n",
       "      <th>made_sla</th>\n",
       "      <th>caller_id</th>\n",
       "      <th>opened_by</th>\n",
       "      <th>opened_at</th>\n",
       "      <th>...</th>\n",
       "      <th>u_priority_confirmation</th>\n",
       "      <th>notify</th>\n",
       "      <th>problem_id</th>\n",
       "      <th>rfc</th>\n",
       "      <th>vendor</th>\n",
       "      <th>caused_by</th>\n",
       "      <th>closed_code</th>\n",
       "      <th>resolved_by</th>\n",
       "      <th>resolved_at</th>\n",
       "      <th>closed_at</th>\n",
       "    </tr>\n",
       "  </thead>\n",
       "  <tbody>\n",
       "    <tr>\n",
       "      <th>count</th>\n",
       "      <td>141712</td>\n",
       "      <td>141707</td>\n",
       "      <td>141712</td>\n",
       "      <td>141712.000000</td>\n",
       "      <td>141712.000000</td>\n",
       "      <td>141712.000000</td>\n",
       "      <td>141712</td>\n",
       "      <td>141683</td>\n",
       "      <td>136877</td>\n",
       "      <td>141712</td>\n",
       "      <td>...</td>\n",
       "      <td>141712</td>\n",
       "      <td>141712</td>\n",
       "      <td>2295</td>\n",
       "      <td>991</td>\n",
       "      <td>244</td>\n",
       "      <td>23</td>\n",
       "      <td>140998</td>\n",
       "      <td>141486</td>\n",
       "      <td>138571</td>\n",
       "      <td>141712</td>\n",
       "    </tr>\n",
       "    <tr>\n",
       "      <th>unique</th>\n",
       "      <td>24918</td>\n",
       "      <td>8</td>\n",
       "      <td>2</td>\n",
       "      <td>NaN</td>\n",
       "      <td>NaN</td>\n",
       "      <td>NaN</td>\n",
       "      <td>2</td>\n",
       "      <td>5244</td>\n",
       "      <td>207</td>\n",
       "      <td>19849</td>\n",
       "      <td>...</td>\n",
       "      <td>2</td>\n",
       "      <td>2</td>\n",
       "      <td>252</td>\n",
       "      <td>181</td>\n",
       "      <td>4</td>\n",
       "      <td>3</td>\n",
       "      <td>17</td>\n",
       "      <td>216</td>\n",
       "      <td>18505</td>\n",
       "      <td>2707</td>\n",
       "    </tr>\n",
       "    <tr>\n",
       "      <th>top</th>\n",
       "      <td>INC0019396</td>\n",
       "      <td>Active</td>\n",
       "      <td>True</td>\n",
       "      <td>NaN</td>\n",
       "      <td>NaN</td>\n",
       "      <td>NaN</td>\n",
       "      <td>True</td>\n",
       "      <td>Caller 1904</td>\n",
       "      <td>Opened by  17</td>\n",
       "      <td>14/4/2016 20:42</td>\n",
       "      <td>...</td>\n",
       "      <td>False</td>\n",
       "      <td>Do Not Notify</td>\n",
       "      <td>Problem ID  14</td>\n",
       "      <td>CHG0001230</td>\n",
       "      <td>code 8s</td>\n",
       "      <td>CHG0000097</td>\n",
       "      <td>code 6</td>\n",
       "      <td>Resolved by 15</td>\n",
       "      <td>3/6/2016 16:29</td>\n",
       "      <td>24/3/2016 18:59</td>\n",
       "    </tr>\n",
       "    <tr>\n",
       "      <th>freq</th>\n",
       "      <td>58</td>\n",
       "      <td>38716</td>\n",
       "      <td>116726</td>\n",
       "      <td>NaN</td>\n",
       "      <td>NaN</td>\n",
       "      <td>NaN</td>\n",
       "      <td>132497</td>\n",
       "      <td>1425</td>\n",
       "      <td>41466</td>\n",
       "      <td>58</td>\n",
       "      <td>...</td>\n",
       "      <td>100740</td>\n",
       "      <td>141593</td>\n",
       "      <td>184</td>\n",
       "      <td>20</td>\n",
       "      <td>167</td>\n",
       "      <td>11</td>\n",
       "      <td>86583</td>\n",
       "      <td>15421</td>\n",
       "      <td>93</td>\n",
       "      <td>3324</td>\n",
       "    </tr>\n",
       "    <tr>\n",
       "      <th>mean</th>\n",
       "      <td>NaN</td>\n",
       "      <td>NaN</td>\n",
       "      <td>NaN</td>\n",
       "      <td>1.104197</td>\n",
       "      <td>0.021918</td>\n",
       "      <td>5.080946</td>\n",
       "      <td>NaN</td>\n",
       "      <td>NaN</td>\n",
       "      <td>NaN</td>\n",
       "      <td>NaN</td>\n",
       "      <td>...</td>\n",
       "      <td>NaN</td>\n",
       "      <td>NaN</td>\n",
       "      <td>NaN</td>\n",
       "      <td>NaN</td>\n",
       "      <td>NaN</td>\n",
       "      <td>NaN</td>\n",
       "      <td>NaN</td>\n",
       "      <td>NaN</td>\n",
       "      <td>NaN</td>\n",
       "      <td>NaN</td>\n",
       "    </tr>\n",
       "    <tr>\n",
       "      <th>std</th>\n",
       "      <td>NaN</td>\n",
       "      <td>NaN</td>\n",
       "      <td>NaN</td>\n",
       "      <td>1.734673</td>\n",
       "      <td>0.207302</td>\n",
       "      <td>7.680652</td>\n",
       "      <td>NaN</td>\n",
       "      <td>NaN</td>\n",
       "      <td>NaN</td>\n",
       "      <td>NaN</td>\n",
       "      <td>...</td>\n",
       "      <td>NaN</td>\n",
       "      <td>NaN</td>\n",
       "      <td>NaN</td>\n",
       "      <td>NaN</td>\n",
       "      <td>NaN</td>\n",
       "      <td>NaN</td>\n",
       "      <td>NaN</td>\n",
       "      <td>NaN</td>\n",
       "      <td>NaN</td>\n",
       "      <td>NaN</td>\n",
       "    </tr>\n",
       "    <tr>\n",
       "      <th>min</th>\n",
       "      <td>NaN</td>\n",
       "      <td>NaN</td>\n",
       "      <td>NaN</td>\n",
       "      <td>0.000000</td>\n",
       "      <td>0.000000</td>\n",
       "      <td>0.000000</td>\n",
       "      <td>NaN</td>\n",
       "      <td>NaN</td>\n",
       "      <td>NaN</td>\n",
       "      <td>NaN</td>\n",
       "      <td>...</td>\n",
       "      <td>NaN</td>\n",
       "      <td>NaN</td>\n",
       "      <td>NaN</td>\n",
       "      <td>NaN</td>\n",
       "      <td>NaN</td>\n",
       "      <td>NaN</td>\n",
       "      <td>NaN</td>\n",
       "      <td>NaN</td>\n",
       "      <td>NaN</td>\n",
       "      <td>NaN</td>\n",
       "    </tr>\n",
       "    <tr>\n",
       "      <th>25%</th>\n",
       "      <td>NaN</td>\n",
       "      <td>NaN</td>\n",
       "      <td>NaN</td>\n",
       "      <td>0.000000</td>\n",
       "      <td>0.000000</td>\n",
       "      <td>1.000000</td>\n",
       "      <td>NaN</td>\n",
       "      <td>NaN</td>\n",
       "      <td>NaN</td>\n",
       "      <td>NaN</td>\n",
       "      <td>...</td>\n",
       "      <td>NaN</td>\n",
       "      <td>NaN</td>\n",
       "      <td>NaN</td>\n",
       "      <td>NaN</td>\n",
       "      <td>NaN</td>\n",
       "      <td>NaN</td>\n",
       "      <td>NaN</td>\n",
       "      <td>NaN</td>\n",
       "      <td>NaN</td>\n",
       "      <td>NaN</td>\n",
       "    </tr>\n",
       "    <tr>\n",
       "      <th>50%</th>\n",
       "      <td>NaN</td>\n",
       "      <td>NaN</td>\n",
       "      <td>NaN</td>\n",
       "      <td>1.000000</td>\n",
       "      <td>0.000000</td>\n",
       "      <td>3.000000</td>\n",
       "      <td>NaN</td>\n",
       "      <td>NaN</td>\n",
       "      <td>NaN</td>\n",
       "      <td>NaN</td>\n",
       "      <td>...</td>\n",
       "      <td>NaN</td>\n",
       "      <td>NaN</td>\n",
       "      <td>NaN</td>\n",
       "      <td>NaN</td>\n",
       "      <td>NaN</td>\n",
       "      <td>NaN</td>\n",
       "      <td>NaN</td>\n",
       "      <td>NaN</td>\n",
       "      <td>NaN</td>\n",
       "      <td>NaN</td>\n",
       "    </tr>\n",
       "    <tr>\n",
       "      <th>75%</th>\n",
       "      <td>NaN</td>\n",
       "      <td>NaN</td>\n",
       "      <td>NaN</td>\n",
       "      <td>1.000000</td>\n",
       "      <td>0.000000</td>\n",
       "      <td>6.000000</td>\n",
       "      <td>NaN</td>\n",
       "      <td>NaN</td>\n",
       "      <td>NaN</td>\n",
       "      <td>NaN</td>\n",
       "      <td>...</td>\n",
       "      <td>NaN</td>\n",
       "      <td>NaN</td>\n",
       "      <td>NaN</td>\n",
       "      <td>NaN</td>\n",
       "      <td>NaN</td>\n",
       "      <td>NaN</td>\n",
       "      <td>NaN</td>\n",
       "      <td>NaN</td>\n",
       "      <td>NaN</td>\n",
       "      <td>NaN</td>\n",
       "    </tr>\n",
       "    <tr>\n",
       "      <th>max</th>\n",
       "      <td>NaN</td>\n",
       "      <td>NaN</td>\n",
       "      <td>NaN</td>\n",
       "      <td>27.000000</td>\n",
       "      <td>8.000000</td>\n",
       "      <td>129.000000</td>\n",
       "      <td>NaN</td>\n",
       "      <td>NaN</td>\n",
       "      <td>NaN</td>\n",
       "      <td>NaN</td>\n",
       "      <td>...</td>\n",
       "      <td>NaN</td>\n",
       "      <td>NaN</td>\n",
       "      <td>NaN</td>\n",
       "      <td>NaN</td>\n",
       "      <td>NaN</td>\n",
       "      <td>NaN</td>\n",
       "      <td>NaN</td>\n",
       "      <td>NaN</td>\n",
       "      <td>NaN</td>\n",
       "      <td>NaN</td>\n",
       "    </tr>\n",
       "  </tbody>\n",
       "</table>\n",
       "<p>11 rows × 36 columns</p>\n",
       "</div>"
      ],
      "text/plain": [
       "            number incident_state  active  reassignment_count   reopen_count  \\\n",
       "count       141712         141707  141712       141712.000000  141712.000000   \n",
       "unique       24918              8       2                 NaN            NaN   \n",
       "top     INC0019396         Active    True                 NaN            NaN   \n",
       "freq            58          38716  116726                 NaN            NaN   \n",
       "mean           NaN            NaN     NaN            1.104197       0.021918   \n",
       "std            NaN            NaN     NaN            1.734673       0.207302   \n",
       "min            NaN            NaN     NaN            0.000000       0.000000   \n",
       "25%            NaN            NaN     NaN            0.000000       0.000000   \n",
       "50%            NaN            NaN     NaN            1.000000       0.000000   \n",
       "75%            NaN            NaN     NaN            1.000000       0.000000   \n",
       "max            NaN            NaN     NaN           27.000000       8.000000   \n",
       "\n",
       "        sys_mod_count made_sla    caller_id      opened_by        opened_at  \\\n",
       "count   141712.000000   141712       141683         136877           141712   \n",
       "unique            NaN        2         5244            207            19849   \n",
       "top               NaN     True  Caller 1904  Opened by  17  14/4/2016 20:42   \n",
       "freq              NaN   132497         1425          41466               58   \n",
       "mean         5.080946      NaN          NaN            NaN              NaN   \n",
       "std          7.680652      NaN          NaN            NaN              NaN   \n",
       "min          0.000000      NaN          NaN            NaN              NaN   \n",
       "25%          1.000000      NaN          NaN            NaN              NaN   \n",
       "50%          3.000000      NaN          NaN            NaN              NaN   \n",
       "75%          6.000000      NaN          NaN            NaN              NaN   \n",
       "max        129.000000      NaN          NaN            NaN              NaN   \n",
       "\n",
       "        ... u_priority_confirmation         notify      problem_id  \\\n",
       "count   ...                  141712         141712            2295   \n",
       "unique  ...                       2              2             252   \n",
       "top     ...                   False  Do Not Notify  Problem ID  14   \n",
       "freq    ...                  100740         141593             184   \n",
       "mean    ...                     NaN            NaN             NaN   \n",
       "std     ...                     NaN            NaN             NaN   \n",
       "min     ...                     NaN            NaN             NaN   \n",
       "25%     ...                     NaN            NaN             NaN   \n",
       "50%     ...                     NaN            NaN             NaN   \n",
       "75%     ...                     NaN            NaN             NaN   \n",
       "max     ...                     NaN            NaN             NaN   \n",
       "\n",
       "               rfc   vendor   caused_by closed_code     resolved_by  \\\n",
       "count          991      244          23      140998          141486   \n",
       "unique         181        4           3          17             216   \n",
       "top     CHG0001230  code 8s  CHG0000097      code 6  Resolved by 15   \n",
       "freq            20      167          11       86583           15421   \n",
       "mean           NaN      NaN         NaN         NaN             NaN   \n",
       "std            NaN      NaN         NaN         NaN             NaN   \n",
       "min            NaN      NaN         NaN         NaN             NaN   \n",
       "25%            NaN      NaN         NaN         NaN             NaN   \n",
       "50%            NaN      NaN         NaN         NaN             NaN   \n",
       "75%            NaN      NaN         NaN         NaN             NaN   \n",
       "max            NaN      NaN         NaN         NaN             NaN   \n",
       "\n",
       "           resolved_at        closed_at  \n",
       "count           138571           141712  \n",
       "unique           18505             2707  \n",
       "top     3/6/2016 16:29  24/3/2016 18:59  \n",
       "freq                93             3324  \n",
       "mean               NaN              NaN  \n",
       "std                NaN              NaN  \n",
       "min                NaN              NaN  \n",
       "25%                NaN              NaN  \n",
       "50%                NaN              NaN  \n",
       "75%                NaN              NaN  \n",
       "max                NaN              NaN  \n",
       "\n",
       "[11 rows x 36 columns]"
      ]
     },
     "execution_count": 55,
     "metadata": {},
     "output_type": "execute_result"
    }
   ],
   "source": [
    "#Descriptive Statistic\n",
    "#For numerical parameters, fields like mean, std deviation, percentiles, and maximum have been populated.\n",
    "#For categorical features, count, un1ique, top (most frequent value), and corresponding frequency have been populated. This gives us a broad idea of our dataset.\n",
    "df.describe(include='all')"
   ]
  },
  {
   "cell_type": "code",
   "execution_count": 56,
   "metadata": {
    "colab": {
     "base_uri": "https://localhost:8080/",
     "height": 1000
    },
    "id": "zKBQlbiEVJ74",
    "outputId": "3dadfa59-bc7f-42a8-c616-c046a9b510b2"
   },
   "outputs": [
    {
     "data": {
      "text/html": [
       "<div>\n",
       "<style scoped>\n",
       "    .dataframe tbody tr th:only-of-type {\n",
       "        vertical-align: middle;\n",
       "    }\n",
       "\n",
       "    .dataframe tbody tr th {\n",
       "        vertical-align: top;\n",
       "    }\n",
       "\n",
       "    .dataframe thead th {\n",
       "        text-align: right;\n",
       "    }\n",
       "</style>\n",
       "<table border=\"1\" class=\"dataframe\">\n",
       "  <thead>\n",
       "    <tr style=\"text-align: right;\">\n",
       "      <th></th>\n",
       "      <th>feature</th>\n",
       "      <th>MissingValues</th>\n",
       "      <th>df_missingValues_Percentage</th>\n",
       "    </tr>\n",
       "  </thead>\n",
       "  <tbody>\n",
       "    <tr>\n",
       "      <th>0</th>\n",
       "      <td>number</td>\n",
       "      <td>0</td>\n",
       "      <td>0.000000</td>\n",
       "    </tr>\n",
       "    <tr>\n",
       "      <th>1</th>\n",
       "      <td>incident_state</td>\n",
       "      <td>5</td>\n",
       "      <td>0.003528</td>\n",
       "    </tr>\n",
       "    <tr>\n",
       "      <th>2</th>\n",
       "      <td>active</td>\n",
       "      <td>0</td>\n",
       "      <td>0.000000</td>\n",
       "    </tr>\n",
       "    <tr>\n",
       "      <th>3</th>\n",
       "      <td>reassignment_count</td>\n",
       "      <td>0</td>\n",
       "      <td>0.000000</td>\n",
       "    </tr>\n",
       "    <tr>\n",
       "      <th>4</th>\n",
       "      <td>reopen_count</td>\n",
       "      <td>0</td>\n",
       "      <td>0.000000</td>\n",
       "    </tr>\n",
       "    <tr>\n",
       "      <th>5</th>\n",
       "      <td>sys_mod_count</td>\n",
       "      <td>0</td>\n",
       "      <td>0.000000</td>\n",
       "    </tr>\n",
       "    <tr>\n",
       "      <th>6</th>\n",
       "      <td>made_sla</td>\n",
       "      <td>0</td>\n",
       "      <td>0.000000</td>\n",
       "    </tr>\n",
       "    <tr>\n",
       "      <th>7</th>\n",
       "      <td>caller_id</td>\n",
       "      <td>29</td>\n",
       "      <td>0.020464</td>\n",
       "    </tr>\n",
       "    <tr>\n",
       "      <th>8</th>\n",
       "      <td>opened_by</td>\n",
       "      <td>4835</td>\n",
       "      <td>3.411849</td>\n",
       "    </tr>\n",
       "    <tr>\n",
       "      <th>9</th>\n",
       "      <td>opened_at</td>\n",
       "      <td>0</td>\n",
       "      <td>0.000000</td>\n",
       "    </tr>\n",
       "    <tr>\n",
       "      <th>10</th>\n",
       "      <td>sys_created_by</td>\n",
       "      <td>53076</td>\n",
       "      <td>37.453427</td>\n",
       "    </tr>\n",
       "    <tr>\n",
       "      <th>11</th>\n",
       "      <td>sys_created_at</td>\n",
       "      <td>53076</td>\n",
       "      <td>37.453427</td>\n",
       "    </tr>\n",
       "    <tr>\n",
       "      <th>12</th>\n",
       "      <td>sys_updated_by</td>\n",
       "      <td>0</td>\n",
       "      <td>0.000000</td>\n",
       "    </tr>\n",
       "    <tr>\n",
       "      <th>13</th>\n",
       "      <td>sys_updated_at</td>\n",
       "      <td>0</td>\n",
       "      <td>0.000000</td>\n",
       "    </tr>\n",
       "    <tr>\n",
       "      <th>14</th>\n",
       "      <td>contact_type</td>\n",
       "      <td>0</td>\n",
       "      <td>0.000000</td>\n",
       "    </tr>\n",
       "    <tr>\n",
       "      <th>15</th>\n",
       "      <td>location</td>\n",
       "      <td>76</td>\n",
       "      <td>0.053630</td>\n",
       "    </tr>\n",
       "    <tr>\n",
       "      <th>16</th>\n",
       "      <td>category</td>\n",
       "      <td>78</td>\n",
       "      <td>0.055041</td>\n",
       "    </tr>\n",
       "    <tr>\n",
       "      <th>17</th>\n",
       "      <td>subcategory</td>\n",
       "      <td>111</td>\n",
       "      <td>0.078328</td>\n",
       "    </tr>\n",
       "    <tr>\n",
       "      <th>18</th>\n",
       "      <td>u_symptom</td>\n",
       "      <td>32964</td>\n",
       "      <td>23.261262</td>\n",
       "    </tr>\n",
       "    <tr>\n",
       "      <th>19</th>\n",
       "      <td>cmdb_ci</td>\n",
       "      <td>141267</td>\n",
       "      <td>99.685983</td>\n",
       "    </tr>\n",
       "    <tr>\n",
       "      <th>20</th>\n",
       "      <td>impact</td>\n",
       "      <td>0</td>\n",
       "      <td>0.000000</td>\n",
       "    </tr>\n",
       "    <tr>\n",
       "      <th>21</th>\n",
       "      <td>urgency</td>\n",
       "      <td>0</td>\n",
       "      <td>0.000000</td>\n",
       "    </tr>\n",
       "    <tr>\n",
       "      <th>22</th>\n",
       "      <td>priority</td>\n",
       "      <td>0</td>\n",
       "      <td>0.000000</td>\n",
       "    </tr>\n",
       "    <tr>\n",
       "      <th>23</th>\n",
       "      <td>assignment_group</td>\n",
       "      <td>14213</td>\n",
       "      <td>10.029496</td>\n",
       "    </tr>\n",
       "    <tr>\n",
       "      <th>24</th>\n",
       "      <td>assigned_to</td>\n",
       "      <td>27496</td>\n",
       "      <td>19.402732</td>\n",
       "    </tr>\n",
       "    <tr>\n",
       "      <th>25</th>\n",
       "      <td>knowledge</td>\n",
       "      <td>0</td>\n",
       "      <td>0.000000</td>\n",
       "    </tr>\n",
       "    <tr>\n",
       "      <th>26</th>\n",
       "      <td>u_priority_confirmation</td>\n",
       "      <td>0</td>\n",
       "      <td>0.000000</td>\n",
       "    </tr>\n",
       "    <tr>\n",
       "      <th>27</th>\n",
       "      <td>notify</td>\n",
       "      <td>0</td>\n",
       "      <td>0.000000</td>\n",
       "    </tr>\n",
       "    <tr>\n",
       "      <th>28</th>\n",
       "      <td>problem_id</td>\n",
       "      <td>139417</td>\n",
       "      <td>98.380518</td>\n",
       "    </tr>\n",
       "    <tr>\n",
       "      <th>29</th>\n",
       "      <td>rfc</td>\n",
       "      <td>140721</td>\n",
       "      <td>99.300694</td>\n",
       "    </tr>\n",
       "    <tr>\n",
       "      <th>30</th>\n",
       "      <td>vendor</td>\n",
       "      <td>141468</td>\n",
       "      <td>99.827820</td>\n",
       "    </tr>\n",
       "    <tr>\n",
       "      <th>31</th>\n",
       "      <td>caused_by</td>\n",
       "      <td>141689</td>\n",
       "      <td>99.983770</td>\n",
       "    </tr>\n",
       "    <tr>\n",
       "      <th>32</th>\n",
       "      <td>closed_code</td>\n",
       "      <td>714</td>\n",
       "      <td>0.503839</td>\n",
       "    </tr>\n",
       "    <tr>\n",
       "      <th>33</th>\n",
       "      <td>resolved_by</td>\n",
       "      <td>226</td>\n",
       "      <td>0.159478</td>\n",
       "    </tr>\n",
       "    <tr>\n",
       "      <th>34</th>\n",
       "      <td>resolved_at</td>\n",
       "      <td>3141</td>\n",
       "      <td>2.216467</td>\n",
       "    </tr>\n",
       "    <tr>\n",
       "      <th>35</th>\n",
       "      <td>closed_at</td>\n",
       "      <td>0</td>\n",
       "      <td>0.000000</td>\n",
       "    </tr>\n",
       "  </tbody>\n",
       "</table>\n",
       "</div>"
      ],
      "text/plain": [
       "                    feature  MissingValues  df_missingValues_Percentage\n",
       "0                    number              0                     0.000000\n",
       "1            incident_state              5                     0.003528\n",
       "2                    active              0                     0.000000\n",
       "3        reassignment_count              0                     0.000000\n",
       "4              reopen_count              0                     0.000000\n",
       "5             sys_mod_count              0                     0.000000\n",
       "6                  made_sla              0                     0.000000\n",
       "7                 caller_id             29                     0.020464\n",
       "8                 opened_by           4835                     3.411849\n",
       "9                 opened_at              0                     0.000000\n",
       "10           sys_created_by          53076                    37.453427\n",
       "11           sys_created_at          53076                    37.453427\n",
       "12           sys_updated_by              0                     0.000000\n",
       "13           sys_updated_at              0                     0.000000\n",
       "14             contact_type              0                     0.000000\n",
       "15                 location             76                     0.053630\n",
       "16                 category             78                     0.055041\n",
       "17              subcategory            111                     0.078328\n",
       "18                u_symptom          32964                    23.261262\n",
       "19                  cmdb_ci         141267                    99.685983\n",
       "20                   impact              0                     0.000000\n",
       "21                  urgency              0                     0.000000\n",
       "22                 priority              0                     0.000000\n",
       "23         assignment_group          14213                    10.029496\n",
       "24              assigned_to          27496                    19.402732\n",
       "25                knowledge              0                     0.000000\n",
       "26  u_priority_confirmation              0                     0.000000\n",
       "27                   notify              0                     0.000000\n",
       "28               problem_id         139417                    98.380518\n",
       "29                      rfc         140721                    99.300694\n",
       "30                   vendor         141468                    99.827820\n",
       "31                caused_by         141689                    99.983770\n",
       "32              closed_code            714                     0.503839\n",
       "33              resolved_by            226                     0.159478\n",
       "34              resolved_at           3141                     2.216467\n",
       "35                closed_at              0                     0.000000"
      ]
     },
     "execution_count": 56,
     "metadata": {},
     "output_type": "execute_result"
    }
   ],
   "source": [
    "#% of NA values of each feature\n",
    "df_missingValues = pd.DataFrame(df.isna().sum()).reset_index()\n",
    "df_missingValues.columns=['feature','MissingValues']\n",
    "df_missingValues['df_missingValues_Percentage'] = (df_missingValues.MissingValues/len(df))*100\n",
    "#df_missingValues['df_missingValues_Percentage'] = df_missingValues.MissingValues.apply(lambda x: round((x/len(incident_df1))*100))\n",
    "df_missingValues"
   ]
  },
  {
   "cell_type": "code",
   "execution_count": 57,
   "metadata": {
    "colab": {
     "base_uri": "https://localhost:8080/",
     "height": 455
    },
    "id": "KVCFdDHGcl6c",
    "outputId": "bb430eec-49ab-4ba2-b05d-a57b61d11b2d"
   },
   "outputs": [
    {
     "data": {
      "image/png": "[encoded data removed]",
      "text/plain": [
       "<Figure size 1440x360 with 1 Axes>"
      ]
     },
     "metadata": {
      "needs_background": "light"
     },
     "output_type": "display_data"
    }
   ],
   "source": [
    "#Missing value percentage plot\n",
    "fig,ax = plt.subplots(figsize=(20,5))\n",
    "sns.barplot(x='feature',y='df_missingValues_Percentage',data = df_missingValues).tick_params(axis='x', rotation=90)\n",
    "plt.title('Percentage of null values per column')\n",
    "plt.show()\n"
   ]
  },
  {
   "cell_type": "code",
   "execution_count": 58,
   "metadata": {
    "colab": {
     "base_uri": "https://localhost:8080/",
     "height": 1000
    },
    "id": "Ek4Y2IhAxEV1",
    "outputId": "266f66e6-c4da-4575-e73b-c08dea1a5cd9"
   },
   "outputs": [
    {
     "data": {
      "image/png": "[encoded data removed]",
      "text/plain": [
       "<Figure size 1440x504 with 1 Axes>"
      ]
     },
     "metadata": {
      "needs_background": "light"
     },
     "output_type": "display_data"
    },
    {
     "ename": "ConversionError",
     "evalue": "Failed to convert value(s) to axis units: 0         code 5\n1         code 5\n2         code 5\n3         code 5\n4         code 5\n           ...  \n141707    code 9\n141708    code 6\n141709    code 6\n141710    code 6\n141711    code 6\nName: x, Length: 141712, dtype: object",
     "output_type": "error",
     "traceback": [
      "\u001b[1;31m---------------------------------------------------------------------------\u001b[0m",
      "\u001b[1;31mTypeError\u001b[0m                                 Traceback (most recent call last)",
      "\u001b[1;32m~\\anaconda3\\lib\\site-packages\\matplotlib\\axis.py\u001b[0m in \u001b[0;36mconvert_units\u001b[1;34m(self, x)\u001b[0m\n\u001b[0;32m   1519\u001b[0m         \u001b[1;32mtry\u001b[0m\u001b[1;33m:\u001b[0m\u001b[1;33m\u001b[0m\u001b[1;33m\u001b[0m\u001b[0m\n\u001b[1;32m-> 1520\u001b[1;33m             \u001b[0mret\u001b[0m \u001b[1;33m=\u001b[0m \u001b[0mself\u001b[0m\u001b[1;33m.\u001b[0m\u001b[0mconverter\u001b[0m\u001b[1;33m.\u001b[0m\u001b[0mconvert\u001b[0m\u001b[1;33m(\u001b[0m\u001b[0mx\u001b[0m\u001b[1;33m,\u001b[0m \u001b[0mself\u001b[0m\u001b[1;33m.\u001b[0m\u001b[0munits\u001b[0m\u001b[1;33m,\u001b[0m \u001b[0mself\u001b[0m\u001b[1;33m)\u001b[0m\u001b[1;33m\u001b[0m\u001b[1;33m\u001b[0m\u001b[0m\n\u001b[0m\u001b[0;32m   1521\u001b[0m         \u001b[1;32mexcept\u001b[0m \u001b[0mException\u001b[0m \u001b[1;32mas\u001b[0m \u001b[0me\u001b[0m\u001b[1;33m:\u001b[0m\u001b[1;33m\u001b[0m\u001b[1;33m\u001b[0m\u001b[0m\n",
      "\u001b[1;32m~\\anaconda3\\lib\\site-packages\\matplotlib\\category.py\u001b[0m in \u001b[0;36mconvert\u001b[1;34m(value, unit, axis)\u001b[0m\n\u001b[0;32m     60\u001b[0m         \u001b[1;31m# force an update so it also does type checking\u001b[0m\u001b[1;33m\u001b[0m\u001b[1;33m\u001b[0m\u001b[1;33m\u001b[0m\u001b[0m\n\u001b[1;32m---> 61\u001b[1;33m         \u001b[0munit\u001b[0m\u001b[1;33m.\u001b[0m\u001b[0mupdate\u001b[0m\u001b[1;33m(\u001b[0m\u001b[0mvalues\u001b[0m\u001b[1;33m)\u001b[0m\u001b[1;33m\u001b[0m\u001b[1;33m\u001b[0m\u001b[0m\n\u001b[0m\u001b[0;32m     62\u001b[0m         \u001b[1;32mreturn\u001b[0m \u001b[0mnp\u001b[0m\u001b[1;33m.\u001b[0m\u001b[0mvectorize\u001b[0m\u001b[1;33m(\u001b[0m\u001b[0munit\u001b[0m\u001b[1;33m.\u001b[0m\u001b[0m_mapping\u001b[0m\u001b[1;33m.\u001b[0m\u001b[0m__getitem__\u001b[0m\u001b[1;33m,\u001b[0m \u001b[0motypes\u001b[0m\u001b[1;33m=\u001b[0m\u001b[1;33m[\u001b[0m\u001b[0mfloat\u001b[0m\u001b[1;33m]\u001b[0m\u001b[1;33m)\u001b[0m\u001b[1;33m(\u001b[0m\u001b[0mvalues\u001b[0m\u001b[1;33m)\u001b[0m\u001b[1;33m\u001b[0m\u001b[1;33m\u001b[0m\u001b[0m\n",
      "\u001b[1;32m~\\anaconda3\\lib\\site-packages\\matplotlib\\category.py\u001b[0m in \u001b[0;36mupdate\u001b[1;34m(self, data)\u001b[0m\n\u001b[0;32m    210\u001b[0m             \u001b[1;31m# OrderedDict just iterates over unique values in data.\u001b[0m\u001b[1;33m\u001b[0m\u001b[1;33m\u001b[0m\u001b[1;33m\u001b[0m\u001b[0m\n\u001b[1;32m--> 211\u001b[1;33m             \u001b[0mcbook\u001b[0m\u001b[1;33m.\u001b[0m\u001b[0m_check_isinstance\u001b[0m\u001b[1;33m(\u001b[0m\u001b[1;33m(\u001b[0m\u001b[0mstr\u001b[0m\u001b[1;33m,\u001b[0m \u001b[0mbytes\u001b[0m\u001b[1;33m)\u001b[0m\u001b[1;33m,\u001b[0m \u001b[0mvalue\u001b[0m\u001b[1;33m=\u001b[0m\u001b[0mval\u001b[0m\u001b[1;33m)\u001b[0m\u001b[1;33m\u001b[0m\u001b[1;33m\u001b[0m\u001b[0m\n\u001b[0m\u001b[0;32m    212\u001b[0m             \u001b[1;32mif\u001b[0m \u001b[0mconvertible\u001b[0m\u001b[1;33m:\u001b[0m\u001b[1;33m\u001b[0m\u001b[1;33m\u001b[0m\u001b[0m\n",
      "\u001b[1;32m~\\anaconda3\\lib\\site-packages\\matplotlib\\cbook\\__init__.py\u001b[0m in \u001b[0;36m_check_isinstance\u001b[1;34m(_types, **kwargs)\u001b[0m\n\u001b[0;32m   2245\u001b[0m         \u001b[1;32mif\u001b[0m \u001b[1;32mnot\u001b[0m \u001b[0misinstance\u001b[0m\u001b[1;33m(\u001b[0m\u001b[0mv\u001b[0m\u001b[1;33m,\u001b[0m \u001b[0mtypes\u001b[0m\u001b[1;33m)\u001b[0m\u001b[1;33m:\u001b[0m\u001b[1;33m\u001b[0m\u001b[1;33m\u001b[0m\u001b[0m\n\u001b[1;32m-> 2246\u001b[1;33m             raise TypeError(\n\u001b[0m\u001b[0;32m   2247\u001b[0m                 \"{!r} must be an instance of {}, not a {}\".format(\n",
      "\u001b[1;31mTypeError\u001b[0m: 'value' must be an instance of str or bytes, not a float",
      "\nThe above exception was the direct cause of the following exception:\n",
      "\u001b[1;31mConversionError\u001b[0m                           Traceback (most recent call last)",
      "\u001b[1;32m<ipython-input-58-e13230df47d4>\u001b[0m in \u001b[0;36m<module>\u001b[1;34m\u001b[0m\n\u001b[0;32m      8\u001b[0m \u001b[0mplt\u001b[0m\u001b[1;33m.\u001b[0m\u001b[0mshow\u001b[0m\u001b[1;33m(\u001b[0m\u001b[1;33m)\u001b[0m\u001b[1;33m\u001b[0m\u001b[1;33m\u001b[0m\u001b[0m\n\u001b[0;32m      9\u001b[0m \u001b[0mfig\u001b[0m\u001b[1;33m,\u001b[0m\u001b[0max\u001b[0m \u001b[1;33m=\u001b[0m \u001b[0mplt\u001b[0m\u001b[1;33m.\u001b[0m\u001b[0msubplots\u001b[0m\u001b[1;33m(\u001b[0m\u001b[0mfigsize\u001b[0m\u001b[1;33m=\u001b[0m\u001b[1;33m(\u001b[0m\u001b[1;36m20\u001b[0m\u001b[1;33m,\u001b[0m\u001b[1;36m7\u001b[0m\u001b[1;33m)\u001b[0m\u001b[1;33m)\u001b[0m\u001b[1;33m\u001b[0m\u001b[1;33m\u001b[0m\u001b[0m\n\u001b[1;32m---> 10\u001b[1;33m \u001b[0msns\u001b[0m\u001b[1;33m.\u001b[0m\u001b[0mhistplot\u001b[0m\u001b[1;33m(\u001b[0m\u001b[0mdf\u001b[0m\u001b[1;33m[\u001b[0m\u001b[1;34m'closed_code'\u001b[0m\u001b[1;33m]\u001b[0m\u001b[1;33m)\u001b[0m\u001b[1;33m\u001b[0m\u001b[1;33m\u001b[0m\u001b[0m\n\u001b[0m\u001b[0;32m     11\u001b[0m \u001b[0mplt\u001b[0m\u001b[1;33m.\u001b[0m\u001b[0mtitle\u001b[0m\u001b[1;33m(\u001b[0m\u001b[1;34m\"closed_code Details\"\u001b[0m\u001b[1;33m)\u001b[0m\u001b[1;33m\u001b[0m\u001b[1;33m\u001b[0m\u001b[0m\n\u001b[0;32m     12\u001b[0m \u001b[0mplt\u001b[0m\u001b[1;33m.\u001b[0m\u001b[0mxlabel\u001b[0m\u001b[1;33m(\u001b[0m\u001b[1;34m\"closed_code\"\u001b[0m\u001b[1;33m,\u001b[0m \u001b[0msize\u001b[0m\u001b[1;33m=\u001b[0m\u001b[1;36m12\u001b[0m\u001b[1;33m)\u001b[0m\u001b[1;33m\u001b[0m\u001b[1;33m\u001b[0m\u001b[0m\n",
      "\u001b[1;32m~\\anaconda3\\lib\\site-packages\\seaborn\\distributions.py\u001b[0m in \u001b[0;36mhistplot\u001b[1;34m(data, x, y, hue, weights, stat, bins, binwidth, binrange, discrete, cumulative, common_bins, common_norm, multiple, element, fill, shrink, kde, kde_kws, line_kws, thresh, pthresh, pmax, cbar, cbar_ax, cbar_kws, palette, hue_order, hue_norm, color, log_scale, legend, ax, **kwargs)\u001b[0m\n\u001b[0;32m   1420\u001b[0m     \u001b[1;32mif\u001b[0m \u001b[0mp\u001b[0m\u001b[1;33m.\u001b[0m\u001b[0munivariate\u001b[0m\u001b[1;33m:\u001b[0m\u001b[1;33m\u001b[0m\u001b[1;33m\u001b[0m\u001b[0m\n\u001b[0;32m   1421\u001b[0m \u001b[1;33m\u001b[0m\u001b[0m\n\u001b[1;32m-> 1422\u001b[1;33m         p.plot_univariate_histogram(\n\u001b[0m\u001b[0;32m   1423\u001b[0m             \u001b[0mmultiple\u001b[0m\u001b[1;33m=\u001b[0m\u001b[0mmultiple\u001b[0m\u001b[1;33m,\u001b[0m\u001b[1;33m\u001b[0m\u001b[1;33m\u001b[0m\u001b[0m\n\u001b[0;32m   1424\u001b[0m             \u001b[0melement\u001b[0m\u001b[1;33m=\u001b[0m\u001b[0melement\u001b[0m\u001b[1;33m,\u001b[0m\u001b[1;33m\u001b[0m\u001b[1;33m\u001b[0m\u001b[0m\n",
      "\u001b[1;32m~\\anaconda3\\lib\\site-packages\\seaborn\\distributions.py\u001b[0m in \u001b[0;36mplot_univariate_histogram\u001b[1;34m(self, multiple, element, fill, common_norm, common_bins, shrink, kde, kde_kws, color, legend, line_kws, estimate_kws, **plot_kws)\u001b[0m\n\u001b[0;32m    421\u001b[0m \u001b[1;33m\u001b[0m\u001b[0m\n\u001b[0;32m    422\u001b[0m         \u001b[1;31m# First pass through the data to compute the histograms\u001b[0m\u001b[1;33m\u001b[0m\u001b[1;33m\u001b[0m\u001b[1;33m\u001b[0m\u001b[0m\n\u001b[1;32m--> 423\u001b[1;33m         \u001b[1;32mfor\u001b[0m \u001b[0msub_vars\u001b[0m\u001b[1;33m,\u001b[0m \u001b[0msub_data\u001b[0m \u001b[1;32min\u001b[0m \u001b[0mself\u001b[0m\u001b[1;33m.\u001b[0m\u001b[0miter_data\u001b[0m\u001b[1;33m(\u001b[0m\u001b[1;34m\"hue\"\u001b[0m\u001b[1;33m,\u001b[0m \u001b[0mfrom_comp_data\u001b[0m\u001b[1;33m=\u001b[0m\u001b[1;32mTrue\u001b[0m\u001b[1;33m)\u001b[0m\u001b[1;33m:\u001b[0m\u001b[1;33m\u001b[0m\u001b[1;33m\u001b[0m\u001b[0m\n\u001b[0m\u001b[0;32m    424\u001b[0m \u001b[1;33m\u001b[0m\u001b[0m\n\u001b[0;32m    425\u001b[0m             \u001b[1;31m# Prepare the relevant data\u001b[0m\u001b[1;33m\u001b[0m\u001b[1;33m\u001b[0m\u001b[1;33m\u001b[0m\u001b[0m\n",
      "\u001b[1;32m~\\anaconda3\\lib\\site-packages\\seaborn\\_core.py\u001b[0m in \u001b[0;36miter_data\u001b[1;34m(self, grouping_vars, reverse, from_comp_data)\u001b[0m\n\u001b[0;32m    965\u001b[0m \u001b[1;33m\u001b[0m\u001b[0m\n\u001b[0;32m    966\u001b[0m         \u001b[1;32mif\u001b[0m \u001b[0mfrom_comp_data\u001b[0m\u001b[1;33m:\u001b[0m\u001b[1;33m\u001b[0m\u001b[1;33m\u001b[0m\u001b[0m\n\u001b[1;32m--> 967\u001b[1;33m             \u001b[0mdata\u001b[0m \u001b[1;33m=\u001b[0m \u001b[0mself\u001b[0m\u001b[1;33m.\u001b[0m\u001b[0mcomp_data\u001b[0m\u001b[1;33m\u001b[0m\u001b[1;33m\u001b[0m\u001b[0m\n\u001b[0m\u001b[0;32m    968\u001b[0m         \u001b[1;32melse\u001b[0m\u001b[1;33m:\u001b[0m\u001b[1;33m\u001b[0m\u001b[1;33m\u001b[0m\u001b[0m\n\u001b[0;32m    969\u001b[0m             \u001b[0mdata\u001b[0m \u001b[1;33m=\u001b[0m \u001b[0mself\u001b[0m\u001b[1;33m.\u001b[0m\u001b[0mplot_data\u001b[0m\u001b[1;33m\u001b[0m\u001b[1;33m\u001b[0m\u001b[0m\n",
      "\u001b[1;32m~\\anaconda3\\lib\\site-packages\\seaborn\\_core.py\u001b[0m in \u001b[0;36mcomp_data\u001b[1;34m(self)\u001b[0m\n\u001b[0;32m   1034\u001b[0m                 \u001b[0maxis\u001b[0m \u001b[1;33m=\u001b[0m \u001b[0mgetattr\u001b[0m\u001b[1;33m(\u001b[0m\u001b[0max\u001b[0m\u001b[1;33m,\u001b[0m \u001b[1;34mf\"{var}axis\"\u001b[0m\u001b[1;33m)\u001b[0m\u001b[1;33m\u001b[0m\u001b[1;33m\u001b[0m\u001b[0m\n\u001b[0;32m   1035\u001b[0m \u001b[1;33m\u001b[0m\u001b[0m\n\u001b[1;32m-> 1036\u001b[1;33m                 \u001b[0mcomp_var\u001b[0m \u001b[1;33m=\u001b[0m \u001b[0maxis\u001b[0m\u001b[1;33m.\u001b[0m\u001b[0mconvert_units\u001b[0m\u001b[1;33m(\u001b[0m\u001b[0mself\u001b[0m\u001b[1;33m.\u001b[0m\u001b[0mplot_data\u001b[0m\u001b[1;33m[\u001b[0m\u001b[0mvar\u001b[0m\u001b[1;33m]\u001b[0m\u001b[1;33m)\u001b[0m\u001b[1;33m\u001b[0m\u001b[1;33m\u001b[0m\u001b[0m\n\u001b[0m\u001b[0;32m   1037\u001b[0m                 \u001b[1;32mif\u001b[0m \u001b[0maxis\u001b[0m\u001b[1;33m.\u001b[0m\u001b[0mget_scale\u001b[0m\u001b[1;33m(\u001b[0m\u001b[1;33m)\u001b[0m \u001b[1;33m==\u001b[0m \u001b[1;34m\"log\"\u001b[0m\u001b[1;33m:\u001b[0m\u001b[1;33m\u001b[0m\u001b[1;33m\u001b[0m\u001b[0m\n\u001b[0;32m   1038\u001b[0m                     \u001b[0mcomp_var\u001b[0m \u001b[1;33m=\u001b[0m \u001b[0mnp\u001b[0m\u001b[1;33m.\u001b[0m\u001b[0mlog10\u001b[0m\u001b[1;33m(\u001b[0m\u001b[0mcomp_var\u001b[0m\u001b[1;33m)\u001b[0m\u001b[1;33m\u001b[0m\u001b[1;33m\u001b[0m\u001b[0m\n",
      "\u001b[1;32m~\\anaconda3\\lib\\site-packages\\matplotlib\\axis.py\u001b[0m in \u001b[0;36mconvert_units\u001b[1;34m(self, x)\u001b[0m\n\u001b[0;32m   1520\u001b[0m             \u001b[0mret\u001b[0m \u001b[1;33m=\u001b[0m \u001b[0mself\u001b[0m\u001b[1;33m.\u001b[0m\u001b[0mconverter\u001b[0m\u001b[1;33m.\u001b[0m\u001b[0mconvert\u001b[0m\u001b[1;33m(\u001b[0m\u001b[0mx\u001b[0m\u001b[1;33m,\u001b[0m \u001b[0mself\u001b[0m\u001b[1;33m.\u001b[0m\u001b[0munits\u001b[0m\u001b[1;33m,\u001b[0m \u001b[0mself\u001b[0m\u001b[1;33m)\u001b[0m\u001b[1;33m\u001b[0m\u001b[1;33m\u001b[0m\u001b[0m\n\u001b[0;32m   1521\u001b[0m         \u001b[1;32mexcept\u001b[0m \u001b[0mException\u001b[0m \u001b[1;32mas\u001b[0m \u001b[0me\u001b[0m\u001b[1;33m:\u001b[0m\u001b[1;33m\u001b[0m\u001b[1;33m\u001b[0m\u001b[0m\n\u001b[1;32m-> 1522\u001b[1;33m             raise munits.ConversionError('Failed to convert value(s) to axis '\n\u001b[0m\u001b[0;32m   1523\u001b[0m                                          f'units: {x!r}') from e\n\u001b[0;32m   1524\u001b[0m         \u001b[1;32mreturn\u001b[0m \u001b[0mret\u001b[0m\u001b[1;33m\u001b[0m\u001b[1;33m\u001b[0m\u001b[0m\n",
      "\u001b[1;31mConversionError\u001b[0m: Failed to convert value(s) to axis units: 0         code 5\n1         code 5\n2         code 5\n3         code 5\n4         code 5\n           ...  \n141707    code 9\n141708    code 6\n141709    code 6\n141710    code 6\n141711    code 6\nName: x, Length: 141712, dtype: object"
     ]
    },
    {
     "data": {
      "image/png": "[encoded data removed]",
      "text/plain": [
       "<Figure size 1440x504 with 1 Axes>"
      ]
     },
     "metadata": {
      "needs_background": "light"
     },
     "output_type": "display_data"
    }
   ],
   "source": [
    "#data visulaization of few features to check the frequency of feature\n",
    "fig,ax = plt.subplots(figsize=(20,7))\n",
    "sns.countplot(df['category'])\n",
    "plt.title(\"Category Details\")\n",
    "plt.xlabel(\"Category_Type\", size=12)\n",
    "plt.ylabel(\"Count\", size=12)\n",
    "plt.xticks(rotation=90)\n",
    "plt.show()\n",
    "fig,ax = plt.subplots(figsize=(20,7))\n",
    "sns.histplot(df['closed_code'])\n",
    "plt.title(\"closed_code Details\")\n",
    "plt.xlabel(\"closed_code\", size=12)\n",
    "plt.ylabel(\"Frequency\", size=12)\n",
    "plt.xticks(rotation=90)\n",
    "plt.show()\n",
    "fig,ax = plt.subplots(figsize=(8,5))\n",
    "sns.countplot(x='impact',hue='active',data=df)\n",
    "plt.title(\"Active Impact Details\")\n",
    "plt.xlabel(\"Impact\", size=12)\n",
    "plt.ylabel(\"Count\", size=12)\n",
    "plt.xticks(rotation=90)\n",
    "plt.show()"
   ]
  },
  {
   "cell_type": "code",
   "execution_count": 62,
   "metadata": {
    "colab": {
     "base_uri": "https://localhost:8080/",
     "height": 607
    },
    "id": "GZidobZEyvzt",
    "outputId": "b536b086-cb7a-40a3-e12d-264fb3bbc5f7"
   },
   "outputs": [
    {
     "ename": "TypeError",
     "evalue": "numpy boolean subtract, the `-` operator, is not supported, use the bitwise_xor, the `^` operator, or the logical_xor function instead.",
     "output_type": "error",
     "traceback": [
      "\u001b[1;31m---------------------------------------------------------------------------\u001b[0m",
      "\u001b[1;31mKeyError\u001b[0m                                  Traceback (most recent call last)",
      "\u001b[1;32m~\\anaconda3\\lib\\site-packages\\numpy\\lib\\histograms.py\u001b[0m in \u001b[0;36m_unsigned_subtract\u001b[1;34m(a, b)\u001b[0m\n\u001b[0;32m    350\u001b[0m     \u001b[1;32mtry\u001b[0m\u001b[1;33m:\u001b[0m\u001b[1;33m\u001b[0m\u001b[1;33m\u001b[0m\u001b[0m\n\u001b[1;32m--> 351\u001b[1;33m         \u001b[0mdt\u001b[0m \u001b[1;33m=\u001b[0m \u001b[0msigned_to_unsigned\u001b[0m\u001b[1;33m[\u001b[0m\u001b[0mdt\u001b[0m\u001b[1;33m.\u001b[0m\u001b[0mtype\u001b[0m\u001b[1;33m]\u001b[0m\u001b[1;33m\u001b[0m\u001b[1;33m\u001b[0m\u001b[0m\n\u001b[0m\u001b[0;32m    352\u001b[0m     \u001b[1;32mexcept\u001b[0m \u001b[0mKeyError\u001b[0m\u001b[1;33m:\u001b[0m\u001b[1;33m\u001b[0m\u001b[1;33m\u001b[0m\u001b[0m\n",
      "\u001b[1;31mKeyError\u001b[0m: <class 'numpy.bool_'>",
      "\nDuring handling of the above exception, another exception occurred:\n",
      "\u001b[1;31mTypeError\u001b[0m                                 Traceback (most recent call last)",
      "\u001b[1;32m<ipython-input-62-adb01a9abe61>\u001b[0m in \u001b[0;36m<module>\u001b[1;34m\u001b[0m\n\u001b[1;32m----> 1\u001b[1;33m \u001b[0mdf\u001b[0m\u001b[1;33m.\u001b[0m\u001b[0mhist\u001b[0m\u001b[1;33m(\u001b[0m\u001b[0mfigsize\u001b[0m\u001b[1;33m=\u001b[0m\u001b[1;33m(\u001b[0m\u001b[1;36m20\u001b[0m \u001b[1;33m,\u001b[0m \u001b[1;36m10\u001b[0m\u001b[1;33m)\u001b[0m\u001b[1;33m)\u001b[0m\u001b[1;33m\u001b[0m\u001b[1;33m\u001b[0m\u001b[0m\n\u001b[0m\u001b[0;32m      2\u001b[0m \u001b[0mplt\u001b[0m\u001b[1;33m.\u001b[0m\u001b[0mxticks\u001b[0m\u001b[1;33m(\u001b[0m\u001b[0mrotation\u001b[0m\u001b[1;33m=\u001b[0m\u001b[1;36m100\u001b[0m\u001b[1;33m)\u001b[0m\u001b[1;33m\u001b[0m\u001b[1;33m\u001b[0m\u001b[0m\n\u001b[0;32m      3\u001b[0m \u001b[0mplt\u001b[0m\u001b[1;33m.\u001b[0m\u001b[0mshow\u001b[0m\u001b[1;33m(\u001b[0m\u001b[1;33m)\u001b[0m\u001b[1;33m\u001b[0m\u001b[1;33m\u001b[0m\u001b[0m\n",
      "\u001b[1;32m~\\anaconda3\\lib\\site-packages\\pandas\\plotting\\_core.py\u001b[0m in \u001b[0;36mhist_frame\u001b[1;34m(data, column, by, grid, xlabelsize, xrot, ylabelsize, yrot, ax, sharex, sharey, figsize, layout, bins, backend, legend, **kwargs)\u001b[0m\n\u001b[0;32m    209\u001b[0m     \"\"\"\n\u001b[0;32m    210\u001b[0m     \u001b[0mplot_backend\u001b[0m \u001b[1;33m=\u001b[0m \u001b[0m_get_plot_backend\u001b[0m\u001b[1;33m(\u001b[0m\u001b[0mbackend\u001b[0m\u001b[1;33m)\u001b[0m\u001b[1;33m\u001b[0m\u001b[1;33m\u001b[0m\u001b[0m\n\u001b[1;32m--> 211\u001b[1;33m     return plot_backend.hist_frame(\n\u001b[0m\u001b[0;32m    212\u001b[0m         \u001b[0mdata\u001b[0m\u001b[1;33m,\u001b[0m\u001b[1;33m\u001b[0m\u001b[1;33m\u001b[0m\u001b[0m\n\u001b[0;32m    213\u001b[0m         \u001b[0mcolumn\u001b[0m\u001b[1;33m=\u001b[0m\u001b[0mcolumn\u001b[0m\u001b[1;33m,\u001b[0m\u001b[1;33m\u001b[0m\u001b[1;33m\u001b[0m\u001b[0m\n",
      "\u001b[1;32m~\\anaconda3\\lib\\site-packages\\pandas\\plotting\\_matplotlib\\hist.py\u001b[0m in \u001b[0;36mhist_frame\u001b[1;34m(data, column, by, grid, xlabelsize, xrot, ylabelsize, yrot, ax, sharex, sharey, figsize, layout, bins, legend, **kwds)\u001b[0m\n\u001b[0;32m    432\u001b[0m         \u001b[1;32mif\u001b[0m \u001b[0mlegend\u001b[0m \u001b[1;32mand\u001b[0m \u001b[0mcan_set_label\u001b[0m\u001b[1;33m:\u001b[0m\u001b[1;33m\u001b[0m\u001b[1;33m\u001b[0m\u001b[0m\n\u001b[0;32m    433\u001b[0m             \u001b[0mkwds\u001b[0m\u001b[1;33m[\u001b[0m\u001b[1;34m\"label\"\u001b[0m\u001b[1;33m]\u001b[0m \u001b[1;33m=\u001b[0m \u001b[0mcol\u001b[0m\u001b[1;33m\u001b[0m\u001b[1;33m\u001b[0m\u001b[0m\n\u001b[1;32m--> 434\u001b[1;33m         \u001b[0max\u001b[0m\u001b[1;33m.\u001b[0m\u001b[0mhist\u001b[0m\u001b[1;33m(\u001b[0m\u001b[0mdata\u001b[0m\u001b[1;33m[\u001b[0m\u001b[0mcol\u001b[0m\u001b[1;33m]\u001b[0m\u001b[1;33m.\u001b[0m\u001b[0mdropna\u001b[0m\u001b[1;33m(\u001b[0m\u001b[1;33m)\u001b[0m\u001b[1;33m.\u001b[0m\u001b[0mvalues\u001b[0m\u001b[1;33m,\u001b[0m \u001b[0mbins\u001b[0m\u001b[1;33m=\u001b[0m\u001b[0mbins\u001b[0m\u001b[1;33m,\u001b[0m \u001b[1;33m**\u001b[0m\u001b[0mkwds\u001b[0m\u001b[1;33m)\u001b[0m\u001b[1;33m\u001b[0m\u001b[1;33m\u001b[0m\u001b[0m\n\u001b[0m\u001b[0;32m    435\u001b[0m         \u001b[0max\u001b[0m\u001b[1;33m.\u001b[0m\u001b[0mset_title\u001b[0m\u001b[1;33m(\u001b[0m\u001b[0mcol\u001b[0m\u001b[1;33m)\u001b[0m\u001b[1;33m\u001b[0m\u001b[1;33m\u001b[0m\u001b[0m\n\u001b[0;32m    436\u001b[0m         \u001b[0max\u001b[0m\u001b[1;33m.\u001b[0m\u001b[0mgrid\u001b[0m\u001b[1;33m(\u001b[0m\u001b[0mgrid\u001b[0m\u001b[1;33m)\u001b[0m\u001b[1;33m\u001b[0m\u001b[1;33m\u001b[0m\u001b[0m\n",
      "\u001b[1;32m~\\anaconda3\\lib\\site-packages\\matplotlib\\__init__.py\u001b[0m in \u001b[0;36minner\u001b[1;34m(ax, data, *args, **kwargs)\u001b[0m\n\u001b[0;32m   1436\u001b[0m     \u001b[1;32mdef\u001b[0m \u001b[0minner\u001b[0m\u001b[1;33m(\u001b[0m\u001b[0max\u001b[0m\u001b[1;33m,\u001b[0m \u001b[1;33m*\u001b[0m\u001b[0margs\u001b[0m\u001b[1;33m,\u001b[0m \u001b[0mdata\u001b[0m\u001b[1;33m=\u001b[0m\u001b[1;32mNone\u001b[0m\u001b[1;33m,\u001b[0m \u001b[1;33m**\u001b[0m\u001b[0mkwargs\u001b[0m\u001b[1;33m)\u001b[0m\u001b[1;33m:\u001b[0m\u001b[1;33m\u001b[0m\u001b[1;33m\u001b[0m\u001b[0m\n\u001b[0;32m   1437\u001b[0m         \u001b[1;32mif\u001b[0m \u001b[0mdata\u001b[0m \u001b[1;32mis\u001b[0m \u001b[1;32mNone\u001b[0m\u001b[1;33m:\u001b[0m\u001b[1;33m\u001b[0m\u001b[1;33m\u001b[0m\u001b[0m\n\u001b[1;32m-> 1438\u001b[1;33m             \u001b[1;32mreturn\u001b[0m \u001b[0mfunc\u001b[0m\u001b[1;33m(\u001b[0m\u001b[0max\u001b[0m\u001b[1;33m,\u001b[0m \u001b[1;33m*\u001b[0m\u001b[0mmap\u001b[0m\u001b[1;33m(\u001b[0m\u001b[0msanitize_sequence\u001b[0m\u001b[1;33m,\u001b[0m \u001b[0margs\u001b[0m\u001b[1;33m)\u001b[0m\u001b[1;33m,\u001b[0m \u001b[1;33m**\u001b[0m\u001b[0mkwargs\u001b[0m\u001b[1;33m)\u001b[0m\u001b[1;33m\u001b[0m\u001b[1;33m\u001b[0m\u001b[0m\n\u001b[0m\u001b[0;32m   1439\u001b[0m \u001b[1;33m\u001b[0m\u001b[0m\n\u001b[0;32m   1440\u001b[0m         \u001b[0mbound\u001b[0m \u001b[1;33m=\u001b[0m \u001b[0mnew_sig\u001b[0m\u001b[1;33m.\u001b[0m\u001b[0mbind\u001b[0m\u001b[1;33m(\u001b[0m\u001b[0max\u001b[0m\u001b[1;33m,\u001b[0m \u001b[1;33m*\u001b[0m\u001b[0margs\u001b[0m\u001b[1;33m,\u001b[0m \u001b[1;33m**\u001b[0m\u001b[0mkwargs\u001b[0m\u001b[1;33m)\u001b[0m\u001b[1;33m\u001b[0m\u001b[1;33m\u001b[0m\u001b[0m\n",
      "\u001b[1;32m~\\anaconda3\\lib\\site-packages\\matplotlib\\axes\\_axes.py\u001b[0m in \u001b[0;36mhist\u001b[1;34m(self, x, bins, range, density, weights, cumulative, bottom, histtype, align, orientation, rwidth, log, color, label, stacked, **kwargs)\u001b[0m\n\u001b[0;32m   6654\u001b[0m             \u001b[1;31m# this will automatically overwrite bins,\u001b[0m\u001b[1;33m\u001b[0m\u001b[1;33m\u001b[0m\u001b[1;33m\u001b[0m\u001b[0m\n\u001b[0;32m   6655\u001b[0m             \u001b[1;31m# so that each histogram uses the same bins\u001b[0m\u001b[1;33m\u001b[0m\u001b[1;33m\u001b[0m\u001b[1;33m\u001b[0m\u001b[0m\n\u001b[1;32m-> 6656\u001b[1;33m             \u001b[0mm\u001b[0m\u001b[1;33m,\u001b[0m \u001b[0mbins\u001b[0m \u001b[1;33m=\u001b[0m \u001b[0mnp\u001b[0m\u001b[1;33m.\u001b[0m\u001b[0mhistogram\u001b[0m\u001b[1;33m(\u001b[0m\u001b[0mx\u001b[0m\u001b[1;33m[\u001b[0m\u001b[0mi\u001b[0m\u001b[1;33m]\u001b[0m\u001b[1;33m,\u001b[0m \u001b[0mbins\u001b[0m\u001b[1;33m,\u001b[0m \u001b[0mweights\u001b[0m\u001b[1;33m=\u001b[0m\u001b[0mw\u001b[0m\u001b[1;33m[\u001b[0m\u001b[0mi\u001b[0m\u001b[1;33m]\u001b[0m\u001b[1;33m,\u001b[0m \u001b[1;33m**\u001b[0m\u001b[0mhist_kwargs\u001b[0m\u001b[1;33m)\u001b[0m\u001b[1;33m\u001b[0m\u001b[1;33m\u001b[0m\u001b[0m\n\u001b[0m\u001b[0;32m   6657\u001b[0m             \u001b[0mtops\u001b[0m\u001b[1;33m.\u001b[0m\u001b[0mappend\u001b[0m\u001b[1;33m(\u001b[0m\u001b[0mm\u001b[0m\u001b[1;33m)\u001b[0m\u001b[1;33m\u001b[0m\u001b[1;33m\u001b[0m\u001b[0m\n\u001b[0;32m   6658\u001b[0m         \u001b[0mtops\u001b[0m \u001b[1;33m=\u001b[0m \u001b[0mnp\u001b[0m\u001b[1;33m.\u001b[0m\u001b[0marray\u001b[0m\u001b[1;33m(\u001b[0m\u001b[0mtops\u001b[0m\u001b[1;33m,\u001b[0m \u001b[0mfloat\u001b[0m\u001b[1;33m)\u001b[0m  \u001b[1;31m# causes problems later if it's an int\u001b[0m\u001b[1;33m\u001b[0m\u001b[1;33m\u001b[0m\u001b[0m\n",
      "\u001b[1;32m<__array_function__ internals>\u001b[0m in \u001b[0;36mhistogram\u001b[1;34m(*args, **kwargs)\u001b[0m\n",
      "\u001b[1;32m~\\anaconda3\\lib\\site-packages\\numpy\\lib\\histograms.py\u001b[0m in \u001b[0;36mhistogram\u001b[1;34m(a, bins, range, normed, weights, density)\u001b[0m\n\u001b[0;32m    820\u001b[0m \u001b[1;33m\u001b[0m\u001b[0m\n\u001b[0;32m    821\u001b[0m         \u001b[1;31m# Pre-compute histogram scaling factor\u001b[0m\u001b[1;33m\u001b[0m\u001b[1;33m\u001b[0m\u001b[1;33m\u001b[0m\u001b[0m\n\u001b[1;32m--> 822\u001b[1;33m         \u001b[0mnorm\u001b[0m \u001b[1;33m=\u001b[0m \u001b[0mn_equal_bins\u001b[0m \u001b[1;33m/\u001b[0m \u001b[0m_unsigned_subtract\u001b[0m\u001b[1;33m(\u001b[0m\u001b[0mlast_edge\u001b[0m\u001b[1;33m,\u001b[0m \u001b[0mfirst_edge\u001b[0m\u001b[1;33m)\u001b[0m\u001b[1;33m\u001b[0m\u001b[1;33m\u001b[0m\u001b[0m\n\u001b[0m\u001b[0;32m    823\u001b[0m \u001b[1;33m\u001b[0m\u001b[0m\n\u001b[0;32m    824\u001b[0m         \u001b[1;31m# We iterate over blocks here for two reasons: the first is that for\u001b[0m\u001b[1;33m\u001b[0m\u001b[1;33m\u001b[0m\u001b[1;33m\u001b[0m\u001b[0m\n",
      "\u001b[1;32m~\\anaconda3\\lib\\site-packages\\numpy\\lib\\histograms.py\u001b[0m in \u001b[0;36m_unsigned_subtract\u001b[1;34m(a, b)\u001b[0m\n\u001b[0;32m    351\u001b[0m         \u001b[0mdt\u001b[0m \u001b[1;33m=\u001b[0m \u001b[0msigned_to_unsigned\u001b[0m\u001b[1;33m[\u001b[0m\u001b[0mdt\u001b[0m\u001b[1;33m.\u001b[0m\u001b[0mtype\u001b[0m\u001b[1;33m]\u001b[0m\u001b[1;33m\u001b[0m\u001b[1;33m\u001b[0m\u001b[0m\n\u001b[0;32m    352\u001b[0m     \u001b[1;32mexcept\u001b[0m \u001b[0mKeyError\u001b[0m\u001b[1;33m:\u001b[0m\u001b[1;33m\u001b[0m\u001b[1;33m\u001b[0m\u001b[0m\n\u001b[1;32m--> 353\u001b[1;33m         \u001b[1;32mreturn\u001b[0m \u001b[0mnp\u001b[0m\u001b[1;33m.\u001b[0m\u001b[0msubtract\u001b[0m\u001b[1;33m(\u001b[0m\u001b[0ma\u001b[0m\u001b[1;33m,\u001b[0m \u001b[0mb\u001b[0m\u001b[1;33m,\u001b[0m \u001b[0mdtype\u001b[0m\u001b[1;33m=\u001b[0m\u001b[0mdt\u001b[0m\u001b[1;33m)\u001b[0m\u001b[1;33m\u001b[0m\u001b[1;33m\u001b[0m\u001b[0m\n\u001b[0m\u001b[0;32m    354\u001b[0m     \u001b[1;32melse\u001b[0m\u001b[1;33m:\u001b[0m\u001b[1;33m\u001b[0m\u001b[1;33m\u001b[0m\u001b[0m\n\u001b[0;32m    355\u001b[0m         \u001b[1;31m# we know the inputs are integers, and we are deliberately casting\u001b[0m\u001b[1;33m\u001b[0m\u001b[1;33m\u001b[0m\u001b[1;33m\u001b[0m\u001b[0m\n",
      "\u001b[1;31mTypeError\u001b[0m: numpy boolean subtract, the `-` operator, is not supported, use the bitwise_xor, the `^` operator, or the logical_xor function instead."
     ]
    },
    {
     "data": {
      "image/png": "[encoded data removed]",
      "text/plain": [
       "<Figure size 1440x720 with 9 Axes>"
      ]
     },
     "metadata": {
      "needs_background": "light"
     },
     "output_type": "display_data"
    }
   ],
   "source": [
    "df.hist(figsize=(20 , 10))\n",
    "plt.xticks(rotation=100)\n",
    "plt.show()"
   ]
  },
  {
   "cell_type": "code",
   "execution_count": 63,
   "metadata": {
    "colab": {
     "base_uri": "https://localhost:8080/"
    },
    "id": "VsMPFNisgO0Y",
    "outputId": "bf01ab96-6388-43d7-dfed-545d82c5ea22"
   },
   "outputs": [
    {
     "name": "stdout",
     "output_type": "stream",
     "text": [
      "\n",
      " Categorical Feature  Boolean Feature      Numerical Feature    Date Feature        \n",
      "23                   5                    3                    5                   \n"
     ]
    }
   ],
   "source": [
    "#Converting the datatype from obj to datetime format Date column handling\n",
    "df[['opened_at','sys_created_at','sys_updated_at','resolved_at','closed_at']] = df[['opened_at','sys_created_at','sys_updated_at','resolved_at','closed_at']].apply(pd.to_datetime)\n",
    "df[['opened_at','sys_created_at','sys_updated_at','resolved_at','closed_at']].dtypes\n",
    "\n",
    "#converting the datatype from obj to bool\n",
    "df['notify']=df['notify'].astype('bool')\n",
    "\n",
    "# List of categorical Data\n",
    "cat_df = df.select_dtypes(include='object')#categorical data\n",
    "bool_df = df.select_dtypes(include='bool')#Boolean data\n",
    "num_df = df.select_dtypes(include='int64')#Numeric data\n",
    "date_df = df.select_dtypes(include='datetime64[ns]')#datetime data\n",
    "#Printing in tabular format\n",
    "print (\"\\n {:<20} {:<20} {:<20} {:<20}\".format('Categorical Feature','Boolean Feature','Numerical Feature','Date Feature'))\n",
    "print(\"{:<20} {:<20} {:<20} {:<20}\".format(len(cat_df.columns),len(bool_df.columns),len(num_df.columns),len(date_df.columns)))"
   ]
  },
  {
   "cell_type": "code",
   "execution_count": 64,
   "metadata": {
    "colab": {
     "base_uri": "https://localhost:8080/",
     "height": 377
    },
    "id": "WYiOjtpZvFvK",
    "outputId": "a26c201d-4c7a-464a-bc6d-2b5fcc17fe27"
   },
   "outputs": [
    {
     "data": {
      "image/png": "[encoded data removed]",
      "text/plain": [
       "<Figure size 432x288 with 1 Axes>"
      ]
     },
     "metadata": {
      "needs_background": "light"
     },
     "output_type": "display_data"
    }
   ],
   "source": [
    "#plot Incident Details w.r.t Year\n",
    "pd.crosstab(df.incident_state,df.opened_at.dt.year).plot(kind='bar')\n",
    "plt.title(\"Incident Details w.r.t Year\")\n",
    "plt.show()"
   ]
  },
  {
   "cell_type": "code",
   "execution_count": 65,
   "metadata": {
    "colab": {
     "base_uri": "https://localhost:8080/",
     "height": 282
    },
    "id": "C8m6qfGl7mnb",
    "outputId": "21b72df2-c98a-48e4-9f2a-15fc59f1fc24"
   },
   "outputs": [
    {
     "data": {
      "text/plain": [
       "<AxesSubplot:ylabel='Frequency'>"
      ]
     },
     "execution_count": 65,
     "metadata": {},
     "output_type": "execute_result"
    },
    {
     "data": {
      "image/png": "[encoded data removed]",
      "text/plain": [
       "<Figure size 432x288 with 1 Axes>"
      ]
     },
     "metadata": {
      "needs_background": "light"
     },
     "output_type": "display_data"
    }
   ],
   "source": [
    "\n",
    "df_1 = df[['opened_at','incident_state']]\n",
    "df_1['year']=df_1.opened_at.dt.year\n",
    "df_1['month']=df_1.opened_at.dt.month\n",
    "df_1.groupby(['year','month'])['incident_state'].value_counts().plot(kind='hist',x='incident_state')"
   ]
  },
  {
   "cell_type": "code",
   "execution_count": 66,
   "metadata": {
    "colab": {
     "base_uri": "https://localhost:8080/",
     "height": 1000
    },
    "id": "hWhuE5S_QfYX",
    "outputId": "06e5e0d5-8a4b-44fb-a6a3-65c17be7b5ee"
   },
   "outputs": [
    {
     "data": {
      "image/png": "[encoded data removed]",
      "text/plain": [
       "<Figure size 432x288 with 1 Axes>"
      ]
     },
     "metadata": {
      "needs_background": "light"
     },
     "output_type": "display_data"
    },
    {
     "data": {
      "image/png": "[encoded data removed]",
      "text/plain": [
       "<Figure size 432x288 with 1 Axes>"
      ]
     },
     "metadata": {
      "needs_background": "light"
     },
     "output_type": "display_data"
    },
    {
     "data": {
      "image/png": "[encoded data removed]",
      "text/plain": [
       "<Figure size 432x288 with 1 Axes>"
      ]
     },
     "metadata": {
      "needs_background": "light"
     },
     "output_type": "display_data"
    },
    {
     "data": {
      "image/png": "[encoded data removed]",
      "text/plain": [
       "<Figure size 432x288 with 1 Axes>"
      ]
     },
     "metadata": {
      "needs_background": "light"
     },
     "output_type": "display_data"
    },
    {
     "data": {
      "image/png": "[encoded data removed]",
      "text/plain": [
       "<Figure size 432x288 with 1 Axes>"
      ]
     },
     "metadata": {
      "needs_background": "light"
     },
     "output_type": "display_data"
    },
    {
     "data": {
      "image/png": "[encoded data removed]",
      "text/plain": [
       "<Figure size 432x288 with 1 Axes>"
      ]
     },
     "metadata": {
      "needs_background": "light"
     },
     "output_type": "display_data"
    }
   ],
   "source": [
    "#no. of incidents opened in yearly based vs monthly based vs hourly based\n",
    "date_df['opened_at_Year'] = date_df.opened_at.dt.strftime('%Y')\n",
    "date_df['opened_at_month'] = date_df.opened_at.dt.strftime('%b')\n",
    "date_df['opened_at_Hour'] = date_df.opened_at.dt.strftime('%H')\n",
    "sns.histplot(data=df, x=date_df.opened_at_Year, hue='incident_state')\n",
    "plt.title('No. of Open Incident Yearly')\n",
    "plt.show()\n",
    "sns.histplot(data=date_df, x=date_df.opened_at_month)\n",
    "plt.title('No. of Open Incident Monthly')\n",
    "plt.show()\n",
    "sns.histplot(data=date_df, x=date_df.opened_at_month)\n",
    "plt.title('No. of Open Incident Hourly')\n",
    "plt.show()\n",
    "date_df['closed_at_Year'] = date_df.closed_at.dt.strftime('%Y')\n",
    "date_df['closed_at_month'] = date_df.closed_at.dt.strftime('%b')\n",
    "date_df['closed_at_Hour'] = date_df.closed_at.dt.strftime('%H')\n",
    "sns.histplot(data=date_df, x=date_df.closed_at_Year)\n",
    "plt.title('No. of Closed Incident Yearly')\n",
    "plt.show()\n",
    "sns.histplot(data=date_df, x=date_df.closed_at_month)\n",
    "plt.title('No. of Closed Incident Monthly')\n",
    "plt.show()\n",
    "sns.histplot(data=date_df, x=date_df.closed_at_Hour)\n",
    "plt.title('No. of Closed Incident Hourly')\n",
    "plt.show()\n",
    "\n"
   ]
  },
  {
   "cell_type": "code",
   "execution_count": 67,
   "metadata": {
    "colab": {
     "base_uri": "https://localhost:8080/",
     "height": 431
    },
    "id": "6ZjT8zr7BzMR",
    "outputId": "9b04210f-b898-46e2-a90e-130081d7fedc"
   },
   "outputs": [
    {
     "data": {
      "text/plain": [
       "Text(0.5, 0.98, 'Numeric Feature distribution')"
      ]
     },
     "execution_count": 67,
     "metadata": {},
     "output_type": "execute_result"
    },
    {
     "data": {
      "image/png": "[encoded data removed]",
      "text/plain": [
       "<Figure size 2160x576 with 3 Axes>"
      ]
     },
     "metadata": {
      "needs_background": "light"
     },
     "output_type": "display_data"
    }
   ],
   "source": [
    "#visualizing numeric column\n",
    "num_df.columns\n",
    "fig, ax = plt.subplots(1, 3 , figsize=(30,8))\n",
    "for idx, ax in enumerate(ax):\n",
    "    sns.histplot(data=num_df, x=num_df.iloc[:,idx], ax=ax)\n",
    "\n",
    "fig.suptitle('Numeric Feature distribution', ha='center', fontweight='bold')\n",
    "#numeric features have a left skewed distribution.\n"
   ]
  },
  {
   "cell_type": "code",
   "execution_count": 68,
   "metadata": {
    "colab": {
     "base_uri": "https://localhost:8080/",
     "height": 1000
    },
    "id": "Pu-aKE3Xjwoh",
    "outputId": "96df155f-dd44-4b02-d914-1a2453f3a1a7"
   },
   "outputs": [
    {
     "data": {
      "image/png": "[encoded data removed]",
      "text/plain": [
       "<Figure size 432x288 with 1 Axes>"
      ]
     },
     "metadata": {
      "needs_background": "light"
     },
     "output_type": "display_data"
    },
    {
     "data": {
      "image/png": "[encoded data removed]",
      "text/plain": [
       "<Figure size 432x288 with 1 Axes>"
      ]
     },
     "metadata": {
      "needs_background": "light"
     },
     "output_type": "display_data"
    },
    {
     "data": {
      "image/png": "[encoded data removed]",
      "text/plain": [
       "<Figure size 432x288 with 1 Axes>"
      ]
     },
     "metadata": {
      "needs_background": "light"
     },
     "output_type": "display_data"
    },
    {
     "data": {
      "image/png": "[encoded data removed]",
      "text/plain": [
       "<Figure size 432x288 with 1 Axes>"
      ]
     },
     "metadata": {
      "needs_background": "light"
     },
     "output_type": "display_data"
    },
    {
     "data": {
      "image/png": "[encoded data removed]",
      "text/plain": [
       "<Figure size 432x288 with 1 Axes>"
      ]
     },
     "metadata": {
      "needs_background": "light"
     },
     "output_type": "display_data"
    }
   ],
   "source": [
    "bol_df = df.select_dtypes(include='bool')\n",
    "for col in bol_df.columns:\n",
    "  df[col].value_counts().plot.bar()\n",
    "  plt.ylabel(col+' Frequency')\n",
    "  plt.show()"
   ]
  },
  {
   "cell_type": "code",
   "execution_count": 69,
   "metadata": {
    "colab": {
     "base_uri": "https://localhost:8080/"
    },
    "id": "tdDw8K7bwMmW",
    "outputId": "21263a2d-f326-44a6-9b35-3fde6659de8b"
   },
   "outputs": [
    {
     "name": "stdout",
     "output_type": "stream",
     "text": [
      "Shape of DataFrame After Drop (141712, 31)\n",
      "\n",
      "--------*******************************************--------\n",
      "\n",
      " Total No. of Missing Values 190040\n",
      "\n",
      " \n",
      "--------*******************************************--------\n",
      "\n",
      " No. of Missing Values for each feature \n",
      "\n",
      " number                         0\n",
      "incident_state                 5\n",
      "active                         0\n",
      "reassignment_count             0\n",
      "reopen_count                   0\n",
      "sys_mod_count                  0\n",
      "made_sla                       0\n",
      "caller_id                     29\n",
      "opened_by                   4835\n",
      "opened_at                      0\n",
      "sys_created_by             53076\n",
      "sys_created_at             53076\n",
      "sys_updated_by                 0\n",
      "sys_updated_at                 0\n",
      "contact_type                   0\n",
      "location                      76\n",
      "category                      78\n",
      "subcategory                  111\n",
      "u_symptom                  32964\n",
      "impact                         0\n",
      "urgency                        0\n",
      "priority                       0\n",
      "assignment_group           14213\n",
      "assigned_to                27496\n",
      "knowledge                      0\n",
      "u_priority_confirmation        0\n",
      "notify                         0\n",
      "closed_code                  714\n",
      "resolved_by                  226\n",
      "resolved_at                 3141\n",
      "closed_at                      0\n",
      "dtype: int64\n",
      "\n",
      " \n",
      "--------*******************************************--------\n",
      "Shape of DataFrame After Drop 2 (141707, 31)\n",
      "\n",
      " \n",
      "--------*******************************************--------\n",
      "\n",
      " \n",
      " Total No. of Missing Values 190030\n",
      "\n",
      " \n",
      "--------*******************************************--------\n",
      "\n",
      " \n",
      " No. of Missing Values for each feature \n",
      "\n",
      " number                         0\n",
      "incident_state                 0\n",
      "active                         0\n",
      "reassignment_count             0\n",
      "reopen_count                   0\n",
      "sys_mod_count                  0\n",
      "made_sla                       0\n",
      "caller_id                     29\n",
      "opened_by                   4835\n",
      "opened_at                      0\n",
      "sys_created_by             53076\n",
      "sys_created_at             53076\n",
      "sys_updated_by                 0\n",
      "sys_updated_at                 0\n",
      "contact_type                   0\n",
      "location                      76\n",
      "category                      78\n",
      "subcategory                  111\n",
      "u_symptom                  32959\n",
      "impact                         0\n",
      "urgency                        0\n",
      "priority                       0\n",
      "assignment_group           14213\n",
      "assigned_to                27496\n",
      "knowledge                      0\n",
      "u_priority_confirmation        0\n",
      "notify                         0\n",
      "closed_code                  714\n",
      "resolved_by                  226\n",
      "resolved_at                 3141\n",
      "closed_at                      0\n",
      "dtype: int64\n",
      "\n",
      " \n",
      "--------*******************************************--------\n",
      "Size of DataFrame (141707, 31)\n",
      "\n",
      " \n",
      "--------*******************************************--------\n",
      "\n",
      " \n",
      " Total No. of Missing Values 0\n",
      "\n",
      " \n",
      "--------*******************************************--------\n",
      "\n",
      " \n",
      " No. of Missing Values for each feature \n",
      "\n",
      " number                     0\n",
      "incident_state             0\n",
      "active                     0\n",
      "reassignment_count         0\n",
      "reopen_count               0\n",
      "sys_mod_count              0\n",
      "made_sla                   0\n",
      "caller_id                  0\n",
      "opened_by                  0\n",
      "opened_at                  0\n",
      "sys_created_by             0\n",
      "sys_created_at             0\n",
      "sys_updated_by             0\n",
      "sys_updated_at             0\n",
      "contact_type               0\n",
      "location                   0\n",
      "category                   0\n",
      "subcategory                0\n",
      "u_symptom                  0\n",
      "impact                     0\n",
      "urgency                    0\n",
      "priority                   0\n",
      "assignment_group           0\n",
      "assigned_to                0\n",
      "knowledge                  0\n",
      "u_priority_confirmation    0\n",
      "notify                     0\n",
      "closed_code                0\n",
      "resolved_by                0\n",
      "resolved_at                0\n",
      "closed_at                  0\n",
      "dtype: int64\n",
      "\n",
      " \n",
      "--------*******************************************--------\n"
     ]
    }
   ],
   "source": [
    "#Deal with missing data Below are the Imputation technique used to handle NAN values\n",
    "\n",
    "#1.drop data\n",
    "  #As we can see cmdb_ci,problem_id,rfc,vendor,caused_by have NA values in greater number nearly equal to the row size of the data set so we can remove that column\n",
    "  #%of NA value is greater than 60%\n",
    "df.drop(['cmdb_ci','problem_id','rfc','vendor','caused_by'],axis=1,inplace=True)\n",
    "df.reset_index(drop=True)\n",
    "print('Shape of DataFrame After Drop',df.shape)\n",
    "print('\\n--------*******************************************--------')\n",
    "print('\\n Total No. of Missing Values', df.isna().sum().sum())\n",
    "print('\\n \\n--------*******************************************--------')\n",
    "print('\\n No. of Missing Values for each feature \\n\\n', df.isna().sum())\n",
    "print('\\n \\n--------*******************************************--------')\n",
    "  #Drop the whole row as we are predicting the impact of the incident and if the incident state is N/A then its of no use\n",
    "df.drop(df[df.incident_state.isna()].index,axis=0,inplace=True)\n",
    "df.reset_index(drop=True)\n",
    "print('Shape of DataFrame After Drop 2',df.shape)\n",
    "print('\\n \\n--------*******************************************--------')\n",
    "print('\\n \\n Total No. of Missing Values', df.isna().sum().sum())\n",
    "print('\\n \\n--------*******************************************--------')\n",
    "print('\\n \\n No. of Missing Values for each feature \\n\\n', df.isna().sum())\n",
    "print('\\n \\n--------*******************************************--------')\n",
    "  #Drop the cols with date as we dont need that for predicting\n",
    "#df.drop(['opened_at','sys_created_at','sys_updated_at','resolved_at','closed_at'],axis=1,inplace=True)\n",
    "#df.reset_index(drop=True)\n",
    "\n",
    "#2.replace data\n",
    "  #a replace/fillna it by frequency/mean/median/mode \n",
    "df.caller_id.replace(np.NaN,df.caller_id.value_counts().idxmax(),inplace=True)\n",
    "df.opened_by.replace(np.NaN,df.opened_by.value_counts().idxmax(),inplace=True)\n",
    "df.sys_created_by.replace(np.NaN,df.sys_created_by.value_counts().idxmax(),inplace=True)\n",
    "df.sys_created_at.replace(np.NaN,df.sys_created_at.describe().top,inplace=True)#Eventually this will be non_null value as it will throw error\n",
    "df.subcategory.replace(np.NaN,df.subcategory.value_counts().idxmax(),inplace=True)\n",
    "df.u_symptom.replace(np.NaN,df.u_symptom.value_counts().idxmax(),inplace=True)\n",
    "df.location.replace(np.NaN,df.location.value_counts().idxmax(),inplace=True)\n",
    "df.category.replace(np.NaN,df.category.value_counts().idxmax(),inplace=True)\n",
    "df.assignment_group.replace(np.NaN,df.assignment_group.value_counts().idxmax(),inplace=True)\n",
    "df.assigned_to.replace(np.NaN,df.assigned_to.value_counts().idxmax(),inplace=True)\n",
    "df.closed_code.replace(np.NaN,df.closed_code.value_counts().idxmax(),inplace=True)\n",
    "df.resolved_by.replace(np.NaN,df.resolved_by.value_counts().idxmax(),inplace=True)\n",
    "df.resolved_at.replace(np.NaN,df.resolved_at.describe().top,inplace=True)#Eventually this will be non_null value as it will throw error\n",
    "df.reset_index()\n",
    "print('Size of DataFrame',df.shape)\n",
    "print('\\n \\n--------*******************************************--------')\n",
    "print('\\n \\n Total No. of Missing Values', df.isna().sum().sum())\n",
    "print('\\n \\n--------*******************************************--------')\n",
    "print('\\n \\n No. of Missing Values for each feature \\n\\n', df.isna().sum())\n",
    "print('\\n \\n--------*******************************************--------')\n",
    "\n",
    "#3. KNN is another imputation technique used to replace the NAN values\n",
    "\n"
   ]
  },
  {
   "cell_type": "code",
   "execution_count": 70,
   "metadata": {
    "colab": {
     "base_uri": "https://localhost:8080/",
     "height": 443
    },
    "id": "J42Mnqcz-Wfz",
    "outputId": "db6c116e-e408-413d-f3c9-597cf2190102"
   },
   "outputs": [
    {
     "data": {
      "text/html": [
       "<div>\n",
       "<style scoped>\n",
       "    .dataframe tbody tr th:only-of-type {\n",
       "        vertical-align: middle;\n",
       "    }\n",
       "\n",
       "    .dataframe tbody tr th {\n",
       "        vertical-align: top;\n",
       "    }\n",
       "\n",
       "    .dataframe thead th {\n",
       "        text-align: right;\n",
       "    }\n",
       "</style>\n",
       "<table border=\"1\" class=\"dataframe\">\n",
       "  <thead>\n",
       "    <tr style=\"text-align: right;\">\n",
       "      <th></th>\n",
       "      <th>number</th>\n",
       "      <th>incident_state</th>\n",
       "      <th>active</th>\n",
       "      <th>reassignment_count</th>\n",
       "      <th>reopen_count</th>\n",
       "      <th>sys_mod_count</th>\n",
       "      <th>made_sla</th>\n",
       "      <th>caller_id</th>\n",
       "      <th>opened_by</th>\n",
       "      <th>opened_at</th>\n",
       "      <th>...</th>\n",
       "      <th>priority</th>\n",
       "      <th>assignment_group</th>\n",
       "      <th>assigned_to</th>\n",
       "      <th>knowledge</th>\n",
       "      <th>u_priority_confirmation</th>\n",
       "      <th>notify</th>\n",
       "      <th>closed_code</th>\n",
       "      <th>resolved_by</th>\n",
       "      <th>resolved_at</th>\n",
       "      <th>closed_at</th>\n",
       "    </tr>\n",
       "  </thead>\n",
       "  <tbody>\n",
       "    <tr>\n",
       "      <th>0</th>\n",
       "      <td>INC0000045</td>\n",
       "      <td>6</td>\n",
       "      <td>1</td>\n",
       "      <td>0</td>\n",
       "      <td>0</td>\n",
       "      <td>0</td>\n",
       "      <td>1</td>\n",
       "      <td>Caller 2403</td>\n",
       "      <td>Opened by  8</td>\n",
       "      <td>2016-02-29 01:16:00</td>\n",
       "      <td>...</td>\n",
       "      <td>3 - Moderate</td>\n",
       "      <td>Group 56</td>\n",
       "      <td>Resolver 17</td>\n",
       "      <td>1</td>\n",
       "      <td>0</td>\n",
       "      <td>0</td>\n",
       "      <td>code 5</td>\n",
       "      <td>Resolved by 149</td>\n",
       "      <td>2016-02-29 11:29:00</td>\n",
       "      <td>2016-05-03 12:00:00</td>\n",
       "    </tr>\n",
       "    <tr>\n",
       "      <th>1</th>\n",
       "      <td>INC0000045</td>\n",
       "      <td>7</td>\n",
       "      <td>1</td>\n",
       "      <td>0</td>\n",
       "      <td>0</td>\n",
       "      <td>2</td>\n",
       "      <td>1</td>\n",
       "      <td>Caller 2403</td>\n",
       "      <td>Opened by  8</td>\n",
       "      <td>2016-02-29 01:16:00</td>\n",
       "      <td>...</td>\n",
       "      <td>3 - Moderate</td>\n",
       "      <td>Group 56</td>\n",
       "      <td>Resolver 17</td>\n",
       "      <td>1</td>\n",
       "      <td>0</td>\n",
       "      <td>0</td>\n",
       "      <td>code 5</td>\n",
       "      <td>Resolved by 149</td>\n",
       "      <td>2016-02-29 11:29:00</td>\n",
       "      <td>2016-05-03 12:00:00</td>\n",
       "    </tr>\n",
       "    <tr>\n",
       "      <th>2</th>\n",
       "      <td>INC0000045</td>\n",
       "      <td>7</td>\n",
       "      <td>1</td>\n",
       "      <td>0</td>\n",
       "      <td>0</td>\n",
       "      <td>3</td>\n",
       "      <td>1</td>\n",
       "      <td>Caller 2403</td>\n",
       "      <td>Opened by  8</td>\n",
       "      <td>2016-02-29 01:16:00</td>\n",
       "      <td>...</td>\n",
       "      <td>3 - Moderate</td>\n",
       "      <td>Group 56</td>\n",
       "      <td>Resolver 17</td>\n",
       "      <td>1</td>\n",
       "      <td>0</td>\n",
       "      <td>0</td>\n",
       "      <td>code 5</td>\n",
       "      <td>Resolved by 149</td>\n",
       "      <td>2016-02-29 11:29:00</td>\n",
       "      <td>2016-05-03 12:00:00</td>\n",
       "    </tr>\n",
       "    <tr>\n",
       "      <th>3</th>\n",
       "      <td>INC0000045</td>\n",
       "      <td>5</td>\n",
       "      <td>0</td>\n",
       "      <td>0</td>\n",
       "      <td>0</td>\n",
       "      <td>4</td>\n",
       "      <td>1</td>\n",
       "      <td>Caller 2403</td>\n",
       "      <td>Opened by  8</td>\n",
       "      <td>2016-02-29 01:16:00</td>\n",
       "      <td>...</td>\n",
       "      <td>3 - Moderate</td>\n",
       "      <td>Group 56</td>\n",
       "      <td>Resolver 17</td>\n",
       "      <td>1</td>\n",
       "      <td>0</td>\n",
       "      <td>0</td>\n",
       "      <td>code 5</td>\n",
       "      <td>Resolved by 149</td>\n",
       "      <td>2016-02-29 11:29:00</td>\n",
       "      <td>2016-05-03 12:00:00</td>\n",
       "    </tr>\n",
       "    <tr>\n",
       "      <th>4</th>\n",
       "      <td>INC0000047</td>\n",
       "      <td>6</td>\n",
       "      <td>1</td>\n",
       "      <td>0</td>\n",
       "      <td>0</td>\n",
       "      <td>0</td>\n",
       "      <td>1</td>\n",
       "      <td>Caller 2403</td>\n",
       "      <td>Opened by  397</td>\n",
       "      <td>2016-02-29 04:40:00</td>\n",
       "      <td>...</td>\n",
       "      <td>3 - Moderate</td>\n",
       "      <td>Group 70</td>\n",
       "      <td>Resolver 89</td>\n",
       "      <td>1</td>\n",
       "      <td>0</td>\n",
       "      <td>0</td>\n",
       "      <td>code 5</td>\n",
       "      <td>Resolved by 81</td>\n",
       "      <td>2016-01-03 09:52:00</td>\n",
       "      <td>2016-06-03 10:00:00</td>\n",
       "    </tr>\n",
       "  </tbody>\n",
       "</table>\n",
       "<p>5 rows × 31 columns</p>\n",
       "</div>"
      ],
      "text/plain": [
       "       number  incident_state  active  reassignment_count  reopen_count  \\\n",
       "0  INC0000045               6       1                   0             0   \n",
       "1  INC0000045               7       1                   0             0   \n",
       "2  INC0000045               7       1                   0             0   \n",
       "3  INC0000045               5       0                   0             0   \n",
       "4  INC0000047               6       1                   0             0   \n",
       "\n",
       "   sys_mod_count  made_sla    caller_id       opened_by           opened_at  \\\n",
       "0              0         1  Caller 2403    Opened by  8 2016-02-29 01:16:00   \n",
       "1              2         1  Caller 2403    Opened by  8 2016-02-29 01:16:00   \n",
       "2              3         1  Caller 2403    Opened by  8 2016-02-29 01:16:00   \n",
       "3              4         1  Caller 2403    Opened by  8 2016-02-29 01:16:00   \n",
       "4              0         1  Caller 2403  Opened by  397 2016-02-29 04:40:00   \n",
       "\n",
       "   ...      priority assignment_group  assigned_to knowledge  \\\n",
       "0  ...  3 - Moderate         Group 56  Resolver 17         1   \n",
       "1  ...  3 - Moderate         Group 56  Resolver 17         1   \n",
       "2  ...  3 - Moderate         Group 56  Resolver 17         1   \n",
       "3  ...  3 - Moderate         Group 56  Resolver 17         1   \n",
       "4  ...  3 - Moderate         Group 70  Resolver 89         1   \n",
       "\n",
       "   u_priority_confirmation notify closed_code      resolved_by  \\\n",
       "0                        0      0      code 5  Resolved by 149   \n",
       "1                        0      0      code 5  Resolved by 149   \n",
       "2                        0      0      code 5  Resolved by 149   \n",
       "3                        0      0      code 5  Resolved by 149   \n",
       "4                        0      0      code 5   Resolved by 81   \n",
       "\n",
       "          resolved_at           closed_at  \n",
       "0 2016-02-29 11:29:00 2016-05-03 12:00:00  \n",
       "1 2016-02-29 11:29:00 2016-05-03 12:00:00  \n",
       "2 2016-02-29 11:29:00 2016-05-03 12:00:00  \n",
       "3 2016-02-29 11:29:00 2016-05-03 12:00:00  \n",
       "4 2016-01-03 09:52:00 2016-06-03 10:00:00  \n",
       "\n",
       "[5 rows x 31 columns]"
      ]
     },
     "execution_count": 70,
     "metadata": {},
     "output_type": "execute_result"
    }
   ],
   "source": [
    "labelencoder = LabelEncoder()\n",
    "df['incident_state'] = labelencoder.fit_transform(df['incident_state'])\n",
    "df['notify'] = labelencoder.fit_transform(df['notify'])\n",
    "df['u_priority_confirmation'] = labelencoder.fit_transform(df['u_priority_confirmation'])\n",
    "df['knowledge'] = labelencoder.fit_transform(df['knowledge'])\n",
    "df['made_sla'] = labelencoder.fit_transform(df['made_sla'])\n",
    "df['active'] = labelencoder.fit_transform(df['active'])\n",
    "df['contact_type'] = labelencoder.fit_transform(df['contact_type'])\n",
    "df.head()\n"
   ]
  },
  {
   "cell_type": "code",
   "execution_count": 71,
   "metadata": {
    "colab": {
     "base_uri": "https://localhost:8080/",
     "height": 443
    },
    "id": "V7mRGN0pxLvE",
    "outputId": "0521c0a6-9010-4b48-cdcd-635a25759f4a"
   },
   "outputs": [
    {
     "data": {
      "text/html": [
       "<div>\n",
       "<style scoped>\n",
       "    .dataframe tbody tr th:only-of-type {\n",
       "        vertical-align: middle;\n",
       "    }\n",
       "\n",
       "    .dataframe tbody tr th {\n",
       "        vertical-align: top;\n",
       "    }\n",
       "\n",
       "    .dataframe thead th {\n",
       "        text-align: right;\n",
       "    }\n",
       "</style>\n",
       "<table border=\"1\" class=\"dataframe\">\n",
       "  <thead>\n",
       "    <tr style=\"text-align: right;\">\n",
       "      <th></th>\n",
       "      <th>number</th>\n",
       "      <th>incident_state</th>\n",
       "      <th>active</th>\n",
       "      <th>reassignment_count</th>\n",
       "      <th>reopen_count</th>\n",
       "      <th>sys_mod_count</th>\n",
       "      <th>made_sla</th>\n",
       "      <th>caller_id</th>\n",
       "      <th>opened_by</th>\n",
       "      <th>opened_at</th>\n",
       "      <th>...</th>\n",
       "      <th>priority</th>\n",
       "      <th>assignment_group</th>\n",
       "      <th>assigned_to</th>\n",
       "      <th>knowledge</th>\n",
       "      <th>u_priority_confirmation</th>\n",
       "      <th>notify</th>\n",
       "      <th>closed_code</th>\n",
       "      <th>resolved_by</th>\n",
       "      <th>resolved_at</th>\n",
       "      <th>closed_at</th>\n",
       "    </tr>\n",
       "  </thead>\n",
       "  <tbody>\n",
       "    <tr>\n",
       "      <th>0</th>\n",
       "      <td>0000045</td>\n",
       "      <td>6</td>\n",
       "      <td>1</td>\n",
       "      <td>0</td>\n",
       "      <td>0</td>\n",
       "      <td>0</td>\n",
       "      <td>1</td>\n",
       "      <td>2403</td>\n",
       "      <td>8</td>\n",
       "      <td>2016-02-29 01:16:00</td>\n",
       "      <td>...</td>\n",
       "      <td>3</td>\n",
       "      <td>56</td>\n",
       "      <td>17</td>\n",
       "      <td>1</td>\n",
       "      <td>0</td>\n",
       "      <td>0</td>\n",
       "      <td>5</td>\n",
       "      <td>149</td>\n",
       "      <td>2016-02-29 11:29:00</td>\n",
       "      <td>2016-05-03 12:00:00</td>\n",
       "    </tr>\n",
       "    <tr>\n",
       "      <th>1</th>\n",
       "      <td>0000045</td>\n",
       "      <td>7</td>\n",
       "      <td>1</td>\n",
       "      <td>0</td>\n",
       "      <td>0</td>\n",
       "      <td>2</td>\n",
       "      <td>1</td>\n",
       "      <td>2403</td>\n",
       "      <td>8</td>\n",
       "      <td>2016-02-29 01:16:00</td>\n",
       "      <td>...</td>\n",
       "      <td>3</td>\n",
       "      <td>56</td>\n",
       "      <td>17</td>\n",
       "      <td>1</td>\n",
       "      <td>0</td>\n",
       "      <td>0</td>\n",
       "      <td>5</td>\n",
       "      <td>149</td>\n",
       "      <td>2016-02-29 11:29:00</td>\n",
       "      <td>2016-05-03 12:00:00</td>\n",
       "    </tr>\n",
       "    <tr>\n",
       "      <th>2</th>\n",
       "      <td>0000045</td>\n",
       "      <td>7</td>\n",
       "      <td>1</td>\n",
       "      <td>0</td>\n",
       "      <td>0</td>\n",
       "      <td>3</td>\n",
       "      <td>1</td>\n",
       "      <td>2403</td>\n",
       "      <td>8</td>\n",
       "      <td>2016-02-29 01:16:00</td>\n",
       "      <td>...</td>\n",
       "      <td>3</td>\n",
       "      <td>56</td>\n",
       "      <td>17</td>\n",
       "      <td>1</td>\n",
       "      <td>0</td>\n",
       "      <td>0</td>\n",
       "      <td>5</td>\n",
       "      <td>149</td>\n",
       "      <td>2016-02-29 11:29:00</td>\n",
       "      <td>2016-05-03 12:00:00</td>\n",
       "    </tr>\n",
       "    <tr>\n",
       "      <th>3</th>\n",
       "      <td>0000045</td>\n",
       "      <td>5</td>\n",
       "      <td>0</td>\n",
       "      <td>0</td>\n",
       "      <td>0</td>\n",
       "      <td>4</td>\n",
       "      <td>1</td>\n",
       "      <td>2403</td>\n",
       "      <td>8</td>\n",
       "      <td>2016-02-29 01:16:00</td>\n",
       "      <td>...</td>\n",
       "      <td>3</td>\n",
       "      <td>56</td>\n",
       "      <td>17</td>\n",
       "      <td>1</td>\n",
       "      <td>0</td>\n",
       "      <td>0</td>\n",
       "      <td>5</td>\n",
       "      <td>149</td>\n",
       "      <td>2016-02-29 11:29:00</td>\n",
       "      <td>2016-05-03 12:00:00</td>\n",
       "    </tr>\n",
       "    <tr>\n",
       "      <th>4</th>\n",
       "      <td>0000047</td>\n",
       "      <td>6</td>\n",
       "      <td>1</td>\n",
       "      <td>0</td>\n",
       "      <td>0</td>\n",
       "      <td>0</td>\n",
       "      <td>1</td>\n",
       "      <td>2403</td>\n",
       "      <td>397</td>\n",
       "      <td>2016-02-29 04:40:00</td>\n",
       "      <td>...</td>\n",
       "      <td>3</td>\n",
       "      <td>70</td>\n",
       "      <td>89</td>\n",
       "      <td>1</td>\n",
       "      <td>0</td>\n",
       "      <td>0</td>\n",
       "      <td>5</td>\n",
       "      <td>81</td>\n",
       "      <td>2016-01-03 09:52:00</td>\n",
       "      <td>2016-06-03 10:00:00</td>\n",
       "    </tr>\n",
       "  </tbody>\n",
       "</table>\n",
       "<p>5 rows × 31 columns</p>\n",
       "</div>"
      ],
      "text/plain": [
       "    number  incident_state  active  reassignment_count  reopen_count  \\\n",
       "0  0000045               6       1                   0             0   \n",
       "1  0000045               7       1                   0             0   \n",
       "2  0000045               7       1                   0             0   \n",
       "3  0000045               5       0                   0             0   \n",
       "4  0000047               6       1                   0             0   \n",
       "\n",
       "   sys_mod_count  made_sla caller_id opened_by           opened_at  ...  \\\n",
       "0              0         1      2403         8 2016-02-29 01:16:00  ...   \n",
       "1              2         1      2403         8 2016-02-29 01:16:00  ...   \n",
       "2              3         1      2403         8 2016-02-29 01:16:00  ...   \n",
       "3              4         1      2403         8 2016-02-29 01:16:00  ...   \n",
       "4              0         1      2403       397 2016-02-29 04:40:00  ...   \n",
       "\n",
       "  priority assignment_group assigned_to knowledge  u_priority_confirmation  \\\n",
       "0        3               56          17         1                        0   \n",
       "1        3               56          17         1                        0   \n",
       "2        3               56          17         1                        0   \n",
       "3        3               56          17         1                        0   \n",
       "4        3               70          89         1                        0   \n",
       "\n",
       "  notify closed_code resolved_by         resolved_at           closed_at  \n",
       "0      0           5         149 2016-02-29 11:29:00 2016-05-03 12:00:00  \n",
       "1      0           5         149 2016-02-29 11:29:00 2016-05-03 12:00:00  \n",
       "2      0           5         149 2016-02-29 11:29:00 2016-05-03 12:00:00  \n",
       "3      0           5         149 2016-02-29 11:29:00 2016-05-03 12:00:00  \n",
       "4      0           5          81 2016-01-03 09:52:00 2016-06-03 10:00:00  \n",
       "\n",
       "[5 rows x 31 columns]"
      ]
     },
     "execution_count": 71,
     "metadata": {},
     "output_type": "execute_result"
    }
   ],
   "source": [
    "def numbers(element):   \n",
    "    return \"\".join(filter(str.isnumeric, element))\n",
    "\n",
    "df.loc[:,'number'] = [numbers(x) for x in df.number]\n",
    "df.loc[:,'caller_id'] = [numbers(x) for x in df.caller_id]\n",
    "df.loc[:,'opened_by'] = [numbers(x) for x in df.opened_by]\n",
    "df.loc[:,'sys_created_by'] = [numbers(x) for x in df.sys_created_by]\n",
    "df.loc[:,'sys_updated_by'] = [numbers(x) for x in df.sys_updated_by]\n",
    "df.loc[:,'location'] = [numbers(x) for x in df.location]\n",
    "df.loc[:,'category'] = [numbers(x) for x in df.category]\n",
    "df.loc[:,'subcategory'] = [numbers(x) for x in df.subcategory]\n",
    "df.loc[:,'u_symptom'] = [numbers(x) for x in df.u_symptom]\n",
    "df.loc[:,'assignment_group'] = [numbers(x) for x in df.assignment_group]\n",
    "df.loc[:,'assigned_to'] = [numbers(x) for x in df.assigned_to]\n",
    "df.loc[:,'closed_code'] = [numbers(x) for x in df.closed_code]\n",
    "df.loc[:,'resolved_by'] = [numbers(x) for x in df.resolved_by]\n",
    "df.loc[:,'impact'] = [numbers(x) for x in df.impact]\n",
    "df.loc[:,'urgency'] = [numbers(x) for x in df.urgency]\n",
    "df.loc[:,'priority'] = [numbers(x) for x in df.priority]\n",
    "\n",
    "df.head()\n"
   ]
  },
  {
   "cell_type": "code",
   "execution_count": 72,
   "metadata": {
    "id": "VZYyl31vZtDA"
   },
   "outputs": [],
   "source": [
    "df['opened_at_year']=df.opened_at.dt.year\n",
    "df['opened_at_month']=df.opened_at.dt.month\n",
    "df['opened_at_day']=df.opened_at.dt.day\n",
    "df['opened_at_hour']=df.opened_at.dt.hour\n",
    "\n",
    "df['sys_created_at_year']=df.sys_created_at.dt.year\n",
    "df['sys_created_at_month']=df.sys_created_at.dt.month\n",
    "df['sys_created_at_day']=df.sys_created_at.dt.day\n",
    "df['sys_created_at_hour']=df.sys_created_at.dt.hour\n",
    "\n",
    "df['sys_updated_at_year']=df.sys_updated_at.dt.year\n",
    "df['sys_updated_at_month']=df.sys_updated_at.dt.month\n",
    "df['sys_updated_at_day']=df.sys_updated_at.dt.day\n",
    "df['sys_updated_at_hour']=df.sys_updated_at.dt.hour\n",
    "\n",
    "df['resolved_at_year']=df.resolved_at.dt.year\n",
    "df['resolved_at_month']=df.resolved_at.dt.month\n",
    "df['resolved_at_day']=df.resolved_at.dt.day\n",
    "df['resolved_at_hour']=df.resolved_at.dt.hour\n",
    "\n",
    "df['closed_at_year']=df.closed_at.dt.year\n",
    "df['closed_at_month']=df.closed_at.dt.month\n",
    "df['closed_at_day']=df.closed_at.dt.day\n",
    "df['closed_at_hour']=df.closed_at.dt.hour\n",
    "\n",
    "\n",
    "\n",
    "\n"
   ]
  },
  {
   "cell_type": "code",
   "execution_count": 73,
   "metadata": {
    "colab": {
     "base_uri": "https://localhost:8080/"
    },
    "id": "zvIXJJR8gSjm",
    "outputId": "84293a7f-c85f-4738-bd77-d8f129db61fa"
   },
   "outputs": [
    {
     "name": "stdout",
     "output_type": "stream",
     "text": [
      "<class 'pandas.core.frame.DataFrame'>\n",
      "Int64Index: 141707 entries, 0 to 141711\n",
      "Data columns (total 51 columns):\n",
      " #   Column                   Non-Null Count   Dtype         \n",
      "---  ------                   --------------   -----         \n",
      " 0   number                   141707 non-null  object        \n",
      " 1   incident_state           141707 non-null  int32         \n",
      " 2   active                   141707 non-null  int64         \n",
      " 3   reassignment_count       141707 non-null  int64         \n",
      " 4   reopen_count             141707 non-null  int64         \n",
      " 5   sys_mod_count            141707 non-null  int64         \n",
      " 6   made_sla                 141707 non-null  int64         \n",
      " 7   caller_id                141707 non-null  object        \n",
      " 8   opened_by                141707 non-null  object        \n",
      " 9   opened_at                141707 non-null  datetime64[ns]\n",
      " 10  sys_created_by           141707 non-null  object        \n",
      " 11  sys_created_at           141707 non-null  datetime64[ns]\n",
      " 12  sys_updated_by           141707 non-null  object        \n",
      " 13  sys_updated_at           141707 non-null  datetime64[ns]\n",
      " 14  contact_type             141707 non-null  int32         \n",
      " 15  location                 141707 non-null  object        \n",
      " 16  category                 141707 non-null  object        \n",
      " 17  subcategory              141707 non-null  object        \n",
      " 18  u_symptom                141707 non-null  object        \n",
      " 19  impact                   141707 non-null  object        \n",
      " 20  urgency                  141707 non-null  object        \n",
      " 21  priority                 141707 non-null  object        \n",
      " 22  assignment_group         141707 non-null  object        \n",
      " 23  assigned_to              141707 non-null  object        \n",
      " 24  knowledge                141707 non-null  int64         \n",
      " 25  u_priority_confirmation  141707 non-null  int64         \n",
      " 26  notify                   141707 non-null  int64         \n",
      " 27  closed_code              141707 non-null  object        \n",
      " 28  resolved_by              141707 non-null  object        \n",
      " 29  resolved_at              141707 non-null  datetime64[ns]\n",
      " 30  closed_at                141707 non-null  datetime64[ns]\n",
      " 31  opened_at_year           141707 non-null  int64         \n",
      " 32  opened_at_month          141707 non-null  int64         \n",
      " 33  opened_at_day            141707 non-null  int64         \n",
      " 34  opened_at_hour           141707 non-null  int64         \n",
      " 35  sys_created_at_year      141707 non-null  int64         \n",
      " 36  sys_created_at_month     141707 non-null  int64         \n",
      " 37  sys_created_at_day       141707 non-null  int64         \n",
      " 38  sys_created_at_hour      141707 non-null  int64         \n",
      " 39  sys_updated_at_year      141707 non-null  int64         \n",
      " 40  sys_updated_at_month     141707 non-null  int64         \n",
      " 41  sys_updated_at_day       141707 non-null  int64         \n",
      " 42  sys_updated_at_hour      141707 non-null  int64         \n",
      " 43  resolved_at_year         141707 non-null  int64         \n",
      " 44  resolved_at_month        141707 non-null  int64         \n",
      " 45  resolved_at_day          141707 non-null  int64         \n",
      " 46  resolved_at_hour         141707 non-null  int64         \n",
      " 47  closed_at_year           141707 non-null  int64         \n",
      " 48  closed_at_month          141707 non-null  int64         \n",
      " 49  closed_at_day            141707 non-null  int64         \n",
      " 50  closed_at_hour           141707 non-null  int64         \n",
      "dtypes: datetime64[ns](5), int32(2), int64(28), object(16)\n",
      "memory usage: 55.1+ MB\n"
     ]
    }
   ],
   "source": [
    "df.info()"
   ]
  },
  {
   "cell_type": "code",
   "execution_count": 74,
   "metadata": {
    "colab": {
     "base_uri": "https://localhost:8080/"
    },
    "id": "MzK5gSGcuDgb",
    "outputId": "66c4c252-ac15-4242-bebd-e42d1b2bfaad"
   },
   "outputs": [
    {
     "data": {
      "text/plain": [
       "2    134330\n",
       "3      3886\n",
       "1      3491\n",
       "Name: impact, dtype: int64"
      ]
     },
     "execution_count": 74,
     "metadata": {},
     "output_type": "execute_result"
    }
   ],
   "source": [
    "df.impact.value_counts()\n"
   ]
  },
  {
   "cell_type": "code",
   "execution_count": 75,
   "metadata": {
    "colab": {
     "base_uri": "https://localhost:8080/"
    },
    "id": "s8AF1zzmGVrF",
    "outputId": "6621047c-3ebd-4172-9277-d943f9c7e99e"
   },
   "outputs": [
    {
     "name": "stdout",
     "output_type": "stream",
     "text": [
      "<class 'pandas.core.frame.DataFrame'>\n",
      "Int64Index: 141707 entries, 0 to 141711\n",
      "Data columns (total 51 columns):\n",
      " #   Column                   Non-Null Count   Dtype         \n",
      "---  ------                   --------------   -----         \n",
      " 0   number                   141707 non-null  int32         \n",
      " 1   incident_state           141707 non-null  int32         \n",
      " 2   active                   141707 non-null  int64         \n",
      " 3   reassignment_count       141707 non-null  int64         \n",
      " 4   reopen_count             141707 non-null  int64         \n",
      " 5   sys_mod_count            141707 non-null  int64         \n",
      " 6   made_sla                 141707 non-null  int64         \n",
      " 7   caller_id                141707 non-null  int32         \n",
      " 8   opened_by                141707 non-null  int32         \n",
      " 9   opened_at                141707 non-null  datetime64[ns]\n",
      " 10  sys_created_by           141707 non-null  int32         \n",
      " 11  sys_created_at           141707 non-null  datetime64[ns]\n",
      " 12  sys_updated_by           141707 non-null  int32         \n",
      " 13  sys_updated_at           141707 non-null  datetime64[ns]\n",
      " 14  contact_type             141707 non-null  int32         \n",
      " 15  location                 141707 non-null  int32         \n",
      " 16  category                 141707 non-null  int32         \n",
      " 17  subcategory              141707 non-null  int32         \n",
      " 18  u_symptom                141707 non-null  int32         \n",
      " 19  impact                   141707 non-null  int32         \n",
      " 20  urgency                  141707 non-null  int32         \n",
      " 21  priority                 141707 non-null  int32         \n",
      " 22  assignment_group         141707 non-null  int32         \n",
      " 23  assigned_to              141707 non-null  int32         \n",
      " 24  knowledge                141707 non-null  int64         \n",
      " 25  u_priority_confirmation  141707 non-null  int64         \n",
      " 26  notify                   141707 non-null  int64         \n",
      " 27  closed_code              141707 non-null  int32         \n",
      " 28  resolved_by              141707 non-null  int32         \n",
      " 29  resolved_at              141707 non-null  datetime64[ns]\n",
      " 30  closed_at                141707 non-null  datetime64[ns]\n",
      " 31  opened_at_year           141707 non-null  int64         \n",
      " 32  opened_at_month          141707 non-null  int64         \n",
      " 33  opened_at_day            141707 non-null  int64         \n",
      " 34  opened_at_hour           141707 non-null  int64         \n",
      " 35  sys_created_at_year      141707 non-null  int64         \n",
      " 36  sys_created_at_month     141707 non-null  int64         \n",
      " 37  sys_created_at_day       141707 non-null  int64         \n",
      " 38  sys_created_at_hour      141707 non-null  int64         \n",
      " 39  sys_updated_at_year      141707 non-null  int64         \n",
      " 40  sys_updated_at_month     141707 non-null  int64         \n",
      " 41  sys_updated_at_day       141707 non-null  int64         \n",
      " 42  sys_updated_at_hour      141707 non-null  int64         \n",
      " 43  resolved_at_year         141707 non-null  int64         \n",
      " 44  resolved_at_month        141707 non-null  int64         \n",
      " 45  resolved_at_day          141707 non-null  int64         \n",
      " 46  resolved_at_hour         141707 non-null  int64         \n",
      " 47  closed_at_year           141707 non-null  int64         \n",
      " 48  closed_at_month          141707 non-null  int64         \n",
      " 49  closed_at_day            141707 non-null  int64         \n",
      " 50  closed_at_hour           141707 non-null  int64         \n",
      "dtypes: datetime64[ns](5), int32(18), int64(28)\n",
      "memory usage: 46.5 MB\n"
     ]
    }
   ],
   "source": [
    "#DataType conversion\n",
    "df[df.select_dtypes(include='object').columns] = df.select_dtypes(include='object').astype(int)\n",
    "df.info()"
   ]
  },
  {
   "cell_type": "code",
   "execution_count": 76,
   "metadata": {
    "colab": {
     "base_uri": "https://localhost:8080/",
     "height": 296
    },
    "id": "jToxt40ovPX8",
    "outputId": "1d404b6c-d518-4fb6-8958-3669be4a6f95"
   },
   "outputs": [
    {
     "data": {
      "text/plain": [
       "<AxesSubplot:xlabel='urgency', ylabel='priority'>"
      ]
     },
     "execution_count": 76,
     "metadata": {},
     "output_type": "execute_result"
    },
    {
     "data": {
      "image/png": "[encoded data removed]",
      "text/plain": [
       "<Figure size 432x288 with 1 Axes>"
      ]
     },
     "metadata": {
      "needs_background": "light"
     },
     "output_type": "display_data"
    }
   ],
   "source": [
    "sns.barplot(x=df.urgency,y=df.priority,hue=df.impact,data=df)\n",
    "#Relationship btwn priority,impact,urgency"
   ]
  },
  {
   "cell_type": "code",
   "execution_count": 77,
   "metadata": {
    "colab": {
     "base_uri": "https://localhost:8080/",
     "height": 293
    },
    "id": "zhjSRfKOzD0z",
    "outputId": "3ee015aa-92e0-40b4-e323-dcf7c1f4c61b"
   },
   "outputs": [
    {
     "data": {
      "text/plain": [
       "<AxesSubplot:xlabel='urgency'>"
      ]
     },
     "execution_count": 77,
     "metadata": {},
     "output_type": "execute_result"
    },
    {
     "data": {
      "image/png": "[encoded data removed]",
      "text/plain": [
       "<Figure size 432x288 with 1 Axes>"
      ]
     },
     "metadata": {
      "needs_background": "light"
     },
     "output_type": "display_data"
    }
   ],
   "source": [
    "pd.crosstab(df.urgency,df.priority).plot(kind='bar')"
   ]
  },
  {
   "cell_type": "code",
   "execution_count": 78,
   "metadata": {
    "colab": {
     "base_uri": "https://localhost:8080/",
     "height": 293
    },
    "id": "Bfj56UQFHF7H",
    "outputId": "106665c5-f1cd-4287-b7de-a0f0c73e9965"
   },
   "outputs": [
    {
     "data": {
      "text/plain": [
       "<AxesSubplot:xlabel='impact'>"
      ]
     },
     "execution_count": 78,
     "metadata": {},
     "output_type": "execute_result"
    },
    {
     "data": {
      "image/png": "[encoded data removed]",
      "text/plain": [
       "<Figure size 432x288 with 1 Axes>"
      ]
     },
     "metadata": {
      "needs_background": "light"
     },
     "output_type": "display_data"
    }
   ],
   "source": [
    "pd.crosstab(df.impact,df.priority).plot(kind='bar')"
   ]
  },
  {
   "cell_type": "code",
   "execution_count": 79,
   "metadata": {
    "colab": {
     "base_uri": "https://localhost:8080/",
     "height": 293
    },
    "id": "JewCk1cQHQ9L",
    "outputId": "097d4313-e928-4d09-ced5-2e29bd0958c3"
   },
   "outputs": [
    {
     "data": {
      "text/plain": [
       "<AxesSubplot:xlabel='impact'>"
      ]
     },
     "execution_count": 79,
     "metadata": {},
     "output_type": "execute_result"
    },
    {
     "data": {
      "image/png": "[encoded data removed]",
      "text/plain": [
       "<Figure size 432x288 with 1 Axes>"
      ]
     },
     "metadata": {
      "needs_background": "light"
     },
     "output_type": "display_data"
    }
   ],
   "source": [
    "pd.crosstab(df.impact,df.urgency).plot(kind='bar')"
   ]
  },
  {
   "cell_type": "code",
   "execution_count": 80,
   "metadata": {
    "colab": {
     "base_uri": "https://localhost:8080/",
     "height": 70
    },
    "id": "Hs0p_GE7WvV-",
    "outputId": "6454647e-077b-438e-ab63-2362d46669de"
   },
   "outputs": [
    {
     "name": "stdout",
     "output_type": "stream",
     "text": [
      "Total no of outliers  1418\n",
      "Shape of DF (141707, 53)\n"
     ]
    },
    {
     "data": {
      "text/plain": [
       "\"df.drop(df[df['anomaly']==-1].index,axis=0,inplace=True)\\ndf.reset_index(drop=True)\\nprint('Shape of DF after dropping ',df.shape)\""
      ]
     },
     "execution_count": 80,
     "metadata": {},
     "output_type": "execute_result"
    }
   ],
   "source": [
    "#Outliers prediction using isolation forest\n",
    "df1 = df.select_dtypes('int64')\n",
    "clf = IsolationForest(random_state=10,contamination=.01)#contamination: based on domain knowlege we are defiining that 1% of outliers might be present\n",
    "clf.fit(df1)\n",
    "df['anomaly'] = clf.predict(df1)#predicting the outliers\n",
    "df['anomaly_scores']=clf.decision_function(df1)\n",
    "print('Total no of outliers ',len(df[df['anomaly']==-1]))\n",
    "print('Shape of DF',df.shape)\n",
    "'''df.drop(df[df['anomaly']==-1].index,axis=0,inplace=True)\n",
    "df.reset_index(drop=True)\n",
    "print('Shape of DF after dropping ',df.shape)'''"
   ]
  },
  {
   "cell_type": "code",
   "execution_count": 81,
   "metadata": {
    "id": "54UPsRdVBk8B"
   },
   "outputs": [],
   "source": [
    "\n",
    "#Saving the cleaned file for future reference\n",
    "#df.to_csv('DataClean_incident_event_log.csv',index=False)"
   ]
  },
  {
   "cell_type": "code",
   "execution_count": 82,
   "metadata": {
    "colab": {
     "base_uri": "https://localhost:8080/",
     "height": 281
    },
    "id": "yY--x1XOuy89",
    "outputId": "8bb579b9-fb45-467c-f775-78a4e5825ce9"
   },
   "outputs": [
    {
     "data": {
      "text/plain": [
       "<AxesSubplot:>"
      ]
     },
     "execution_count": 82,
     "metadata": {},
     "output_type": "execute_result"
    },
    {
     "data": {
      "image/png": "[encoded data removed]",
      "text/plain": [
       "<Figure size 432x288 with 1 Axes>"
      ]
     },
     "metadata": {
      "needs_background": "light"
     },
     "output_type": "display_data"
    }
   ],
   "source": [
    "df.impact.value_counts().plot.bar() #imbalanced ddata"
   ]
  },
  {
   "cell_type": "code",
   "execution_count": 83,
   "metadata": {
    "colab": {
     "base_uri": "https://localhost:8080/"
    },
    "id": "rhPFLgc2xkVY",
    "outputId": "23aadd90-3345-488d-bda0-c3a4471631fd"
   },
   "outputs": [
    {
     "name": "stdout",
     "output_type": "stream",
     "text": [
      "Dataset class count {1: 512, 2: 23967, 3: 764}\n",
      "Dataset class proportion {1: 0.0036, 2: 0.1691, 3: 0.0054}\n"
     ]
    }
   ],
   "source": [
    "#We are doing this to get the same proportion/data distributions even after splitting the data from the original data\n",
    "def get_class_count(df):\n",
    "  grp = df.groupby(['impact'])['number'].nunique()\n",
    "  return {key : grp[key] for key in list(grp.keys())}\n",
    "\n",
    "def get_class_proportion(df):\n",
    "  count = get_class_count(df)\n",
    "  return { val[0] : round(val[1]/df.shape[0],4) for val in count.items()}\n",
    "\n",
    "print('Dataset class count',get_class_count(df))\n",
    "print('Dataset class proportion',get_class_proportion(df))\n",
    "\n",
    "#we use stratify which will lock the distribution of classes in train and test sets which will hold the same distribution\n",
    "train,test = train_test_split(df,test_size=0.3,random_state=42)\n",
    "#print('Dataset class proportion after partition',get_class_proportion(train))\n",
    "#print('Dataset class proportion after partition',get_class_proportion(test))\n",
    "#We are splitting the data into train test after EDA as we understand the data and patterns completly\n",
    "#Next step is feature engg and we use sme ML algo for Feature engg i.e we shuldn't allow model to remember so before feature engg only we divide data\n",
    "Y_train = train.impact.reset_index(drop=True)\n",
    "X_train = train.drop(columns=['impact','opened_at','sys_created_at','sys_updated_at','resolved_at','closed_at','anomaly','anomaly_scores']).reset_index(drop=True)\n",
    "Y_test = test.impact.reset_index(drop=True)\n",
    "X_test = test.drop(columns=['impact','opened_at','sys_created_at','sys_updated_at','resolved_at','closed_at','anomaly','anomaly_scores']).reset_index(drop=True)"
   ]
  },
  {
   "cell_type": "code",
   "execution_count": 84,
   "metadata": {
    "colab": {
     "base_uri": "https://localhost:8080/",
     "height": 487
    },
    "id": "i5sKRF1JegC-",
    "outputId": "a332944a-06ca-4cfc-de9b-1f55f14ab394"
   },
   "outputs": [
    {
     "data": {
      "text/html": [
       "<div>\n",
       "<style scoped>\n",
       "    .dataframe tbody tr th:only-of-type {\n",
       "        vertical-align: middle;\n",
       "    }\n",
       "\n",
       "    .dataframe tbody tr th {\n",
       "        vertical-align: top;\n",
       "    }\n",
       "\n",
       "    .dataframe thead th {\n",
       "        text-align: right;\n",
       "    }\n",
       "</style>\n",
       "<table border=\"1\" class=\"dataframe\">\n",
       "  <thead>\n",
       "    <tr style=\"text-align: right;\">\n",
       "      <th></th>\n",
       "      <th>number</th>\n",
       "      <th>incident_state</th>\n",
       "      <th>active</th>\n",
       "      <th>reassignment_count</th>\n",
       "      <th>reopen_count</th>\n",
       "      <th>sys_mod_count</th>\n",
       "      <th>made_sla</th>\n",
       "      <th>caller_id</th>\n",
       "      <th>opened_by</th>\n",
       "      <th>sys_created_by</th>\n",
       "      <th>...</th>\n",
       "      <th>sys_updated_at_day</th>\n",
       "      <th>sys_updated_at_hour</th>\n",
       "      <th>resolved_at_year</th>\n",
       "      <th>resolved_at_month</th>\n",
       "      <th>resolved_at_day</th>\n",
       "      <th>resolved_at_hour</th>\n",
       "      <th>closed_at_year</th>\n",
       "      <th>closed_at_month</th>\n",
       "      <th>closed_at_day</th>\n",
       "      <th>closed_at_hour</th>\n",
       "    </tr>\n",
       "  </thead>\n",
       "  <tbody>\n",
       "    <tr>\n",
       "      <th>0</th>\n",
       "      <td>23942</td>\n",
       "      <td>6</td>\n",
       "      <td>1</td>\n",
       "      <td>5</td>\n",
       "      <td>0</td>\n",
       "      <td>10</td>\n",
       "      <td>1</td>\n",
       "      <td>5475</td>\n",
       "      <td>8</td>\n",
       "      <td>6</td>\n",
       "      <td>...</td>\n",
       "      <td>29</td>\n",
       "      <td>13</td>\n",
       "      <td>2016</td>\n",
       "      <td>4</td>\n",
       "      <td>29</td>\n",
       "      <td>14</td>\n",
       "      <td>2016</td>\n",
       "      <td>4</td>\n",
       "      <td>5</td>\n",
       "      <td>15</td>\n",
       "    </tr>\n",
       "    <tr>\n",
       "      <th>1</th>\n",
       "      <td>21116</td>\n",
       "      <td>2</td>\n",
       "      <td>1</td>\n",
       "      <td>4</td>\n",
       "      <td>0</td>\n",
       "      <td>7</td>\n",
       "      <td>1</td>\n",
       "      <td>1329</td>\n",
       "      <td>305</td>\n",
       "      <td>10</td>\n",
       "      <td>...</td>\n",
       "      <td>29</td>\n",
       "      <td>15</td>\n",
       "      <td>2016</td>\n",
       "      <td>4</td>\n",
       "      <td>29</td>\n",
       "      <td>15</td>\n",
       "      <td>2016</td>\n",
       "      <td>4</td>\n",
       "      <td>5</td>\n",
       "      <td>15</td>\n",
       "    </tr>\n",
       "    <tr>\n",
       "      <th>2</th>\n",
       "      <td>5538</td>\n",
       "      <td>0</td>\n",
       "      <td>1</td>\n",
       "      <td>1</td>\n",
       "      <td>0</td>\n",
       "      <td>1</td>\n",
       "      <td>1</td>\n",
       "      <td>736</td>\n",
       "      <td>59</td>\n",
       "      <td>34</td>\n",
       "      <td>...</td>\n",
       "      <td>3</td>\n",
       "      <td>21</td>\n",
       "      <td>2016</td>\n",
       "      <td>3</td>\n",
       "      <td>17</td>\n",
       "      <td>10</td>\n",
       "      <td>2016</td>\n",
       "      <td>3</td>\n",
       "      <td>24</td>\n",
       "      <td>19</td>\n",
       "    </tr>\n",
       "    <tr>\n",
       "      <th>3</th>\n",
       "      <td>24000</td>\n",
       "      <td>7</td>\n",
       "      <td>1</td>\n",
       "      <td>1</td>\n",
       "      <td>0</td>\n",
       "      <td>2</td>\n",
       "      <td>1</td>\n",
       "      <td>621</td>\n",
       "      <td>501</td>\n",
       "      <td>216</td>\n",
       "      <td>...</td>\n",
       "      <td>29</td>\n",
       "      <td>9</td>\n",
       "      <td>2016</td>\n",
       "      <td>4</td>\n",
       "      <td>29</td>\n",
       "      <td>9</td>\n",
       "      <td>2016</td>\n",
       "      <td>4</td>\n",
       "      <td>5</td>\n",
       "      <td>10</td>\n",
       "    </tr>\n",
       "    <tr>\n",
       "      <th>4</th>\n",
       "      <td>28542</td>\n",
       "      <td>3</td>\n",
       "      <td>1</td>\n",
       "      <td>1</td>\n",
       "      <td>0</td>\n",
       "      <td>7</td>\n",
       "      <td>1</td>\n",
       "      <td>3800</td>\n",
       "      <td>500</td>\n",
       "      <td>10</td>\n",
       "      <td>...</td>\n",
       "      <td>13</td>\n",
       "      <td>11</td>\n",
       "      <td>2016</td>\n",
       "      <td>5</td>\n",
       "      <td>18</td>\n",
       "      <td>10</td>\n",
       "      <td>2016</td>\n",
       "      <td>5</td>\n",
       "      <td>23</td>\n",
       "      <td>11</td>\n",
       "    </tr>\n",
       "    <tr>\n",
       "      <th>...</th>\n",
       "      <td>...</td>\n",
       "      <td>...</td>\n",
       "      <td>...</td>\n",
       "      <td>...</td>\n",
       "      <td>...</td>\n",
       "      <td>...</td>\n",
       "      <td>...</td>\n",
       "      <td>...</td>\n",
       "      <td>...</td>\n",
       "      <td>...</td>\n",
       "      <td>...</td>\n",
       "      <td>...</td>\n",
       "      <td>...</td>\n",
       "      <td>...</td>\n",
       "      <td>...</td>\n",
       "      <td>...</td>\n",
       "      <td>...</td>\n",
       "      <td>...</td>\n",
       "      <td>...</td>\n",
       "      <td>...</td>\n",
       "      <td>...</td>\n",
       "    </tr>\n",
       "    <tr>\n",
       "      <th>42508</th>\n",
       "      <td>12329</td>\n",
       "      <td>7</td>\n",
       "      <td>1</td>\n",
       "      <td>0</td>\n",
       "      <td>0</td>\n",
       "      <td>1</td>\n",
       "      <td>1</td>\n",
       "      <td>681</td>\n",
       "      <td>17</td>\n",
       "      <td>10</td>\n",
       "      <td>...</td>\n",
       "      <td>29</td>\n",
       "      <td>15</td>\n",
       "      <td>2016</td>\n",
       "      <td>3</td>\n",
       "      <td>29</td>\n",
       "      <td>15</td>\n",
       "      <td>2016</td>\n",
       "      <td>3</td>\n",
       "      <td>4</td>\n",
       "      <td>15</td>\n",
       "    </tr>\n",
       "    <tr>\n",
       "      <th>42509</th>\n",
       "      <td>9431</td>\n",
       "      <td>0</td>\n",
       "      <td>1</td>\n",
       "      <td>0</td>\n",
       "      <td>0</td>\n",
       "      <td>0</td>\n",
       "      <td>1</td>\n",
       "      <td>3329</td>\n",
       "      <td>184</td>\n",
       "      <td>10</td>\n",
       "      <td>...</td>\n",
       "      <td>21</td>\n",
       "      <td>11</td>\n",
       "      <td>2016</td>\n",
       "      <td>3</td>\n",
       "      <td>21</td>\n",
       "      <td>17</td>\n",
       "      <td>2016</td>\n",
       "      <td>3</td>\n",
       "      <td>26</td>\n",
       "      <td>17</td>\n",
       "    </tr>\n",
       "    <tr>\n",
       "      <th>42510</th>\n",
       "      <td>9704</td>\n",
       "      <td>6</td>\n",
       "      <td>1</td>\n",
       "      <td>0</td>\n",
       "      <td>0</td>\n",
       "      <td>0</td>\n",
       "      <td>1</td>\n",
       "      <td>1154</td>\n",
       "      <td>58</td>\n",
       "      <td>31</td>\n",
       "      <td>...</td>\n",
       "      <td>21</td>\n",
       "      <td>18</td>\n",
       "      <td>2016</td>\n",
       "      <td>3</td>\n",
       "      <td>22</td>\n",
       "      <td>16</td>\n",
       "      <td>2016</td>\n",
       "      <td>3</td>\n",
       "      <td>27</td>\n",
       "      <td>16</td>\n",
       "    </tr>\n",
       "    <tr>\n",
       "      <th>42511</th>\n",
       "      <td>16545</td>\n",
       "      <td>7</td>\n",
       "      <td>1</td>\n",
       "      <td>0</td>\n",
       "      <td>0</td>\n",
       "      <td>5</td>\n",
       "      <td>1</td>\n",
       "      <td>675</td>\n",
       "      <td>386</td>\n",
       "      <td>167</td>\n",
       "      <td>...</td>\n",
       "      <td>13</td>\n",
       "      <td>15</td>\n",
       "      <td>2016</td>\n",
       "      <td>4</td>\n",
       "      <td>13</td>\n",
       "      <td>15</td>\n",
       "      <td>2016</td>\n",
       "      <td>4</td>\n",
       "      <td>18</td>\n",
       "      <td>16</td>\n",
       "    </tr>\n",
       "    <tr>\n",
       "      <th>42512</th>\n",
       "      <td>28918</td>\n",
       "      <td>7</td>\n",
       "      <td>1</td>\n",
       "      <td>0</td>\n",
       "      <td>0</td>\n",
       "      <td>6</td>\n",
       "      <td>1</td>\n",
       "      <td>450</td>\n",
       "      <td>24</td>\n",
       "      <td>13</td>\n",
       "      <td>...</td>\n",
       "      <td>17</td>\n",
       "      <td>11</td>\n",
       "      <td>2016</td>\n",
       "      <td>5</td>\n",
       "      <td>17</td>\n",
       "      <td>11</td>\n",
       "      <td>2016</td>\n",
       "      <td>5</td>\n",
       "      <td>22</td>\n",
       "      <td>12</td>\n",
       "    </tr>\n",
       "  </tbody>\n",
       "</table>\n",
       "<p>42513 rows × 45 columns</p>\n",
       "</div>"
      ],
      "text/plain": [
       "       number  incident_state  active  reassignment_count  reopen_count  \\\n",
       "0       23942               6       1                   5             0   \n",
       "1       21116               2       1                   4             0   \n",
       "2        5538               0       1                   1             0   \n",
       "3       24000               7       1                   1             0   \n",
       "4       28542               3       1                   1             0   \n",
       "...       ...             ...     ...                 ...           ...   \n",
       "42508   12329               7       1                   0             0   \n",
       "42509    9431               0       1                   0             0   \n",
       "42510    9704               6       1                   0             0   \n",
       "42511   16545               7       1                   0             0   \n",
       "42512   28918               7       1                   0             0   \n",
       "\n",
       "       sys_mod_count  made_sla  caller_id  opened_by  sys_created_by  ...  \\\n",
       "0                 10         1       5475          8               6  ...   \n",
       "1                  7         1       1329        305              10  ...   \n",
       "2                  1         1        736         59              34  ...   \n",
       "3                  2         1        621        501             216  ...   \n",
       "4                  7         1       3800        500              10  ...   \n",
       "...              ...       ...        ...        ...             ...  ...   \n",
       "42508              1         1        681         17              10  ...   \n",
       "42509              0         1       3329        184              10  ...   \n",
       "42510              0         1       1154         58              31  ...   \n",
       "42511              5         1        675        386             167  ...   \n",
       "42512              6         1        450         24              13  ...   \n",
       "\n",
       "       sys_updated_at_day  sys_updated_at_hour  resolved_at_year  \\\n",
       "0                      29                   13              2016   \n",
       "1                      29                   15              2016   \n",
       "2                       3                   21              2016   \n",
       "3                      29                    9              2016   \n",
       "4                      13                   11              2016   \n",
       "...                   ...                  ...               ...   \n",
       "42508                  29                   15              2016   \n",
       "42509                  21                   11              2016   \n",
       "42510                  21                   18              2016   \n",
       "42511                  13                   15              2016   \n",
       "42512                  17                   11              2016   \n",
       "\n",
       "       resolved_at_month  resolved_at_day  resolved_at_hour  closed_at_year  \\\n",
       "0                      4               29                14            2016   \n",
       "1                      4               29                15            2016   \n",
       "2                      3               17                10            2016   \n",
       "3                      4               29                 9            2016   \n",
       "4                      5               18                10            2016   \n",
       "...                  ...              ...               ...             ...   \n",
       "42508                  3               29                15            2016   \n",
       "42509                  3               21                17            2016   \n",
       "42510                  3               22                16            2016   \n",
       "42511                  4               13                15            2016   \n",
       "42512                  5               17                11            2016   \n",
       "\n",
       "       closed_at_month  closed_at_day  closed_at_hour  \n",
       "0                    4              5              15  \n",
       "1                    4              5              15  \n",
       "2                    3             24              19  \n",
       "3                    4              5              10  \n",
       "4                    5             23              11  \n",
       "...                ...            ...             ...  \n",
       "42508                3              4              15  \n",
       "42509                3             26              17  \n",
       "42510                3             27              16  \n",
       "42511                4             18              16  \n",
       "42512                5             22              12  \n",
       "\n",
       "[42513 rows x 45 columns]"
      ]
     },
     "execution_count": 84,
     "metadata": {},
     "output_type": "execute_result"
    }
   ],
   "source": [
    "X_test"
   ]
  },
  {
   "cell_type": "code",
   "execution_count": null,
   "metadata": {
    "colab": {
     "base_uri": "https://localhost:8080/",
     "height": 140
    },
    "id": "mqubgi5REjSX",
    "outputId": "5d1b22c0-16af-49c1-8163-3372f03e0de2"
   },
   "outputs": [],
   "source": [
    "'''Feature Selection\n",
    "1. Filter methods: It pick up the intrinsic properties of the features measured via univariate statistics instead of cross-validation performance. These methods are faster and \n",
    "less computationally expensive than wrapper methods. When dealing with high-dimensional data, it is computationally cheaper to use filter methods.\n",
    "  Filter Methods:\n",
    "    Information Gain\n",
    "    Chi-square Test\n",
    "    Fisher’s Score\n",
    "    Pearson Correlation\n",
    "    Variance Threshold\n",
    "    Mean Absolute Difference (MAD)\n",
    "2.Wrapper Methods: to search the space of all possible subsets of features, assessing their quality by learning and evaluating a classifier with that feature subset.\n",
    ". It follows a greedy search approach by evaluating all the possible combinations of features against the evaluation criterion\n",
    "  Wrapper Methods:\n",
    "    Forward Feature Selection\n",
    "    Backward Feature Elimination\n",
    "    Exhaustive Feature Selection\n",
    "    Recursive Feature Elimination\n",
    "3.Embedded Methods:These methods encompass the benefits of both the wrapper and filter methods, by including interactions of features but also maintaining reasonable \n",
    "computational cost. Embedded methods are iterative and  extracts those features which contribute the most to the training for a particular iteration.\n",
    "  Embedded Methods:\n",
    "    LASSO Regularization (L1)\n",
    "    Random Forest\n",
    "    Decission Tree'''\n"
   ]
  },
  {
   "cell_type": "code",
   "execution_count": null,
   "metadata": {
    "colab": {
     "base_uri": "https://localhost:8080/",
     "height": 1000
    },
    "id": "0JkUutT5Hlb1",
    "outputId": "1f0ccc7d-c8a9-4d81-8286-79e6b854f4be"
   },
   "outputs": [],
   "source": [
    "#Pearson Correlation\n",
    "corr_matrix = X_train.corr()\n",
    "sns.heatmap(corr_matrix,annot=True,linewidths=0.02)\n",
    "fig=plt.gcf()\n",
    "fig.set_size_inches(20,20)\n",
    "plt.show()\n",
    "upper = corr_matrix.where(np.triu(np.ones(corr_matrix.shape), k=1).astype(np.bool))  \n",
    "upper\n"
   ]
  },
  {
   "cell_type": "code",
   "execution_count": null,
   "metadata": {
    "id": "8kh6XiR-hi58"
   },
   "outputs": [],
   "source": [
    "#highly correlated when the value is grater than 0.9 we are marking that as 0 not considering feature\n",
    "to_drop_high = [column for column in upper.columns if any(upper[column] > 0.9)]\n",
    "#to_drop_less = [column for column in upper.columns if any(upper[column] < 0.1 )]\n",
    "feature_imp_df = pd.DataFrame(X_train.columns)\n",
    "feature_imp_df.columns = ['feature']\n",
    "feature_imp_df.set_index('feature',inplace=True)\n",
    "feature_imp_df['pearson_Corr_FI'] = 1\n",
    "for col in to_drop_high:\n",
    "  feature_imp_df.loc[col]['pearson_Corr_FI'] = 0 "
   ]
  },
  {
   "cell_type": "code",
   "execution_count": null,
   "metadata": {
    "colab": {
     "base_uri": "https://localhost:8080/",
     "height": 122
    },
    "id": "SFKseAwpwoKS",
    "outputId": "5ba3892f-9335-4d2f-c102-e4f730217e01"
   },
   "outputs": [],
   "source": [
    "#Feature Selection\n",
    "#1. decisison Tree\n",
    "model_dt_entropy = DecisionTreeClassifier(criterion='entropy')# as the dependent var is categorical so we can use either c5.0(entropy) or CART(gini impurities)\n",
    "model_dt_entropy.fit(X_train,Y_train)\n",
    "#print(\"Decession Tree Feature selection using C5.0 or Entropy \\n\",model_dt_entropy.feature_importances_)\n",
    "model_dt_gini = DecisionTreeClassifier(criterion='gini', max_depth=3)\n",
    "model_dt_gini.fit(X_train, Y_train)\n",
    "#print(\"Decession Tree Feature selection using Gini Impurities \\n\",model_dt_gini.feature_importances_)\n",
    "feature_imp_df['DT_Entropy_FI'] = model_dt_entropy.feature_importances_\n",
    "feature_imp_df['DT_Ginni_FI'] = model_dt_gini.feature_importances_\n",
    "\n",
    "#2. Mutual Info btwn two random variable(dependent and independent) which measures the dependency between them. It uses KNN\n",
    "#It is equal to zero if and only if two random variables are independent, and higher values mean higher dependency with Y.\n",
    "classif = mutual_info_classif(X_train,Y_train)\n",
    "feature_imp_df['mutual_info_classif_FI'] = classif\n",
    "\n",
    "#3. Chi-squared and f_classif using SelectKBest\n",
    "# chi2 gives the score of each feature and highest score we consider for feature selection in the same order of the column name\n",
    "selectKBest_chi2 = SelectKBest(score_func = chi2)\n",
    "selectKBest_chi2.fit(X_train, Y_train)\n",
    "feature_imp_df['selectKBest_chi2_FI'] = selectKBest_chi2.scores_\n",
    "feature_imp_df['selectKBest_chi2_FI'] = round(feature_imp_df['selectKBest_chi2_FI'],3)\n",
    "#Same as above mutual_info_classif algo it is just using selectKBest algo\n",
    "'''selectKBest_MIF = SelectKBest(score_func = mutual_info_classif)\n",
    "selectKBest_MIF.fit(X_train, Y_train)\n",
    "feature_imp_df['selectKBest_MIF_FI'] = selectKBest_MIF.scores_\n",
    "feature_imp_df['selectKBest_MIF_FI'] = round(feature_imp_df['selectKBest_MIF_FI'],3)'''\n",
    "#ANOVA f-test in the f_classif used in a feature selection strategy, such as selecting the top k most relevant features (largest values)\n",
    "selectKBest_f_classif = SelectKBest(score_func = f_classif)\n",
    "selectKBest_f_classif.fit(X_train, Y_train)\n",
    "feature_imp_df['selectKBest_f_classif_FI'] = selectKBest_f_classif.scores_\n",
    "feature_imp_df['selectKBest_f_classif_FI'] = round(feature_imp_df['selectKBest_f_classif_FI'],3)\n",
    "\n",
    "#4. RFE\n",
    "#ranking_ 1 means top feature and 2 means second top and it goes\n",
    "rfe_sel = RFE(estimator=LogisticRegression(max_iter=400), step=10, verbose=5)\n",
    "rfe_sel.fit(X_train,Y_train)\n",
    "feature_imp_df['RFE_FI'] = rfe_sel.ranking_\n",
    "feature_imp_df['RFE_FI'] = rfe_sel.ranking_\n",
    "\n",
    "#5. Random Forest\n",
    "num_trees=300\n",
    "randomForestCla = RandomForestClassifier(n_estimators=num_trees)\n",
    "randomForestCla.fit(X_train,Y_train)\n",
    "feature_imp_df['randomForestCla_FI'] = randomForestCla.feature_importances_\n",
    "\n",
    "\n",
    "'''#Random Forest and laso using SelectFromModel method\n",
    "smf_randomForestCla = SelectFromModel(RandomForestClassifier(n_estimators=num_trees))\n",
    "smf_randomForestCla.fit(X_train, Y_train)\n",
    "embeded_rf_support = smf_randomForestCla.get_support()\n",
    "feature_imp_df['smf_randomForestCla_FI'] = labelencoder.fit_transform(embeded_rf_support) #True as 1 fasle as 0'''\n",
    "\n"
   ]
  },
  {
   "cell_type": "code",
   "execution_count": null,
   "metadata": {
    "colab": {
     "base_uri": "https://localhost:8080/",
     "height": 1000
    },
    "id": "tn3iY8pjCeX-",
    "outputId": "829a5206-82a8-4d84-d8d7-466a7662be22"
   },
   "outputs": [],
   "source": [
    "feature_imp_df"
   ]
  },
  {
   "cell_type": "code",
   "execution_count": null,
   "metadata": {
    "colab": {
     "base_uri": "https://localhost:8080/",
     "height": 1000
    },
    "id": "6Xx-zmfSD1Iw",
    "outputId": "6b49f226-b2df-4e4f-f4b9-2654d5aba9b4"
   },
   "outputs": [],
   "source": [
    "'''\n",
    "fig,ax = plt.subplots(figsize=(20,7))\n",
    "sns.barplot(feature_imp_df.index,feature_imp_df['pearson_Corr_FI'],color='teal')\n",
    "plt.title(\"Feature Selection using Pearson Correlation\")\n",
    "plt.xlabel(\"features\", size=12)\n",
    "plt.ylabel(\"FI_Value\", size=12)\n",
    "plt.xticks(rotation=90)\n",
    "plt.show()\n",
    "fig,ax = plt.subplots(figsize=(20,7))\n",
    "sns.barplot(feature_imp_df.index,feature_imp_df['DT_Entropy_FI'])\n",
    "plt.title(\"Feature Selection using Decissiontree_Entropy\")\n",
    "plt.xlabel(\"features\", size=12)\n",
    "plt.ylabel(\"FI_Value\", size=12)\n",
    "plt.xticks(rotation=90)\n",
    "plt.show()\n",
    "fig,ax = plt.subplots(figsize=(20,7))\n",
    "sns.barplot(feature_imp_df.index,feature_imp_df['DT_Ginni_FI'])\n",
    "plt.title(\"Feature Selection using Decissiontree_Ginni\")\n",
    "plt.xlabel(\"features\", size=12)\n",
    "plt.ylabel(\"FI_Value\", size=12)\n",
    "plt.xticks(rotation=90)\n",
    "plt.show()\n",
    "fig,ax = plt.subplots(figsize=(20,7))\n",
    "sns.barplot(feature_imp_df.index,feature_imp_df['mutual_info_classif_FI'],color='teal')\n",
    "plt.title(\"Feature Selection using mutual info Classification\")\n",
    "plt.xlabel(\"features\", size=12)\n",
    "plt.ylabel(\"FI_Value\", size=12)\n",
    "plt.xticks(rotation=90)\n",
    "plt.show()\n",
    "fig,ax = plt.subplots(figsize=(20,7))\n",
    "sns.barplot(feature_imp_df.index,feature_imp_df['selectKBest_chi2_FI'],color='teal')\n",
    "plt.title(\"Feature Selection using Chi2\")\n",
    "plt.xlabel(\"features\", size=12)\n",
    "plt.ylabel(\"FI_Value\", size=12)\n",
    "plt.xticks(rotation=90)\n",
    "plt.show()\n",
    "fig,ax = plt.subplots(figsize=(20,7))\n",
    "sns.barplot(feature_imp_df.index,feature_imp_df['selectKBest_f_classif_FI'])\n",
    "plt.title(\"Feature Selection using f_Classification\")\n",
    "plt.xlabel(\"features\", size=12)\n",
    "plt.ylabel(\"FI_Value\", size=12)\n",
    "plt.xticks(rotation=90)\n",
    "plt.show()\n",
    "fig,ax = plt.subplots(figsize=(20,7))\n",
    "sns.barplot(feature_imp_df.index,feature_imp_df['RFE_FI'],color='teal')\n",
    "plt.title(\"Feature Selection using RFE\")\n",
    "plt.xlabel(\"features\", size=12)\n",
    "plt.ylabel(\"FI_Value\", size=12)\n",
    "plt.xticks(rotation=90)\n",
    "plt.show()\n",
    "'''\n",
    "\n",
    "feature_imp_df.DT_Entropy_FI.sort_values(ascending=False).plot.bar(figsize=(20,7))\n",
    "plt.title(\"Feature Selection using Decissiontree_Entropy\")\n",
    "plt.show()\n",
    "feature_imp_df.DT_Ginni_FI.sort_values(ascending=False).plot.bar(figsize=(20,7))\n",
    "plt.title(\"Feature Selection using Decissiontree_Ginni\")\n",
    "plt.show()\n",
    "feature_imp_df.mutual_info_classif_FI.sort_values(ascending=False).plot.bar(figsize=(20,7))\n",
    "plt.title(\"Feature Selection using mutual info Classification\")\n",
    "plt.show()\n",
    "feature_imp_df.selectKBest_chi2_FI.sort_values(ascending=False).plot.bar(figsize=(20,7))\n",
    "plt.title(\"Feature Selection using Chi2\")\n",
    "plt.show()\n",
    "feature_imp_df.selectKBest_f_classif_FI.sort_values(ascending=False).plot.bar(figsize=(20,7))\n",
    "plt.title(\"Feature Selection using f_Classification\")\n",
    "plt.show()\n",
    "feature_imp_df.RFE_FI.sort_values(ascending=False).plot.bar(figsize=(20,7))\n",
    "plt.title(\"Feature Selection using RFE\")\n",
    "plt.show()\n"
   ]
  },
  {
   "cell_type": "code",
   "execution_count": null,
   "metadata": {
    "colab": {
     "base_uri": "https://localhost:8080/"
    },
    "id": "H2v8hbONqOdW",
    "outputId": "469f0d40-2567-4b1a-c176-d2e9e364e726"
   },
   "outputs": [],
   "source": [
    "feature_imp_df.columns"
   ]
  },
  {
   "cell_type": "code",
   "execution_count": null,
   "metadata": {
    "colab": {
     "base_uri": "https://localhost:8080/"
    },
    "id": "KFtRUFc0qOfn",
    "outputId": "05f7a2f9-b572-4f0c-f63f-e582f77100c2"
   },
   "outputs": [],
   "source": [
    "feature_imp_df.DT_Entropy_FI.sort_values(ascending=False).iloc[:10]\n"
   ]
  },
  {
   "cell_type": "code",
   "execution_count": null,
   "metadata": {
    "colab": {
     "base_uri": "https://localhost:8080/"
    },
    "id": "XW87JVcmqOjK",
    "outputId": "25aaef9d-9a4c-47a2-c171-55610038484c"
   },
   "outputs": [],
   "source": [
    "feature_imp_df.DT_Ginni_FI.sort_values(ascending=False).iloc[:10]"
   ]
  },
  {
   "cell_type": "code",
   "execution_count": null,
   "metadata": {
    "colab": {
     "base_uri": "https://localhost:8080/"
    },
    "id": "u26liHwhqOm9",
    "outputId": "97072b6e-81fe-428c-a8f0-e169112c2f4d"
   },
   "outputs": [],
   "source": [
    "feature_imp_df.mutual_info_classif_FI.sort_values(ascending=False).iloc[:10]\n"
   ]
  },
  {
   "cell_type": "code",
   "execution_count": null,
   "metadata": {
    "colab": {
     "base_uri": "https://localhost:8080/"
    },
    "id": "MzQWwgq2qOpF",
    "outputId": "13c8cdf6-734a-41c9-e5f6-5656f846372d"
   },
   "outputs": [],
   "source": [
    "feature_imp_df.selectKBest_chi2_FI.sort_values(ascending=False).iloc[:10]"
   ]
  },
  {
   "cell_type": "code",
   "execution_count": null,
   "metadata": {
    "colab": {
     "base_uri": "https://localhost:8080/"
    },
    "id": "yfhUdY39qOqa",
    "outputId": "83883e94-f2d5-4cce-8804-17be7988c758"
   },
   "outputs": [],
   "source": [
    "feature_imp_df.selectKBest_f_classif_FI.sort_values(ascending=False).iloc[:10]"
   ]
  },
  {
   "cell_type": "code",
   "execution_count": null,
   "metadata": {
    "colab": {
     "base_uri": "https://localhost:8080/"
    },
    "id": "xg7HA_yqqOsJ",
    "outputId": "5b9725eb-9ab8-4be5-c65a-f6c9e32f1102"
   },
   "outputs": [],
   "source": [
    "\n",
    "feature_imp_df.RFE_FI[feature_imp_df.RFE_FI == 1]\n"
   ]
  },
  {
   "cell_type": "code",
   "execution_count": null,
   "metadata": {
    "colab": {
     "base_uri": "https://localhost:8080/"
    },
    "id": "o4O2FgjqqOvP",
    "outputId": "fce37317-d719-462f-a7aa-9975d5575b80"
   },
   "outputs": [],
   "source": [
    "feature_imp_df.randomForestCla_FI.sort_values(ascending=False).iloc[:10]"
   ]
  },
  {
   "cell_type": "code",
   "execution_count": null,
   "metadata": {
    "colab": {
     "base_uri": "https://localhost:8080/",
     "height": 423
    },
    "id": "aEehwhxmbeTg",
    "outputId": "06abdc57-054b-4f2a-a19c-2237cb866751"
   },
   "outputs": [],
   "source": [
    "pps_matrix = pps.matrix(df.iloc[:,0:-2])\n",
    "pps_df = pps_matrix[['x', 'y', 'ppscore','baseline_score','model_score']]\n",
    "#Calculate the Predictive Power Score (PPS) for \"x predicts y\"\n",
    "#The score always ranges from 0 to 1 and is data-type agnostic.\n",
    "#A score of 0 means that the column x cannot predict the column y better than a naive baseline model.\n",
    "#A score of 1 means that the column x can perfectly predict the column y given the model.\n",
    "#A score between 0 and 1 states the ratio of how much potential predictive power the model achieved compared to the baseline model.\n",
    "#and to consider the feature if p score is > 0.5 and if model score is greater than the baseline score then we can consider the feature\n",
    "index = []\n",
    "for x in np.arange(len(pps_df)):\n",
    "  if(pps_df.iloc[x].ppscore > 0.5 and pps_df.iloc[x].ppscore < 1):\n",
    "      index.append(x)\n",
    "\n",
    "pps_df.iloc[index]"
   ]
  },
  {
   "cell_type": "code",
   "execution_count": null,
   "metadata": {
    "id": "FXP23y1QWsTs"
   },
   "outputs": [],
   "source": [
    "#Baesd on the above feature sellection techniques we will use 'number','caller_id','opened_by','sys_created_by','sys_created_at_day','urgency','priority','resolved_by','opened_at_hour'"
   ]
  },
  {
   "cell_type": "code",
   "execution_count": 87,
   "metadata": {},
   "outputs": [],
   "source": [
    "df_final = df[['number','caller_id','opened_by','sys_created_by','sys_created_at_day','urgency','priority','resolved_by','opened_at_hour','impact']]\n",
    "df_final.to_csv('DataClean_incidentlog.csv',index=False)"
   ]
  },
  {
   "cell_type": "code",
   "execution_count": null,
   "metadata": {
    "id": "gPf3-0ISWsWA"
   },
   "outputs": [],
   "source": [
    "\n",
    "X_train_Fsel = X_train[['number','caller_id','opened_by','sys_created_by','sys_created_at_day','urgency','priority','resolved_by','opened_at_hour']]\n",
    "X_test_Fsel = X_test[['number','caller_id','opened_by','sys_created_by','sys_created_at_day','urgency','priority','resolved_by','opened_at_hour']]"
   ]
  },
  {
   "cell_type": "code",
   "execution_count": null,
   "metadata": {
    "colab": {
     "base_uri": "https://localhost:8080/",
     "height": 331
    },
    "id": "nsjR4ivyLK4t",
    "outputId": "d3002989-edb6-4bef-8b8a-e9eb5ae03a66"
   },
   "outputs": [],
   "source": [
    "##imbalanced data data distribution\n",
    "print(\"Training target statistics: {Counter(Y_train)}\")\n",
    "print(\"Testing target statistics: {Counter(Y_test)}\")\n",
    "pca = PCA(n_components=2)\n",
    "pca.fit(X_train_Fsel.values)\n",
    "X_pca = pca.transform(X_train_Fsel.values)\n",
    "df_1 = pd.DataFrame(X_pca,columns=['pc1','pc2'])\n",
    "df_2 = pd.DataFrame(Y_train).reset_index(drop=True)\n",
    "finalDf = pd.concat([df_1.reset_index(drop=True),df_2.reset_index(drop=True)],axis=1)\n",
    "sns.scatterplot(data=finalDf,x='pc1',y='pc2',hue='impact')\n",
    "    "
   ]
  },
  {
   "cell_type": "code",
   "execution_count": null,
   "metadata": {
    "colab": {
     "base_uri": "https://localhost:8080/"
    },
    "id": "ULfjXntfhNvy",
    "outputId": "ced2e83c-56ed-4acf-827f-3928ea777e3d"
   },
   "outputs": [],
   "source": [
    "\n",
    "# DummyClassifier to predict only target 0\n",
    "dummy = DummyClassifier(strategy='most_frequent').fit(X_train_Fsel, Y_train)\n",
    "dummy_pred = dummy.predict(X_test_Fsel)\n",
    "\n",
    "# checking unique labels\n",
    "print('Unique predicted labels: ', (np.unique(dummy_pred)))\n",
    "\n",
    "# checking accuracy\n",
    "print('Test score: ', accuracy_score(Y_test, dummy_pred))\n",
    "#As the Dummy Classifier predicts only impact 2, it is clearly not a good option for our objective of correctly classifying fraudulent transactions."
   ]
  },
  {
   "cell_type": "code",
   "execution_count": null,
   "metadata": {
    "colab": {
     "base_uri": "https://localhost:8080/"
    },
    "id": "vWEEOCg8rrl0",
    "outputId": "6cdbf7ca-ab48-4707-839a-be0f348e5bfa"
   },
   "outputs": [],
   "source": [
    "\n",
    "sm = SMOTE(random_state=42)\n",
    "x_train_smote,y_train_smote = sm.fit_resample(X_train_Fsel,Y_train)\n",
    "print(\"Before SMOTE :\",Counter(Y_train))\n",
    "print(\"After SMOTE :\",Counter(y_train_smote))"
   ]
  },
  {
   "cell_type": "code",
   "execution_count": null,
   "metadata": {
    "colab": {
     "base_uri": "https://localhost:8080/",
     "height": 423
    },
    "id": "ihkOiV30Se8p",
    "outputId": "d34442d9-93ee-4255-f7f8-9ea4c2fada49"
   },
   "outputs": [],
   "source": [
    "x_train_smote"
   ]
  },
  {
   "cell_type": "code",
   "execution_count": null,
   "metadata": {
    "id": "wv9pg6C1Az-I"
   },
   "outputs": [],
   "source": [
    "#Normalization of the data or MInMax method\n",
    "scaler = MinMaxScaler(feature_range=(0,1))\n",
    "rescalX = np.round(scaler.fit_transform(X_train_Fsel),4)\n",
    "rescaledX = np.round(scaler.fit_transform(x_train_smote),4)\n",
    "X_test_FselStd = np.round(scaler.fit_transform(X_test_Fsel),4)"
   ]
  },
  {
   "cell_type": "code",
   "execution_count": null,
   "metadata": {
    "colab": {
     "base_uri": "https://localhost:8080/",
     "height": 358
    },
    "id": "Yrhxe2yTV094",
    "outputId": "76ee7ad8-9d0d-4cb1-ecc4-eb424011ee76"
   },
   "outputs": [],
   "source": [
    "#Logistic Regression with imbalaced data\n",
    "classifier = LogisticRegression()\n",
    "classifier.fit(rescalX,Y_train)\n",
    "y_pred = classifier.predict(X_test_FselStd)\n",
    "y_pred_df= pd.DataFrame({'actual': Y_test,\n",
    "                         'predicted_prob': y_pred})\n",
    "print(confusion_matrix(Y_test,y_pred))\n",
    "print(accuracy_score(Y_test,y_pred))\n",
    "print(classification_report(Y_test,y_pred))\n",
    "print('Total Test Count is', len(X_test_FselStd),' \\n Test failed count is - ',len(y_pred_df.iloc[np.where(y_pred_df['actual'] != y_pred_df['predicted_prob'])]))\n",
    "accuracy= accuracy_score(Y_test,y_pred)*100\n",
    "precision = precision_score(Y_test,y_pred, average='weighted')\n",
    "recall = recall_score(Y_test,y_pred,average='weighted')\n",
    "f1 = f1_score(Y_test,y_pred,average='weighted')\n",
    "roc_auc = roc_auc_score(Y_test,classifier.predict_proba(X_test_FselStd),average = 'weighted',multi_class='ovo')#As we have target variable as multiclass(not multilabel )\n",
    "data = {'Model_Name':['LogisticRegrs'],\n",
    "                           'accuracy': [accuracy],\n",
    "                           'precision_Score' : [precision],\n",
    "                           'recall_Score' : [recall],\n",
    "                           'f1_score' : [f1],\n",
    "                           'roc_auc_score' : [roc_auc]}\n",
    "imbalData_model = pd.DataFrame(data)\n",
    "imbalData_model"
   ]
  },
  {
   "cell_type": "code",
   "execution_count": null,
   "metadata": {
    "colab": {
     "base_uri": "https://localhost:8080/",
     "height": 358
    },
    "id": "gz7KIBEb57-4",
    "outputId": "9ebc2a46-15af-49ad-a14f-90e16f77e9f9"
   },
   "outputs": [],
   "source": [
    "#Logistic Regression with balanced data\n",
    "classifier = LogisticRegression()\n",
    "classifier.fit(rescaledX,y_train_smote)\n",
    "y_pred = classifier.predict(X_test_FselStd)\n",
    "y_pred_df= pd.DataFrame({'actual': Y_test,\n",
    "                         'predicted_prob': y_pred})\n",
    "print(confusion_matrix(Y_test,y_pred))\n",
    "print(accuracy_score(Y_test,y_pred))\n",
    "print(classification_report(Y_test,y_pred))\n",
    "print('Total Test Count is', len(X_test_FselStd),' \\n Test failed count is - ',len(y_pred_df.iloc[np.where(y_pred_df['actual'] != y_pred_df['predicted_prob'])]))\n",
    "accuracy= accuracy_score(Y_test,y_pred)*100\n",
    "precision = precision_score(Y_test,y_pred, average='weighted')\n",
    "recall = recall_score(Y_test,y_pred,average='weighted')\n",
    "f1 = f1_score(Y_test,y_pred,average='weighted')\n",
    "roc_auc = roc_auc_score(Y_test,classifier.predict_proba(X_test_FselStd),average = 'weighted',multi_class='ovo')#As we have target variable as multiclass(not multilabel )\n",
    "bal_model = pd.DataFrame({'Model_Name':['LogisticRegrs'],\n",
    "                           'accuracy': [accuracy],\n",
    "                           'precision_Score' : [precision],\n",
    "                           'recall_Score' : [recall],\n",
    "                           'f1_score' : [f1],\n",
    "                           'roc_auc_score' : [roc_auc]})\n",
    "bal_model\n"
   ]
  },
  {
   "cell_type": "code",
   "execution_count": null,
   "metadata": {
    "colab": {
     "base_uri": "https://localhost:8080/"
    },
    "id": "T9oWpc3hWsff",
    "outputId": "f7d7be68-b187-4d3f-b74c-21609db0add4"
   },
   "outputs": [],
   "source": [
    "#Decission Tree grid search with imbalanced data\n",
    "from sklearn.model_selection import GridSearchCV,KFold\n",
    "criterion=['gini','entropy']\n",
    "max_depth=[3,4,5]\n",
    "param_grids = dict(criterion = criterion,max_depth =max_depth)\n",
    "model =  DecisionTreeClassifier()\n",
    "grid = GridSearchCV(estimator = model,param_grid = param_grids,cv = KFold(),verbose = 10)\n",
    "grid_result = grid.fit(rescalX,Y_train)\n",
    "print(grid.best_score_)\n",
    "print(grid.best_params_)"
   ]
  },
  {
   "cell_type": "code",
   "execution_count": null,
   "metadata": {
    "colab": {
     "base_uri": "https://localhost:8080/",
     "height": 390
    },
    "id": "4aPSS4TPYomD",
    "outputId": "3fe6f5b2-f692-4d21-a26b-40a347884133"
   },
   "outputs": [],
   "source": [
    "#Decission Tree with imbalance data\n",
    "model =  DecisionTreeClassifier(criterion='gini', max_depth =  5)\n",
    "model.fit(rescalX,Y_train)\n",
    "y_pred1 = model.predict(X_test_FselStd)\n",
    "y_pred1_df= pd.DataFrame({'actual': Y_test,\n",
    "                         'predicted_prob': y_pred1})\n",
    "print(confusion_matrix(Y_test,y_pred1))\n",
    "print(accuracy_score(Y_test,y_pred1))\n",
    "print(classification_report(Y_test,y_pred1))\n",
    "print('Total Test Count is', len(X_test_FselStd),' \\n Test failed count is - ',len(y_pred1_df.iloc[np.where(y_pred1_df['actual'] != y_pred1_df['predicted_prob'])]))\n",
    "accuracy1= accuracy_score(Y_test,y_pred1)*100\n",
    "precision1 = precision_score(Y_test,y_pred1, average='weighted')\n",
    "recall1 = recall_score(Y_test,y_pred1,average='weighted')\n",
    "f1_1 = f1_score(Y_test,y_pred1,average='weighted')\n",
    "roc_auc_1= roc_auc_score(Y_test,model.predict_proba(X_test_FselStd),average = 'weighted',multi_class='ovo')#As we have target variable as multiclass(not multilabel )\n",
    "'''newrow = {'Model_Name':'DecissionTree_Gini',\n",
    "                           'accuracy': accuracy1,\n",
    "                           'precision_Score' : precision1,\n",
    "                           'recall_Score' : recall1,\n",
    "                           'f1_score' : f1_1,\n",
    "                           'roc_auc_score' : roc_auc_1}'''\n",
    "\n",
    "imbalData_model.loc[len(imbalData_model.index)] = ['DecissionTree_Gini', accuracy1, precision1,recall1,f1_1,roc_auc_1]\n",
    "imbalData_model\n"
   ]
  },
  {
   "cell_type": "code",
   "execution_count": null,
   "metadata": {
    "colab": {
     "base_uri": "https://localhost:8080/"
    },
    "id": "KUV1ri8ZdktA",
    "outputId": "e3d0cd68-e2de-4801-d513-fe8cb6807aeb"
   },
   "outputs": [],
   "source": [
    "#Decission Tree grid search with balanced data\n",
    "from sklearn.model_selection import GridSearchCV,KFold\n",
    "criterion=['gini','entropy']\n",
    "max_depth=[3,4,5]\n",
    "param_grids = dict(criterion = criterion,max_depth =max_depth)\n",
    "model =  DecisionTreeClassifier()\n",
    "grid = GridSearchCV(estimator = model,param_grid = param_grids,cv = KFold(),verbose = 10)\n",
    "grid_result = grid.fit(rescaledX,y_train_smote)\n",
    "print(grid.best_score_)\n",
    "print(grid.best_params_)"
   ]
  },
  {
   "cell_type": "code",
   "execution_count": null,
   "metadata": {
    "colab": {
     "base_uri": "https://localhost:8080/",
     "height": 390
    },
    "id": "epXV8sr4XR5H",
    "outputId": "8bfb5a28-08d8-40ef-a14e-1ab42c5e7fd6"
   },
   "outputs": [],
   "source": [
    "#Decission Tree with balance data\n",
    "model =  DecisionTreeClassifier(criterion='entropy', max_depth =  5)\n",
    "model.fit(rescaledX,y_train_smote)\n",
    "y_pred1 = model.predict(X_test_FselStd)\n",
    "y_pred1_df= pd.DataFrame({'actual': Y_test,\n",
    "                         'predicted_prob': y_pred1})\n",
    "print(confusion_matrix(Y_test,y_pred1))\n",
    "print(accuracy_score(Y_test,y_pred1))\n",
    "print(classification_report(Y_test,y_pred1))\n",
    "print('Total Test Count is', len(X_test_FselStd),' \\n Test failed count is - ',len(y_pred1_df.iloc[np.where(y_pred1_df['actual'] != y_pred1_df['predicted_prob'])]))\n",
    "accuracy1= accuracy_score(Y_test,y_pred1)*100\n",
    "precision1 = precision_score(Y_test,y_pred1, average='weighted')\n",
    "recall1 = recall_score(Y_test,y_pred1,average='weighted')\n",
    "f1_1 = f1_score(Y_test,y_pred1,average='weighted')\n",
    "roc_auc_1= roc_auc_score(Y_test,model.predict_proba(X_test_FselStd),average = 'weighted',multi_class='ovo')\n",
    "'''newrow = {'Model_Name':'DecissionTree_Entropy',\n",
    "                           'accuracy': accuracy1,\n",
    "                           'precision_Score' : precision1,\n",
    "                           'recall_Score' : recall1,\n",
    "                           'f1_score' : f1_1,\n",
    "                           'roc_auc_score' : roc_auc_1}\n",
    "bal_model.loc[-1]=newrow\n",
    "bal_model.reset_index(drop=True)'''\n",
    "\n",
    "bal_model.loc[len(bal_model.index)] = ['DecissionTree_Entropy', accuracy1, precision1,recall1,f1_1,roc_auc_1]\n",
    "bal_model\n"
   ]
  },
  {
   "cell_type": "code",
   "execution_count": null,
   "metadata": {
    "colab": {
     "base_uri": "https://localhost:8080/"
    },
    "id": "dw-BMRy4Y0Pr",
    "outputId": "c5d260f3-248f-40b7-89e1-3e14c96e29f7"
   },
   "outputs": [],
   "source": [
    "#KNN grid search with imbalced data\n",
    "n_nbh = np.array(range(1,10))#considering the k value from 1 to 50\n",
    "param_grid = dict(n_neighbors=n_nbh)#The dict() constructor builds dictionaries directly from sequences of key-value pairs\n",
    "model1 = KNeighborsClassifier()\n",
    "grid = GridSearchCV(estimator=model1, param_grid=param_grid)\n",
    "grid_result = grid.fit(rescalX,Y_train)\n",
    "print(grid.best_score_)\n",
    "print(grid.best_params_)"
   ]
  },
  {
   "cell_type": "code",
   "execution_count": null,
   "metadata": {
    "colab": {
     "base_uri": "https://localhost:8080/",
     "height": 278
    },
    "id": "-IbQSKRmoepW",
    "outputId": "de8a51e3-cc9a-4d13-8791-e4f271ed31a4"
   },
   "outputs": [],
   "source": [
    " #visualizing the above method\n",
    "import matplotlib.pyplot as plt \n",
    "%matplotlib inline\n",
    "# choose k between 1 to 41\n",
    "k_range = range(1, 10)\n",
    "k_scores = []\n",
    "# use iteration to caclulator different k in models, then return the average accuracy based on the cross validation\n",
    "for k in k_range:\n",
    "    knn = KNeighborsClassifier(n_neighbors=k)\n",
    "    scores = cross_val_score(knn, rescalX,Y_train, cv=5)\n",
    "    k_scores.append(scores.mean())\n",
    "# plot to see clearly\n",
    "plt.plot(k_range, k_scores)\n",
    "plt.xlabel('Value of K for KNN')\n",
    "plt.ylabel('Cross-Validated Accuracy')\n",
    "plt.show()"
   ]
  },
  {
   "cell_type": "code",
   "execution_count": null,
   "metadata": {
    "colab": {
     "base_uri": "https://localhost:8080/",
     "height": 421
    },
    "id": "VOPk9uyafPZT",
    "outputId": "28060b5f-9a12-4cd0-bcff-58f84946fa83"
   },
   "outputs": [],
   "source": [
    "#KNN with imbalced data\n",
    "from sklearn.model_selection import LeaveOneOut,cross_val_score\n",
    "model1 = KNeighborsClassifier(n_neighbors=2)\n",
    "model1.fit(rescalX,Y_train)\n",
    "y_pred2 = model1.predict(X_test_FselStd)\n",
    "y_pred2_df= pd.DataFrame({'actual': Y_test,\n",
    "                         'predicted_prob': y_pred2})\n",
    "print(confusion_matrix(Y_test,y_pred2))\n",
    "print(accuracy_score(Y_test,y_pred2))\n",
    "print(classification_report(Y_test,y_pred2))\n",
    "print('Total Test Count is', len(X_test_FselStd),' \\n Test failed count is - ',len(y_pred2_df.iloc[np.where(y_pred2_df['actual'] != y_pred2_df['predicted_prob'])]))\n",
    "accuracy2= accuracy_score(Y_test,y_pred2)*100\n",
    "precision2 = precision_score(Y_test,y_pred2, average='weighted')\n",
    "recall2 = recall_score(Y_test,y_pred2,average='weighted')\n",
    "f1_2 = f1_score(Y_test,y_pred2,average='weighted')\n",
    "roc_auc_2= roc_auc_score(Y_test,model1.predict_proba(X_test_FselStd),average = 'weighted',multi_class='ovo')#As we have target variable as multiclass(not multilabel )\n",
    "imbalData_model.loc[len(imbalData_model.index)] = ['KNN', accuracy2, precision2,recall2,f1_2,roc_auc_2]\n",
    "imbalData_model"
   ]
  },
  {
   "cell_type": "code",
   "execution_count": null,
   "metadata": {
    "colab": {
     "base_uri": "https://localhost:8080/"
    },
    "id": "IceDOqhRWsi8",
    "outputId": "99180336-3b51-4c1d-f9d0-a5a2bc7d9d45"
   },
   "outputs": [],
   "source": [
    "#KNN grid search with balanced data\n",
    "n_nbh = np.array(range(1,10))#considering the k value from 1 to 50\n",
    "param_grid = dict(n_neighbors=n_nbh)#The dict() constructor builds dictionaries directly from sequences of key-value pairs\n",
    "model1 = KNeighborsClassifier()\n",
    "grid = GridSearchCV(estimator=model1, param_grid=param_grid)\n",
    "grid_result = grid.fit(rescaledX,y_train_smote)\n",
    "print(grid.best_score_)\n",
    "print(grid.best_params_)"
   ]
  },
  {
   "cell_type": "code",
   "execution_count": null,
   "metadata": {
    "colab": {
     "base_uri": "https://localhost:8080/",
     "height": 421
    },
    "id": "3_5XfdgEfcVO",
    "outputId": "9dc45b39-8243-47a0-9474-aa3ad42d2a98"
   },
   "outputs": [],
   "source": [
    "#KNN with balance data\n",
    "model1 = KNeighborsClassifier(n_neighbors=1)\n",
    "model1.fit(rescaledX,y_train_smote)\n",
    "y_pred2 = model1.predict(X_test_FselStd)\n",
    "y_pred2_df= pd.DataFrame({'actual': Y_test,\n",
    "                         'predicted_prob': y_pred2})\n",
    "print(confusion_matrix(Y_test,y_pred2))\n",
    "print(accuracy_score(Y_test,y_pred2))\n",
    "print(classification_report(Y_test,y_pred2))\n",
    "print('Total Test Count is', len(X_test_FselStd),' \\n Test failed count is - ',len(y_pred2_df.iloc[np.where(y_pred2_df['actual'] != y_pred2_df['predicted_prob'])]))\n",
    "accuracy2= accuracy_score(Y_test,y_pred2)*100\n",
    "precision2 = precision_score(Y_test,y_pred2, average='weighted')\n",
    "recall2 = recall_score(Y_test,y_pred2,average='weighted')\n",
    "f1_2 = f1_score(Y_test,y_pred2,average='weighted')\n",
    "roc_auc_2= roc_auc_score(Y_test,model1.predict_proba(X_test_FselStd),average = 'weighted',multi_class='ovo')#As we have target variable as multiclass(not multilabel )\n",
    "bal_model.loc[len(bal_model.index)] = ['KNN', accuracy2, precision2,recall2,f1_2,roc_auc_2]\n",
    "bal_model"
   ]
  },
  {
   "cell_type": "code",
   "execution_count": null,
   "metadata": {
    "colab": {
     "base_uri": "https://localhost:8080/"
    },
    "id": "bU_ShnvnY0VM",
    "outputId": "d08dbb57-3225-46f6-8f9f-8a5b517f3243"
   },
   "outputs": [],
   "source": [
    "#Random Forest grid search with imbalced data\n",
    "n_estimators = [200,300,250]\n",
    "max_features = [4,5,6]\n",
    "param_grid = dict(n_estimators = n_estimators,max_features =max_features)\n",
    "model2 = RandomForestClassifier()\n",
    "grid = GridSearchCV(estimator=model2, param_grid=param_grid,cv = KFold(),verbose = 10)\n",
    "grid_result = grid.fit(rescalX,Y_train)\n",
    "print(grid.best_score_)\n",
    "print(grid.best_params_)\n"
   ]
  },
  {
   "cell_type": "code",
   "execution_count": null,
   "metadata": {
    "colab": {
     "base_uri": "https://localhost:8080/",
     "height": 452
    },
    "id": "NmIikLgfmfja",
    "outputId": "6be4eecd-04b5-45b2-937c-ee59a0bcdbf3"
   },
   "outputs": [],
   "source": [
    "#Random Forest with imbalced data\n",
    "model2 = RandomForestClassifier(n_estimators=200,max_features=4)\n",
    "model2.fit(rescalX,Y_train)\n",
    "y_pred3 = model2.predict(X_test_FselStd)\n",
    "y_pred3_df= pd.DataFrame({'actual': Y_test,\n",
    "                         'predicted_prob': y_pred3})\n",
    "print(confusion_matrix(Y_test,y_pred3))\n",
    "print(accuracy_score(Y_test,y_pred3))\n",
    "print(classification_report(Y_test,y_pred3))\n",
    "print('Total Test Count is', len(X_test_FselStd),' \\n Test failed count is - ',len(y_pred3_df.iloc[np.where(y_pred3_df['actual'] != y_pred3_df['predicted_prob'])]))\n",
    "accuracy3= accuracy_score(Y_test,y_pred3)*100\n",
    "precision3 = precision_score(Y_test,y_pred3, average='weighted')\n",
    "recall3 = recall_score(Y_test,y_pred3,average='weighted')\n",
    "f1_3 = f1_score(Y_test,y_pred3,average='weighted')\n",
    "roc_auc_3= roc_auc_score(Y_test,model2.predict_proba(X_test_FselStd),average = 'weighted',multi_class='ovo')#As we have target variable as multiclass(not multilabel )\n",
    "imbalData_model.loc[len(imbalData_model.index)] = ['RandomForest', accuracy3, precision3,recall3,f1_3,roc_auc_3]\n",
    "imbalData_model"
   ]
  },
  {
   "cell_type": "code",
   "execution_count": null,
   "metadata": {
    "colab": {
     "base_uri": "https://localhost:8080/"
    },
    "id": "acNXeQeYY0Xn",
    "outputId": "39a5e3f9-8558-4855-bf67-7c5841bb7aff"
   },
   "outputs": [],
   "source": [
    "#Random Forest grid search with BALANCED data\n",
    "n_estimators = [400,300]\n",
    "max_features = [3,4]\n",
    "param_grid = dict(n_estimators = n_estimators,max_features =max_features)\n",
    "model2 = RandomForestClassifier()\n",
    "grid = GridSearchCV(estimator=model2, param_grid=param_grid,cv = KFold(),verbose = 10)\n",
    "grid_result = grid.fit(rescaledX,y_train_smote)\n",
    "print(grid.best_score_)\n",
    "print(grid.best_params_)\n"
   ]
  },
  {
   "cell_type": "code",
   "execution_count": null,
   "metadata": {
    "colab": {
     "base_uri": "https://localhost:8080/",
     "height": 452
    },
    "id": "woQETYauY0aL",
    "outputId": "5730646f-cd4c-4870-bbb3-8ba726841f43"
   },
   "outputs": [],
   "source": [
    "#Random Forest with balanced data\n",
    "model2 = RandomForestClassifier(n_estimators=400,max_features=3)\n",
    "model2.fit(rescaledX,y_train_smote)\n",
    "y_pred3 = model2.predict(X_test_FselStd)\n",
    "y_pred3_df= pd.DataFrame({'actual': Y_test,\n",
    "                         'predicted_prob': y_pred3})\n",
    "print(confusion_matrix(Y_test,y_pred3))\n",
    "print(accuracy_score(Y_test,y_pred3))\n",
    "print(classification_report(Y_test,y_pred3))\n",
    "print('Total Test Count is', len(X_test_FselStd),' \\n Test failed count is - ',len(y_pred3_df.iloc[np.where(y_pred3_df['actual'] != y_pred3_df['predicted_prob'])]))\n",
    "accuracy3= accuracy_score(Y_test,y_pred3)*100\n",
    "precision3 = precision_score(Y_test,y_pred3, average='weighted')\n",
    "recall3 = recall_score(Y_test,y_pred3,average='weighted')\n",
    "f1_3 = f1_score(Y_test,y_pred3,average='weighted')\n",
    "roc_auc_3= roc_auc_score(Y_test,model2.predict_proba(X_test_FselStd),average = 'weighted',multi_class='ovo')#As we have target variable as multiclass(not multilabel )\n",
    "bal_model.loc[len(bal_model.index)] = ['RandomForest', accuracy3, precision3,recall3,f1_3,roc_auc_3]\n",
    "bal_model"
   ]
  },
  {
   "cell_type": "code",
   "execution_count": null,
   "metadata": {
    "id": "S4c6LJLJzz8m"
   },
   "outputs": [],
   "source": [
    "#Bernoulli Naive Bayes : It assumes that all our features are binary such that they take only two values. Means 0s can represent \n",
    "#“word does not occur in the document” and 1s as \"word occurs in the document\" .\n",
    "\n",
    "#Multinomial Naive Bayes : Its is used when we have discrete data (e.g. movie ratings ranging 1 and 5 as each rating will have certain frequency to represent).\n",
    "# In text learning we have the count of each word to predict the class or label.\n",
    "\n",
    "#Gaussian Naive Bayes : Because of the assumption of the normal distribution, Gaussian Naive Bayes is used in cases when all our features are continuous"
   ]
  },
  {
   "cell_type": "code",
   "execution_count": null,
   "metadata": {
    "colab": {
     "base_uri": "https://localhost:8080/",
     "height": 483
    },
    "id": "ayRXcCiPzz6r",
    "outputId": "61dd1d0d-d27a-4a04-d550-151aa56d7dde"
   },
   "outputs": [],
   "source": [
    "#Multinomial Naive Bayes with imbalced data\n",
    "from sklearn.naive_bayes import MultinomialNB as MB\n",
    "model4 =  MB()\n",
    "model4.fit(rescalX,Y_train)\n",
    "y_pred5 = model4.predict(X_test_FselStd)\n",
    "y_pred5_df= pd.DataFrame({'actual': Y_test,\n",
    "                         'predicted_prob': y_pred5})\n",
    "print(confusion_matrix(Y_test,y_pred5))\n",
    "print(accuracy_score(Y_test,y_pred5))\n",
    "print(classification_report(Y_test,y_pred5))\n",
    "print('Total Test Count is', len(X_test_FselStd),' \\n Test failed count is - ',len(y_pred5_df.iloc[np.where(y_pred5_df['actual'] != y_pred5_df['predicted_prob'])]))\n",
    "accuracy5= accuracy_score(Y_test,y_pred5)*100\n",
    "precision5 = precision_score(Y_test,y_pred5, average='weighted')\n",
    "recall5 = recall_score(Y_test,y_pred5,average='weighted')\n",
    "f1_5 = f1_score(Y_test,y_pred5,average='weighted')\n",
    "roc_auc_5= roc_auc_score(Y_test,model4.predict_proba(X_test_FselStd),average = 'weighted',multi_class='ovo')#As we have target variable as multiclass(not multilabel )\n",
    "imbalData_model.loc[len(imbalData_model.index)] = ['NaiveBayes', accuracy5, precision5,recall5,f1_5,roc_auc_5]\n",
    "imbalData_model\n"
   ]
  },
  {
   "cell_type": "code",
   "execution_count": null,
   "metadata": {
    "colab": {
     "base_uri": "https://localhost:8080/",
     "height": 483
    },
    "id": "QOdf27eBz0CJ",
    "outputId": "ecbf9804-1ae2-49d8-d6cb-079f41ed32d4"
   },
   "outputs": [],
   "source": [
    "#Multinomial Naive Bayes with balanced data\n",
    "model4 =  MB()\n",
    "model4.fit(rescaledX,y_train_smote)\n",
    "y_pred5 = model4.predict(X_test_FselStd)\n",
    "y_pred5_df= pd.DataFrame({'actual': Y_test,\n",
    "                         'predicted_prob': y_pred5})\n",
    "print(confusion_matrix(Y_test,y_pred5))\n",
    "print(accuracy_score(Y_test,y_pred5))\n",
    "print(classification_report(Y_test,y_pred5))\n",
    "print('Total Test Count is', len(X_test_FselStd),' \\n Test failed count is - ',len(y_pred5_df.iloc[np.where(y_pred5_df['actual'] != y_pred5_df['predicted_prob'])]))\n",
    "accuracy5= accuracy_score(Y_test,y_pred5)*100\n",
    "precision5 = precision_score(Y_test,y_pred5, average='weighted')\n",
    "recall5 = recall_score(Y_test,y_pred5,average='weighted')\n",
    "f1_5 = f1_score(Y_test,y_pred5,average='weighted')\n",
    "roc_auc_5= roc_auc_score(Y_test,model4.predict_proba(X_test_FselStd),average = 'weighted',multi_class='ovo')#As we have target variable as multiclass(not multilabel )\n",
    "bal_model.loc[len(bal_model.index)] = ['NaiveBayes', accuracy5, precision5,recall5,f1_5,roc_auc_5]\n",
    "bal_model"
   ]
  },
  {
   "cell_type": "code",
   "execution_count": null,
   "metadata": {
    "colab": {
     "base_uri": "https://localhost:8080/"
    },
    "id": "l-5VNxuSY0ch",
    "outputId": "d5ed7c8f-7557-441c-c480-63a7dc5226f7"
   },
   "outputs": [],
   "source": [
    "#SVM grid search with imbalced data\n",
    "from sklearn import svm\n",
    "from sklearn.svm import SVC #suypport vector classifier\n",
    "kernel = ['rbf']\n",
    "gamma = [5,10,0.5]\n",
    "C = [10,0.5,0.001]\n",
    "param_grid = dict(kernel = kernel,gamma =gamma, C=C)\n",
    "model3 = SVC()\n",
    "grid = GridSearchCV(estimator=model3, param_grid=param_grid,cv = KFold(),verbose = 10)\n",
    "grid_result = grid.fit(rescalX,Y_train)\n",
    "print(grid.best_score_)\n",
    "print(grid.best_params_)\n",
    "\n"
   ]
  },
  {
   "cell_type": "code",
   "execution_count": null,
   "metadata": {
    "colab": {
     "base_uri": "https://localhost:8080/",
     "height": 515
    },
    "id": "HxcYjK3sY0e1",
    "outputId": "056063e8-20b6-4048-e3b7-ba00d7223fae"
   },
   "outputs": [],
   "source": [
    "#SVM with imbalced data\n",
    "model3 = SVC(kernel = 'rbf',gamma=5,C=10,probability=True)\n",
    "model3.fit(rescalX,Y_train)\n",
    "y_pred4 = model3.predict(X_test_FselStd)\n",
    "y_pred4_df= pd.DataFrame({'actual': Y_test,\n",
    "                         'predicted_prob': y_pred4})\n",
    "print(confusion_matrix(Y_test,y_pred4))\n",
    "print(accuracy_score(Y_test,y_pred4))\n",
    "print(classification_report(Y_test,y_pred4))\n",
    "print('Total Test Count is', len(X_test_FselStd),' \\n Test failed count is - ',len(y_pred4_df.iloc[np.where(y_pred4_df['actual'] != y_pred4_df['predicted_prob'])]))\n",
    "accuracy4= accuracy_score(Y_test,y_pred4)*100\n",
    "precision4 = precision_score(Y_test,y_pred4, average='weighted')\n",
    "recall4 = recall_score(Y_test,y_pred4,average='weighted')\n",
    "f1_4 = f1_score(Y_test,y_pred4,average='weighted')\n",
    "roc_auc_4= roc_auc_score(Y_test,model3.predict_proba(X_test_FselStd),average = 'weighted',multi_class='ovo')#As we have target variable as multiclass(not multilabel )\n",
    "imbalData_model.loc[len(imbalData_model.index)] = ['SVM', accuracy4, precision4,recall4,f1_4,roc_auc_4]\n",
    "imbalData_model"
   ]
  },
  {
   "cell_type": "code",
   "execution_count": null,
   "metadata": {
    "colab": {
     "base_uri": "https://localhost:8080/"
    },
    "id": "JceFVi0uY0iU",
    "outputId": "82c38676-41f2-4aa5-d84d-c55ef61b1d9e"
   },
   "outputs": [],
   "source": [
    "#SVM grid search with balanced data\n",
    "kernel = ['rbf']\n",
    "gamma = [5,10]\n",
    "C = [10,15]\n",
    "param_grid = dict(kernel = kernel,gamma =gamma, C=C)\n",
    "model3 = SVC()\n",
    "grid = GridSearchCV(estimator=model3, param_grid=param_grid,cv = KFold(),verbose = 10)\n",
    "grid_result = grid.fit(rescaledX,y_train_smote)\n",
    "print(grid.best_score_)\n",
    "print(grid.best_params_)\n",
    "\n"
   ]
  },
  {
   "cell_type": "code",
   "execution_count": null,
   "metadata": {
    "colab": {
     "base_uri": "https://localhost:8080/",
     "height": 515
    },
    "id": "L-DPSzPjzz35",
    "outputId": "b924b132-e47c-4150-ceb6-29935e42ce41"
   },
   "outputs": [],
   "source": [
    "#SVM with Balanced data\n",
    "model3 = SVC(kernel = 'rbf',gamma=5,C=15,probability=True)\n",
    "model3.fit(rescaledX,y_train_smote)\n",
    "y_pred4 = model3.predict(X_test_FselStd)\n",
    "y_pred4_df= pd.DataFrame({'actual': Y_test,\n",
    "                         'predicted_prob': y_pred4})\n",
    "print(confusion_matrix(Y_test,y_pred4))\n",
    "print(accuracy_score(Y_test,y_pred4))\n",
    "print(classification_report(Y_test,y_pred4))\n",
    "print('Total Test Count is', len(X_test_FselStd),' \\n Test failed count is - ',len(y_pred4_df.iloc[np.where(y_pred4_df['actual'] != y_pred4_df['predicted_prob'])]))\n",
    "accuracy4= accuracy_score(Y_test,y_pred4)*100\n",
    "precision4 = precision_score(Y_test,y_pred4, average='weighted')\n",
    "recall4 = recall_score(Y_test,y_pred4,average='weighted')\n",
    "f1_4 = f1_score(Y_test,y_pred4,average='weighted')\n",
    "roc_auc_4= roc_auc_score(Y_test,model3.predict_proba(X_test_FselStd),average = 'weighted',multi_class='ovo')#As we have target variable as multiclass(not multilabel )\n",
    "bal_model.loc[len(bal_model.index)] = ['SVM', accuracy4, precision4,recall4,f1_4,roc_auc_4]\n",
    "bal_model"
   ]
  },
  {
   "cell_type": "code",
   "execution_count": null,
   "metadata": {
    "colab": {
     "base_uri": "https://localhost:8080/",
     "height": 237
    },
    "id": "7ReMuchvz0KZ",
    "outputId": "ad05a46e-067a-49c7-c61f-07f0e9bb912c"
   },
   "outputs": [],
   "source": [
    "#Data frame with accurancy,f1 score, precission,recall and other parameters for the imbalaced data\n",
    "imbalData_model\n"
   ]
  },
  {
   "cell_type": "code",
   "execution_count": null,
   "metadata": {
    "colab": {
     "base_uri": "https://localhost:8080/",
     "height": 237
    },
    "id": "nxEcwZDUz0Mu",
    "outputId": "b99a1108-a3f5-4aee-9b17-0d0da1202e2a"
   },
   "outputs": [],
   "source": [
    "#Data frame with accurancy,f1 score, precission,recall  and other parameters for the balanced data\n",
    "bal_model"
   ]
  },
  {
   "cell_type": "code",
   "execution_count": null,
   "metadata": {
    "id": "DjtNTyWsz0P_"
   },
   "outputs": [],
   "source": [
    "#Selecting RandomForest model because of the hich accuracy,precision,recall,f1_score and high roc_auc_score compared to other models"
   ]
  }
 ],
 "metadata": {
  "colab": {
   "collapsed_sections": [],
   "name": "Impact_Prediction.ipynb",
   "provenance": []
  },
  "kernelspec": {
   "display_name": "Python 3",
   "language": "python",
   "name": "python3"
  },
  "language_info": {
   "codemirror_mode": {
    "name": "ipython",
    "version": 3
   },
   "file_extension": ".py",
   "mimetype": "text/x-python",
   "name": "python",
   "nbconvert_exporter": "python",
   "pygments_lexer": "ipython3",
   "version": "3.8.5"
  }
 },
 "nbformat": 4,
 "nbformat_minor": 1
}
